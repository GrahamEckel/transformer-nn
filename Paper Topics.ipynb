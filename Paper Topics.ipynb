{
 "cells": [
  {
   "cell_type": "code",
   "execution_count": 1,
   "metadata": {},
   "outputs": [],
   "source": [
    "import numpy as np # linear algebra\n",
    "import pandas as pd # data processing, CSV file I/O (e.g. pd.read_csv)\n",
    "import glob\n",
    "import json\n",
    "import matplotlib.pyplot as plt\n",
    "from tqdm import tqdm\n",
    "from langdetect import detect\n",
    "from langdetect import DetectorFactory\n",
    "from pprint import pprint\n",
    "import spacy\n",
    "from spacy.lang.en.stop_words import STOP_WORDS\n",
    "import en_core_sci_lg\n",
    "import os\n",
    "import gensim\n",
    "import gensim.corpora as corpora\n",
    "from gensim.models import ldamodel"
   ]
  },
  {
   "cell_type": "code",
   "execution_count": null,
   "metadata": {},
   "outputs": [],
   "source": [
    "with open(\"papers.json\", 'r', encoding='utf-8') as papers:\n",
    "    papers = json.load(f)"
   ]
  },
  {
   "cell_type": "code",
   "execution_count": null,
   "metadata": {},
   "outputs": [],
   "source": [
    "author_and_abstracts = {}\n",
    "with open(\"E:\\Data\\Kaggle-Covid\\\\authors\\\\authors_abstracts1.json\", 'r', encoding='utf-8') as author, open(\"E:/Data/Kaggle-Covid/papers/papers1.json\", 'r', encoding='utf-8') as papers:\n",
    "    authors = json.load(author)\n",
    "    papers = json.load(papers)\n",
    "    for authID in authors:\n",
    "        if 'authorId' in authID:\n",
    "            key = str(authID['authorId'])\n",
    "            author_and_abstracts.setdefault(key, [])\n",
    "            #print(\"finding ID:\", authID['authorId'])\n",
    "            for j in papers:\n",
    "                if j:\n",
    "                    try:        \n",
    "                        for k in j[\"authors\"]:\n",
    "                            if k[\"authorId\"] == key:\n",
    "                                author_and_abstracts[key].append(j[\"abstract\"])\n",
    "                            else:\n",
    "                                continue\n",
    "                    except:   \n",
    "                        #print the error message from sys\n",
    "                        print(\"error:\", sys.exc_info()[0])\n",
    "                else:\n",
    "                    continue\n",
    "        else:\n",
    "            continue"
   ]
  },
  {
   "cell_type": "code",
   "execution_count": null,
   "metadata": {},
   "outputs": [],
   "source": []
  },
  {
   "cell_type": "code",
   "execution_count": null,
   "metadata": {},
   "outputs": [],
   "source": []
  },
  {
   "cell_type": "code",
   "execution_count": null,
   "metadata": {},
   "outputs": [],
   "source": []
  },
  {
   "cell_type": "code",
   "execution_count": null,
   "metadata": {},
   "outputs": [],
   "source": []
  },
  {
   "cell_type": "code",
   "execution_count": null,
   "metadata": {},
   "outputs": [],
   "source": []
  },
  {
   "cell_type": "code",
   "execution_count": null,
   "metadata": {},
   "outputs": [],
   "source": []
  }
 ],
 "metadata": {
  "kernelspec": {
   "display_name": "Python 3",
   "language": "python",
   "name": "python3"
  },
  "language_info": {
   "codemirror_mode": {
    "name": "ipython",
    "version": 3
   },
   "file_extension": ".py",
   "mimetype": "text/x-python",
   "name": "python",
   "nbconvert_exporter": "python",
   "pygments_lexer": "ipython3",
   "version": "3.8.5"
  }
 },
 "nbformat": 4,
 "nbformat_minor": 4
}
