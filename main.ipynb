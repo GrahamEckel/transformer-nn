{
 "cells": [
  {
   "cell_type": "markdown",
   "metadata": {
    "id": "Isbu92y4wotj"
   },
   "source": [
    "# Setting Up"
   ]
  },
  {
   "cell_type": "code",
   "execution_count": null,
   "metadata": {
    "executionInfo": {
     "elapsed": 1180,
     "status": "ok",
     "timestamp": 1636560301282,
     "user": {
      "displayName": "Abdullah Al-Hayali",
      "photoUrl": "https://lh3.googleusercontent.com/a-/AOh14GgK_K6wHZSws-HNn245LDdwrHXRbD_gDyudUbqnIw=s64",
      "userId": "13392226524496428539"
     },
     "user_tz": 300
    },
    "id": "-nbvNWxGrOLI"
   },
   "outputs": [],
   "source": [
    "# update your credentials if needed\n",
    "!git config --global user.email \"abduallahw10@gmail.com\"\n",
    "!git config --global user.name \"Abdullah Al-Hayali\""
   ]
  },
  {
   "cell_type": "code",
   "execution_count": null,
   "metadata": {
    "colab": {
     "base_uri": "https://localhost:8080/"
    },
    "executionInfo": {
     "elapsed": 4629,
     "status": "ok",
     "timestamp": 1636560307218,
     "user": {
      "displayName": "Abdullah Al-Hayali",
      "photoUrl": "https://lh3.googleusercontent.com/a-/AOh14GgK_K6wHZSws-HNn245LDdwrHXRbD_gDyudUbqnIw=s64",
      "userId": "13392226524496428539"
     },
     "user_tz": 300
    },
    "id": "NV30BDR6wBQD",
    "outputId": "2fef5d4b-9d8b-4440-e2b4-77d235fc6e90"
   },
   "outputs": [],
   "source": [
    "# check that we're in the right repo, branch and that we are caught up\n",
    "!git status"
   ]
  },
  {
   "cell_type": "markdown",
   "metadata": {
    "id": "21zyxRtowk2l"
   },
   "source": [
    "# Data Loading"
   ]
  },
  {
   "cell_type": "code",
   "execution_count": null,
   "metadata": {
    "executionInfo": {
     "elapsed": 132,
     "status": "ok",
     "timestamp": 1636560311795,
     "user": {
      "displayName": "Abdullah Al-Hayali",
      "photoUrl": "https://lh3.googleusercontent.com/a-/AOh14GgK_K6wHZSws-HNn245LDdwrHXRbD_gDyudUbqnIw=s64",
      "userId": "13392226524496428539"
     },
     "user_tz": 300
    },
    "id": "BnTeqTKbu05j"
   },
   "outputs": [],
   "source": [
    "import numpy as np # linear algebra\n",
    "import pandas as pd # data processing, CSV file I/O (e.g. pd.read_csv)\n",
    "import glob\n",
    "import json\n",
    "\n",
    "import matplotlib.pyplot as plt"
   ]
  },
  {
   "cell_type": "code",
   "execution_count": null,
   "metadata": {
    "colab": {
     "base_uri": "https://localhost:8080/",
     "height": 598
    },
    "executionInfo": {
     "elapsed": 25262,
     "status": "ok",
     "timestamp": 1636560339580,
     "user": {
      "displayName": "Abdullah Al-Hayali",
      "photoUrl": "https://lh3.googleusercontent.com/a-/AOh14GgK_K6wHZSws-HNn245LDdwrHXRbD_gDyudUbqnIw=s64",
      "userId": "13392226524496428539"
     },
     "user_tz": 300
    },
    "id": "vAqm8fSvyY4v",
    "outputId": "febbc0ab-7b1f-43b1-fe32-9f41f1826c99",
    "scrolled": false
   },
   "outputs": [],
   "source": [
    "# Loading metadata\n",
    "\n",
    "root_path = \"C:\\My files\\Courses\\CIS6050\\Data\"\n",
    "metadata_path = f'{root_path}/metadata.csv'\n",
    "meta_df = pd.read_csv(metadata_path, dtype={\n",
    "    'pubmed_id': str,\n",
    "    'Microsoft Academic Paper ID': str, \n",
    "    'doi': str\n",
    "})\n",
    "meta_df.head()"
   ]
  },
  {
   "cell_type": "code",
   "execution_count": null,
   "metadata": {
    "colab": {
     "base_uri": "https://localhost:8080/"
    },
    "executionInfo": {
     "elapsed": 813,
     "status": "ok",
     "timestamp": 1636560474600,
     "user": {
      "displayName": "Abdullah Al-Hayali",
      "photoUrl": "https://lh3.googleusercontent.com/a-/AOh14GgK_K6wHZSws-HNn245LDdwrHXRbD_gDyudUbqnIw=s64",
      "userId": "13392226524496428539"
     },
     "user_tz": 300
    },
    "id": "6L4NtJdayy9H",
    "outputId": "550174c3-2a21-4e85-b087-2abc7f07a56b"
   },
   "outputs": [],
   "source": [
    "# Entries for each column in the DF\n",
    "\n",
    "meta_df.info()"
   ]
  },
  {
   "cell_type": "markdown",
   "metadata": {
    "id": "xKtW2pLcGotf"
   },
   "source": [
    "## Fetch JSON Files"
   ]
  },
  {
   "cell_type": "code",
   "execution_count": null,
   "metadata": {
    "colab": {
     "base_uri": "https://localhost:8080/"
    },
    "executionInfo": {
     "elapsed": 471417,
     "status": "ok",
     "timestamp": 1636558955978,
     "user": {
      "displayName": "Abdullah Al-Hayali",
      "photoUrl": "https://lh3.googleusercontent.com/a-/AOh14GgK_K6wHZSws-HNn245LDdwrHXRbD_gDyudUbqnIw=s64",
      "userId": "13392226524496428539"
     },
     "user_tz": 300
    },
    "id": "zaiM3_F3HBnR",
    "outputId": "3b02e43a-4159-4519-8367-298668697170"
   },
   "outputs": [],
   "source": [
    "all_json = glob.glob(f'{root_path}/**/*.json', recursive=True)\n",
    "len(all_json)"
   ]
  },
  {
   "cell_type": "code",
   "execution_count": null,
   "metadata": {
    "colab": {
     "base_uri": "https://localhost:8080/"
    },
    "executionInfo": {
     "elapsed": 4,
     "status": "ok",
     "timestamp": 1636477347598,
     "user": {
      "displayName": "Abdullah Al-Hayali",
      "photoUrl": "https://lh3.googleusercontent.com/a-/AOh14GgK_K6wHZSws-HNn245LDdwrHXRbD_gDyudUbqnIw=s64",
      "userId": "13392226524496428539"
     },
     "user_tz": 300
    },
    "id": "TO_LOxlZdoGo",
    "outputId": "e986f6d7-b01b-446c-ef4b-f988ee13b959"
   },
   "outputs": [],
   "source": [
    "all_json[:5]"
   ]
  },
  {
   "cell_type": "code",
   "execution_count": null,
   "metadata": {},
   "outputs": [],
   "source": [
    "all_json[0]"
   ]
  },
  {
   "cell_type": "code",
   "execution_count": null,
   "metadata": {
    "id": "_sRjNiuPo4ij",
    "scrolled": false
   },
   "outputs": [],
   "source": [
    "# File reader class\n",
    "\n",
    "class FileReader:\n",
    "    def __init__(self, file_path):\n",
    "        with open(file_path, 'r', encoding='utf-8') as file:\n",
    "            content = json.load(file)\n",
    "            self.paper_id = content['paper_id']\n",
    "            self.author_info = []\n",
    "            self.abstract = []\n",
    "            self.body_text = []\n",
    "            # Author\n",
    "            for entry in content['metadata']['authors']:\n",
    "                self.author_info.append(entry['first'])\n",
    "                self.author_info.append(entry['last'])\n",
    "#             print(self.author_info)\n",
    "            # Abstract\n",
    "            for entry in content['abstract']:\n",
    "                self.abstract.append(entry['text'])\n",
    "            # Body text\n",
    "            for entry in content['body_text']:\n",
    "                self.body_text.append(entry['text'])\n",
    "#             self.author_info = '\\n'.join(self.author_info)\n",
    "            self.abstract = '\\n'.join(self.abstract)\n",
    "            self.body_text = '\\n'.join(self.body_text)\n",
    "    def __repr__(self):\n",
    "        return f'AUTHOR: {self.author_info}; PAPER ID: {self.paper_id}; ABSTRACT: {self.abstract[:50]}; BODY TEXT: {self.body_text[:50]}'\n",
    "\n",
    "first_row = FileReader(all_json[2])\n",
    "print(first_row)"
   ]
  },
  {
   "cell_type": "code",
   "execution_count": null,
   "metadata": {},
   "outputs": [],
   "source": [
    "# Filter non-complying JSONS\n",
    "\n",
    "from tqdm import tqdm\n",
    "\n",
    "all_json_clean = list()\n",
    "\n",
    "for idx, content in tqdm(enumerate(all_json)):    \n",
    "    try:\n",
    "        content = FileReader(content)\n",
    "    except Exception as e:\n",
    "        continue  # invalid paper format, skip\n",
    "    \n",
    "    if len(content.abstract) == 0:\n",
    "        continue\n",
    "    \n",
    "    all_json_clean.append(all_json[idx])\n",
    "    \n",
    "all_json = all_json_clean\n",
    "len(all_json)"
   ]
  },
  {
   "cell_type": "code",
   "execution_count": null,
   "metadata": {
    "scrolled": true
   },
   "outputs": [],
   "source": [
    "new_jj = all_json[:]\n",
    "len(new_jj)"
   ]
  },
  {
   "cell_type": "code",
   "execution_count": null,
   "metadata": {},
   "outputs": [],
   "source": [
    "import os"
   ]
  },
  {
   "cell_type": "code",
   "execution_count": null,
   "metadata": {},
   "outputs": [],
   "source": [
    "# Return the longest prefix of all list elements.\n",
    "def commonprefix(m):\n",
    "    \"Given a list of pathnames, returns the longest common leading component\"\n",
    "    if not m: return ''\n",
    "    s1 = min(m)\n",
    "    s2 = max(m)\n",
    "    for i, c in enumerate(s1):\n",
    "        if c != s2[i]:\n",
    "            return s1[:i]\n",
    "    return s1"
   ]
  },
  {
   "cell_type": "code",
   "execution_count": null,
   "metadata": {},
   "outputs": [],
   "source": [
    "commonprefix(new_jj)"
   ]
  },
  {
   "cell_type": "code",
   "execution_count": null,
   "metadata": {},
   "outputs": [],
   "source": [
    "len(new_jj)"
   ]
  },
  {
   "cell_type": "code",
   "execution_count": null,
   "metadata": {},
   "outputs": [],
   "source": []
  },
  {
   "cell_type": "code",
   "execution_count": null,
   "metadata": {},
   "outputs": [],
   "source": [
    "df_test22 = pd.DataFrame(new_jj)\n",
    "df_test22.to_csv('Paths_JSON_clean.csv', index=False)"
   ]
  },
  {
   "cell_type": "markdown",
   "metadata": {},
   "source": [
    "# Pushing The Code"
   ]
  },
  {
   "cell_type": "code",
   "execution_count": null,
   "metadata": {},
   "outputs": [],
   "source": [
    "!git status"
   ]
  },
  {
   "cell_type": "code",
   "execution_count": null,
   "metadata": {},
   "outputs": [],
   "source": [
    "!git add ."
   ]
  },
  {
   "cell_type": "code",
   "execution_count": null,
   "metadata": {},
   "outputs": [],
   "source": [
    "!git commit -m \"Uploading data loaders\""
   ]
  },
  {
   "cell_type": "code",
   "execution_count": null,
   "metadata": {},
   "outputs": [],
   "source": [
    "!git status"
   ]
  },
  {
   "cell_type": "code",
   "execution_count": null,
   "metadata": {},
   "outputs": [],
   "source": [
    "!git push"
   ]
  },
  {
   "cell_type": "code",
   "execution_count": null,
   "metadata": {},
   "outputs": [],
   "source": []
  }
 ],
 "metadata": {
  "colab": {
   "collapsed_sections": [],
   "name": "main.ipynb",
   "provenance": []
  },
  "interpreter": {
   "hash": "01dcfc14ced2cd3f3ca8b1eab5863829d3299fc9b429a7e61faa3aaa90451b9a"
  },
  "kernelspec": {
   "display_name": "Python 3",
   "language": "python",
   "name": "python3"
  },
  "language_info": {
   "codemirror_mode": {
    "name": "ipython",
    "version": 3
   },
   "file_extension": ".py",
   "mimetype": "text/x-python",
   "name": "python",
   "nbconvert_exporter": "python",
   "pygments_lexer": "ipython3",
   "version": "3.8.8"
  }
 },
 "nbformat": 4,
 "nbformat_minor": 1
}
