{
 "cells": [
  {
   "cell_type": "code",
   "execution_count": null,
   "metadata": {
    "id": "8n-17sG1ZuGD"
   },
   "outputs": [],
   "source": [
    "#### useful commands ####\n",
    "# %pwd # the current drive location\n",
    "# %ls # list directories\n",
    "# %cd # change directory\n",
    "# !git status # tells you the status of your local branch (ahead/behind remote)\n",
    "# !git branch # tells you what branche you're on\n",
    "# !git branch {yourname}-working # creates branch named \"{yourname}-working\"\n",
    "# !git checkout {yourname}-working #checks out the branch \"{yourname}-working\""
   ]
  },
  {
   "cell_type": "code",
   "execution_count": null,
   "metadata": {
    "colab": {
     "base_uri": "https://localhost:8080/"
    },
    "executionInfo": {
     "elapsed": 17319,
     "status": "ok",
     "timestamp": 1634667305908,
     "user": {
      "displayName": "Abdullah Al-Hayali",
      "photoUrl": "https://lh3.googleusercontent.com/a-/AOh14GgK_K6wHZSws-HNn245LDdwrHXRbD_gDyudUbqnIw=s64",
      "userId": "13392226524496428539"
     },
     "user_tz": 240
    },
    "id": "suCPcUkOCbGF",
    "outputId": "6dc55cef-4bc6-4b5f-f7ce-1bb8238b5104"
   },
   "outputs": [],
   "source": [
    "# Mount Google Drive\n",
    "from google.colab import drive # import drive from google colab\n",
    "ROOT = \"/content/drive\"     # default location for the drive\n",
    "print(ROOT)                 # print content of ROOT (Optional)\n",
    "drive.mount(ROOT, force_remount=True)           # we mount the google drive at /content/drive"
   ]
  },
  {
   "cell_type": "code",
   "execution_count": null,
   "metadata": {
    "colab": {
     "base_uri": "https://localhost:8080/"
    },
    "executionInfo": {
     "elapsed": 3,
     "status": "ok",
     "timestamp": 1634667305908,
     "user": {
      "displayName": "Abdullah Al-Hayali",
      "photoUrl": "https://lh3.googleusercontent.com/a-/AOh14GgK_K6wHZSws-HNn245LDdwrHXRbD_gDyudUbqnIw=s64",
      "userId": "13392226524496428539"
     },
     "user_tz": 240
    },
    "id": "3epfMCYoPoUE",
    "outputId": "3016520e-1f27-421b-d837-58bf4a468615"
   },
   "outputs": [],
   "source": [
    "# copy path to the repo in Google Drive\n",
    "%cd \"/content/drive/MyDrive/CIS 6050/transformer-nn\"\n"
   ]
  },
  {
   "cell_type": "code",
   "execution_count": null,
   "metadata": {
    "executionInfo": {
     "elapsed": 1561,
     "status": "ok",
     "timestamp": 1634667307627,
     "user": {
      "displayName": "Abdullah Al-Hayali",
      "photoUrl": "https://lh3.googleusercontent.com/a-/AOh14GgK_K6wHZSws-HNn245LDdwrHXRbD_gDyudUbqnIw=s64",
      "userId": "13392226524496428539"
     },
     "user_tz": 240
    },
    "id": "F86vDEe3s5hY"
   },
   "outputs": [],
   "source": [
    "# update your credentials if needed\n",
    "!git config --global user.email \"abduallahw10@gmail.com\"\n",
    "!git config --global user.name \"Abdullah Al-Hayali\""
   ]
  },
  {
   "cell_type": "code",
   "execution_count": null,
   "metadata": {
    "colab": {
     "base_uri": "https://localhost:8080/"
    },
    "executionInfo": {
     "elapsed": 4308,
     "status": "ok",
     "timestamp": 1634667311932,
     "user": {
      "displayName": "Abdullah Al-Hayali",
      "photoUrl": "https://lh3.googleusercontent.com/a-/AOh14GgK_K6wHZSws-HNn245LDdwrHXRbD_gDyudUbqnIw=s64",
      "userId": "13392226524496428539"
     },
     "user_tz": 240
    },
    "id": "GJ0TghAmU-za",
    "outputId": "76d90831-d323-45e5-ed09-16ab91febb85"
   },
   "outputs": [],
   "source": [
    "# check that we're in the right repo, branch and that we are caught up\n",
    "!git status"
   ]
  },
  {
   "cell_type": "code",
   "execution_count": null,
   "metadata": {
    "executionInfo": {
     "elapsed": 641,
     "status": "ok",
     "timestamp": 1634667554038,
     "user": {
      "displayName": "Abdullah Al-Hayali",
      "photoUrl": "https://lh3.googleusercontent.com/a-/AOh14GgK_K6wHZSws-HNn245LDdwrHXRbD_gDyudUbqnIw=s64",
      "userId": "13392226524496428539"
     },
     "user_tz": 240
    },
    "id": "AupcGkqZx0uK"
   },
   "outputs": [],
   "source": [
    "!git add ."
   ]
  },
  {
   "cell_type": "code",
   "execution_count": null,
   "metadata": {
    "colab": {
     "base_uri": "https://localhost:8080/"
    },
    "executionInfo": {
     "elapsed": 5290,
     "status": "ok",
     "timestamp": 1634667561086,
     "user": {
      "displayName": "Abdullah Al-Hayali",
      "photoUrl": "https://lh3.googleusercontent.com/a-/AOh14GgK_K6wHZSws-HNn245LDdwrHXRbD_gDyudUbqnIw=s64",
      "userId": "13392226524496428539"
     },
     "user_tz": 240
    },
    "id": "oZTZ8hk5t8ck",
    "outputId": "ab9484d6-f4ce-4f38-f8dc-e685a06e1e58"
   },
   "outputs": [],
   "source": [
    "!git commit -m \"second commit\""
   ]
  },
  {
   "cell_type": "code",
   "execution_count": null,
   "metadata": {
    "colab": {
     "base_uri": "https://localhost:8080/"
    },
    "executionInfo": {
     "elapsed": 427,
     "status": "ok",
     "timestamp": 1634667561506,
     "user": {
      "displayName": "Abdullah Al-Hayali",
      "photoUrl": "https://lh3.googleusercontent.com/a-/AOh14GgK_K6wHZSws-HNn245LDdwrHXRbD_gDyudUbqnIw=s64",
      "userId": "13392226524496428539"
     },
     "user_tz": 240
    },
    "id": "uc53UXB7xV95",
    "outputId": "3222f735-0283-4280-bf8e-97ab1f1f2882"
   },
   "outputs": [],
   "source": [
    "!git pull"
   ]
  },
  {
   "cell_type": "code",
   "execution_count": null,
   "metadata": {
    "colab": {
     "base_uri": "https://localhost:8080/"
    },
    "executionInfo": {
     "elapsed": 1025,
     "status": "ok",
     "timestamp": 1634667562651,
     "user": {
      "displayName": "Abdullah Al-Hayali",
      "photoUrl": "https://lh3.googleusercontent.com/a-/AOh14GgK_K6wHZSws-HNn245LDdwrHXRbD_gDyudUbqnIw=s64",
      "userId": "13392226524496428539"
     },
     "user_tz": 240
    },
    "id": "aFlk7iV6xmYR",
    "outputId": "2c084288-f812-49c2-b1ae-651124584486"
   },
   "outputs": [],
   "source": [
    "!git push"
   ]
  },
  {
   "cell_type": "code",
   "execution_count": null,
   "metadata": {
    "id": "yj8oN_1sxoqY"
   },
   "outputs": [],
   "source": []
  }
 ],
 "metadata": {
  "colab": {
   "collapsed_sections": [],
   "name": "operations_git.ipynb",
   "provenance": []
  },
  "kernelspec": {
   "display_name": "Python 3",
   "language": "python",
   "name": "python3"
  },
  "language_info": {
   "codemirror_mode": {
    "name": "ipython",
    "version": 3
   },
   "file_extension": ".py",
   "mimetype": "text/x-python",
   "name": "python",
   "nbconvert_exporter": "python",
   "pygments_lexer": "ipython3",
   "version": "3.8.5"
  }
 },
 "nbformat": 4,
 "nbformat_minor": 1
}
