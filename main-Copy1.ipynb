{
 "cells": [
  {
   "cell_type": "markdown",
   "metadata": {
    "id": "Isbu92y4wotj"
   },
   "source": [
    "# Setting Up"
   ]
  },
  {
   "cell_type": "code",
   "execution_count": 1,
   "metadata": {
    "executionInfo": {
     "elapsed": 1180,
     "status": "ok",
     "timestamp": 1636560301282,
     "user": {
      "displayName": "Abdullah Al-Hayali",
      "photoUrl": "https://lh3.googleusercontent.com/a-/AOh14GgK_K6wHZSws-HNn245LDdwrHXRbD_gDyudUbqnIw=s64",
      "userId": "13392226524496428539"
     },
     "user_tz": 300
    },
    "id": "-nbvNWxGrOLI"
   },
   "outputs": [],
   "source": [
    "# update your credentials if needed\n",
    "!git config --global user.email \"abduallahw10@gmail.com\"\n",
    "!git config --global user.name \"Abdullah Al-Hayali\""
   ]
  },
  {
   "cell_type": "code",
   "execution_count": 2,
   "metadata": {
    "colab": {
     "base_uri": "https://localhost:8080/"
    },
    "executionInfo": {
     "elapsed": 4629,
     "status": "ok",
     "timestamp": 1636560307218,
     "user": {
      "displayName": "Abdullah Al-Hayali",
      "photoUrl": "https://lh3.googleusercontent.com/a-/AOh14GgK_K6wHZSws-HNn245LDdwrHXRbD_gDyudUbqnIw=s64",
      "userId": "13392226524496428539"
     },
     "user_tz": 300
    },
    "id": "NV30BDR6wBQD",
    "outputId": "2fef5d4b-9d8b-4440-e2b4-77d235fc6e90"
   },
   "outputs": [
    {
     "name": "stdout",
     "output_type": "stream",
     "text": [
      "On branch a_new\n",
      "Changes not staged for commit:\n",
      "  (use \"git add <file>...\" to update what will be committed)\n",
      "  (use \"git restore <file>...\" to discard changes in working directory)\n",
      "\tmodified:   main.ipynb\n",
      "\n",
      "no changes added to commit (use \"git add\" and/or \"git commit -a\")\n"
     ]
    }
   ],
   "source": [
    "# check that we're in the right repo, branch and that we are caught up\n",
    "!git status"
   ]
  },
  {
   "cell_type": "markdown",
   "metadata": {
    "id": "21zyxRtowk2l"
   },
   "source": [
    "# Data Loading"
   ]
  },
  {
   "cell_type": "code",
   "execution_count": 1,
   "metadata": {
    "executionInfo": {
     "elapsed": 132,
     "status": "ok",
     "timestamp": 1636560311795,
     "user": {
      "displayName": "Abdullah Al-Hayali",
      "photoUrl": "https://lh3.googleusercontent.com/a-/AOh14GgK_K6wHZSws-HNn245LDdwrHXRbD_gDyudUbqnIw=s64",
      "userId": "13392226524496428539"
     },
     "user_tz": 300
    },
    "id": "BnTeqTKbu05j"
   },
   "outputs": [],
   "source": [
    "import numpy as np # linear algebra\n",
    "import pandas as pd # data processing, CSV file I/O (e.g. pd.read_csv)\n",
    "import glob\n",
    "import json\n",
    "\n",
    "import matplotlib.pyplot as plt"
   ]
  },
  {
   "cell_type": "code",
   "execution_count": 2,
   "metadata": {
    "colab": {
     "base_uri": "https://localhost:8080/",
     "height": 598
    },
    "executionInfo": {
     "elapsed": 25262,
     "status": "ok",
     "timestamp": 1636560339580,
     "user": {
      "displayName": "Abdullah Al-Hayali",
      "photoUrl": "https://lh3.googleusercontent.com/a-/AOh14GgK_K6wHZSws-HNn245LDdwrHXRbD_gDyudUbqnIw=s64",
      "userId": "13392226524496428539"
     },
     "user_tz": 300
    },
    "id": "vAqm8fSvyY4v",
    "outputId": "febbc0ab-7b1f-43b1-fe32-9f41f1826c99",
    "scrolled": false
   },
   "outputs": [
    {
     "name": "stderr",
     "output_type": "stream",
     "text": [
      "C:\\ProgramData\\Anaconda3\\lib\\site-packages\\IPython\\core\\interactiveshell.py:3146: DtypeWarning: Columns (1,5,13,14,15,16) have mixed types.Specify dtype option on import or set low_memory=False.\n",
      "  has_raised = await self.run_ast_nodes(code_ast.body, cell_name,\n"
     ]
    },
    {
     "data": {
      "text/html": [
       "<div>\n",
       "<style scoped>\n",
       "    .dataframe tbody tr th:only-of-type {\n",
       "        vertical-align: middle;\n",
       "    }\n",
       "\n",
       "    .dataframe tbody tr th {\n",
       "        vertical-align: top;\n",
       "    }\n",
       "\n",
       "    .dataframe thead th {\n",
       "        text-align: right;\n",
       "    }\n",
       "</style>\n",
       "<table border=\"1\" class=\"dataframe\">\n",
       "  <thead>\n",
       "    <tr style=\"text-align: right;\">\n",
       "      <th></th>\n",
       "      <th>cord_uid</th>\n",
       "      <th>sha</th>\n",
       "      <th>source_x</th>\n",
       "      <th>title</th>\n",
       "      <th>doi</th>\n",
       "      <th>pmcid</th>\n",
       "      <th>pubmed_id</th>\n",
       "      <th>license</th>\n",
       "      <th>abstract</th>\n",
       "      <th>publish_time</th>\n",
       "      <th>authors</th>\n",
       "      <th>journal</th>\n",
       "      <th>mag_id</th>\n",
       "      <th>who_covidence_id</th>\n",
       "      <th>arxiv_id</th>\n",
       "      <th>pdf_json_files</th>\n",
       "      <th>pmc_json_files</th>\n",
       "      <th>url</th>\n",
       "      <th>s2_id</th>\n",
       "    </tr>\n",
       "  </thead>\n",
       "  <tbody>\n",
       "    <tr>\n",
       "      <th>0</th>\n",
       "      <td>ug7v899j</td>\n",
       "      <td>d1aafb70c066a2068b02786f8929fd9c900897fb</td>\n",
       "      <td>PMC</td>\n",
       "      <td>Clinical features of culture-proven Mycoplasma...</td>\n",
       "      <td>10.1186/1471-2334-1-6</td>\n",
       "      <td>PMC35282</td>\n",
       "      <td>11472636</td>\n",
       "      <td>no-cc</td>\n",
       "      <td>OBJECTIVE: This retrospective chart review des...</td>\n",
       "      <td>2001-07-04</td>\n",
       "      <td>Madani, Tariq A; Al-Ghamdi, Aisha A</td>\n",
       "      <td>BMC Infect Dis</td>\n",
       "      <td>NaN</td>\n",
       "      <td>NaN</td>\n",
       "      <td>NaN</td>\n",
       "      <td>document_parses/pdf_json/d1aafb70c066a2068b027...</td>\n",
       "      <td>document_parses/pmc_json/PMC35282.xml.json</td>\n",
       "      <td>https://www.ncbi.nlm.nih.gov/pmc/articles/PMC3...</td>\n",
       "      <td>NaN</td>\n",
       "    </tr>\n",
       "    <tr>\n",
       "      <th>1</th>\n",
       "      <td>02tnwd4m</td>\n",
       "      <td>6b0567729c2143a66d737eb0a2f63f2dce2e5a7d</td>\n",
       "      <td>PMC</td>\n",
       "      <td>Nitric oxide: a pro-inflammatory mediator in l...</td>\n",
       "      <td>10.1186/rr14</td>\n",
       "      <td>PMC59543</td>\n",
       "      <td>11667967</td>\n",
       "      <td>no-cc</td>\n",
       "      <td>Inflammatory diseases of the respiratory tract...</td>\n",
       "      <td>2000-08-15</td>\n",
       "      <td>Vliet, Albert van der; Eiserich, Jason P; Cros...</td>\n",
       "      <td>Respir Res</td>\n",
       "      <td>NaN</td>\n",
       "      <td>NaN</td>\n",
       "      <td>NaN</td>\n",
       "      <td>document_parses/pdf_json/6b0567729c2143a66d737...</td>\n",
       "      <td>document_parses/pmc_json/PMC59543.xml.json</td>\n",
       "      <td>https://www.ncbi.nlm.nih.gov/pmc/articles/PMC5...</td>\n",
       "      <td>NaN</td>\n",
       "    </tr>\n",
       "    <tr>\n",
       "      <th>2</th>\n",
       "      <td>ejv2xln0</td>\n",
       "      <td>06ced00a5fc04215949aa72528f2eeaae1d58927</td>\n",
       "      <td>PMC</td>\n",
       "      <td>Surfactant protein-D and pulmonary host defense</td>\n",
       "      <td>10.1186/rr19</td>\n",
       "      <td>PMC59549</td>\n",
       "      <td>11667972</td>\n",
       "      <td>no-cc</td>\n",
       "      <td>Surfactant protein-D (SP-D) participates in th...</td>\n",
       "      <td>2000-08-25</td>\n",
       "      <td>Crouch, Erika C</td>\n",
       "      <td>Respir Res</td>\n",
       "      <td>NaN</td>\n",
       "      <td>NaN</td>\n",
       "      <td>NaN</td>\n",
       "      <td>document_parses/pdf_json/06ced00a5fc04215949aa...</td>\n",
       "      <td>document_parses/pmc_json/PMC59549.xml.json</td>\n",
       "      <td>https://www.ncbi.nlm.nih.gov/pmc/articles/PMC5...</td>\n",
       "      <td>NaN</td>\n",
       "    </tr>\n",
       "    <tr>\n",
       "      <th>3</th>\n",
       "      <td>2b73a28n</td>\n",
       "      <td>348055649b6b8cf2b9a376498df9bf41f7123605</td>\n",
       "      <td>PMC</td>\n",
       "      <td>Role of endothelin-1 in lung disease</td>\n",
       "      <td>10.1186/rr44</td>\n",
       "      <td>PMC59574</td>\n",
       "      <td>11686871</td>\n",
       "      <td>no-cc</td>\n",
       "      <td>Endothelin-1 (ET-1) is a 21 amino acid peptide...</td>\n",
       "      <td>2001-02-22</td>\n",
       "      <td>Fagan, Karen A; McMurtry, Ivan F; Rodman, David M</td>\n",
       "      <td>Respir Res</td>\n",
       "      <td>NaN</td>\n",
       "      <td>NaN</td>\n",
       "      <td>NaN</td>\n",
       "      <td>document_parses/pdf_json/348055649b6b8cf2b9a37...</td>\n",
       "      <td>document_parses/pmc_json/PMC59574.xml.json</td>\n",
       "      <td>https://www.ncbi.nlm.nih.gov/pmc/articles/PMC5...</td>\n",
       "      <td>NaN</td>\n",
       "    </tr>\n",
       "    <tr>\n",
       "      <th>4</th>\n",
       "      <td>9785vg6d</td>\n",
       "      <td>5f48792a5fa08bed9f56016f4981ae2ca6031b32</td>\n",
       "      <td>PMC</td>\n",
       "      <td>Gene expression in epithelial cells in respons...</td>\n",
       "      <td>10.1186/rr61</td>\n",
       "      <td>PMC59580</td>\n",
       "      <td>11686888</td>\n",
       "      <td>no-cc</td>\n",
       "      <td>Respiratory syncytial virus (RSV) and pneumoni...</td>\n",
       "      <td>2001-05-11</td>\n",
       "      <td>Domachowske, Joseph B; Bonville, Cynthia A; Ro...</td>\n",
       "      <td>Respir Res</td>\n",
       "      <td>NaN</td>\n",
       "      <td>NaN</td>\n",
       "      <td>NaN</td>\n",
       "      <td>document_parses/pdf_json/5f48792a5fa08bed9f560...</td>\n",
       "      <td>document_parses/pmc_json/PMC59580.xml.json</td>\n",
       "      <td>https://www.ncbi.nlm.nih.gov/pmc/articles/PMC5...</td>\n",
       "      <td>NaN</td>\n",
       "    </tr>\n",
       "  </tbody>\n",
       "</table>\n",
       "</div>"
      ],
      "text/plain": [
       "   cord_uid                                       sha source_x  \\\n",
       "0  ug7v899j  d1aafb70c066a2068b02786f8929fd9c900897fb      PMC   \n",
       "1  02tnwd4m  6b0567729c2143a66d737eb0a2f63f2dce2e5a7d      PMC   \n",
       "2  ejv2xln0  06ced00a5fc04215949aa72528f2eeaae1d58927      PMC   \n",
       "3  2b73a28n  348055649b6b8cf2b9a376498df9bf41f7123605      PMC   \n",
       "4  9785vg6d  5f48792a5fa08bed9f56016f4981ae2ca6031b32      PMC   \n",
       "\n",
       "                                               title                    doi  \\\n",
       "0  Clinical features of culture-proven Mycoplasma...  10.1186/1471-2334-1-6   \n",
       "1  Nitric oxide: a pro-inflammatory mediator in l...           10.1186/rr14   \n",
       "2    Surfactant protein-D and pulmonary host defense           10.1186/rr19   \n",
       "3               Role of endothelin-1 in lung disease           10.1186/rr44   \n",
       "4  Gene expression in epithelial cells in respons...           10.1186/rr61   \n",
       "\n",
       "      pmcid pubmed_id license  \\\n",
       "0  PMC35282  11472636   no-cc   \n",
       "1  PMC59543  11667967   no-cc   \n",
       "2  PMC59549  11667972   no-cc   \n",
       "3  PMC59574  11686871   no-cc   \n",
       "4  PMC59580  11686888   no-cc   \n",
       "\n",
       "                                            abstract publish_time  \\\n",
       "0  OBJECTIVE: This retrospective chart review des...   2001-07-04   \n",
       "1  Inflammatory diseases of the respiratory tract...   2000-08-15   \n",
       "2  Surfactant protein-D (SP-D) participates in th...   2000-08-25   \n",
       "3  Endothelin-1 (ET-1) is a 21 amino acid peptide...   2001-02-22   \n",
       "4  Respiratory syncytial virus (RSV) and pneumoni...   2001-05-11   \n",
       "\n",
       "                                             authors         journal  mag_id  \\\n",
       "0                Madani, Tariq A; Al-Ghamdi, Aisha A  BMC Infect Dis     NaN   \n",
       "1  Vliet, Albert van der; Eiserich, Jason P; Cros...      Respir Res     NaN   \n",
       "2                                    Crouch, Erika C      Respir Res     NaN   \n",
       "3  Fagan, Karen A; McMurtry, Ivan F; Rodman, David M      Respir Res     NaN   \n",
       "4  Domachowske, Joseph B; Bonville, Cynthia A; Ro...      Respir Res     NaN   \n",
       "\n",
       "  who_covidence_id arxiv_id  \\\n",
       "0              NaN      NaN   \n",
       "1              NaN      NaN   \n",
       "2              NaN      NaN   \n",
       "3              NaN      NaN   \n",
       "4              NaN      NaN   \n",
       "\n",
       "                                      pdf_json_files  \\\n",
       "0  document_parses/pdf_json/d1aafb70c066a2068b027...   \n",
       "1  document_parses/pdf_json/6b0567729c2143a66d737...   \n",
       "2  document_parses/pdf_json/06ced00a5fc04215949aa...   \n",
       "3  document_parses/pdf_json/348055649b6b8cf2b9a37...   \n",
       "4  document_parses/pdf_json/5f48792a5fa08bed9f560...   \n",
       "\n",
       "                               pmc_json_files  \\\n",
       "0  document_parses/pmc_json/PMC35282.xml.json   \n",
       "1  document_parses/pmc_json/PMC59543.xml.json   \n",
       "2  document_parses/pmc_json/PMC59549.xml.json   \n",
       "3  document_parses/pmc_json/PMC59574.xml.json   \n",
       "4  document_parses/pmc_json/PMC59580.xml.json   \n",
       "\n",
       "                                                 url  s2_id  \n",
       "0  https://www.ncbi.nlm.nih.gov/pmc/articles/PMC3...    NaN  \n",
       "1  https://www.ncbi.nlm.nih.gov/pmc/articles/PMC5...    NaN  \n",
       "2  https://www.ncbi.nlm.nih.gov/pmc/articles/PMC5...    NaN  \n",
       "3  https://www.ncbi.nlm.nih.gov/pmc/articles/PMC5...    NaN  \n",
       "4  https://www.ncbi.nlm.nih.gov/pmc/articles/PMC5...    NaN  "
      ]
     },
     "execution_count": 2,
     "metadata": {},
     "output_type": "execute_result"
    }
   ],
   "source": [
    "# Loading metadata\n",
    "\n",
    "root_path = \"C:\\My files\\Courses\\CIS6050\\Data\"\n",
    "metadata_path = f'{root_path}/metadata.csv'\n",
    "meta_df = pd.read_csv(metadata_path, dtype={\n",
    "    'pubmed_id': str,\n",
    "    'Microsoft Academic Paper ID': str, \n",
    "    'doi': str\n",
    "})\n",
    "meta_df.head()"
   ]
  },
  {
   "cell_type": "code",
   "execution_count": 7,
   "metadata": {
    "colab": {
     "base_uri": "https://localhost:8080/"
    },
    "executionInfo": {
     "elapsed": 813,
     "status": "ok",
     "timestamp": 1636560474600,
     "user": {
      "displayName": "Abdullah Al-Hayali",
      "photoUrl": "https://lh3.googleusercontent.com/a-/AOh14GgK_K6wHZSws-HNn245LDdwrHXRbD_gDyudUbqnIw=s64",
      "userId": "13392226524496428539"
     },
     "user_tz": 300
    },
    "id": "6L4NtJdayy9H",
    "outputId": "550174c3-2a21-4e85-b087-2abc7f07a56b"
   },
   "outputs": [
    {
     "name": "stdout",
     "output_type": "stream",
     "text": [
      "<class 'pandas.core.frame.DataFrame'>\n",
      "RangeIndex: 822279 entries, 0 to 822278\n",
      "Data columns (total 19 columns):\n",
      " #   Column            Non-Null Count   Dtype  \n",
      "---  ------            --------------   -----  \n",
      " 0   cord_uid          822279 non-null  object \n",
      " 1   sha               273415 non-null  object \n",
      " 2   source_x          822279 non-null  object \n",
      " 3   title             821855 non-null  object \n",
      " 4   doi               450166 non-null  object \n",
      " 5   pmcid             283183 non-null  object \n",
      " 6   pubmed_id         368432 non-null  object \n",
      " 7   license           822279 non-null  object \n",
      " 8   abstract          615624 non-null  object \n",
      " 9   publish_time      822043 non-null  object \n",
      " 10  authors           803313 non-null  object \n",
      " 11  journal           769703 non-null  object \n",
      " 12  mag_id            0 non-null       float64\n",
      " 13  who_covidence_id  382148 non-null  object \n",
      " 14  arxiv_id          10765 non-null   object \n",
      " 15  pdf_json_files    273415 non-null  object \n",
      " 16  pmc_json_files    225681 non-null  object \n",
      " 17  url               476435 non-null  object \n",
      " 18  s2_id             760452 non-null  float64\n",
      "dtypes: float64(2), object(17)\n",
      "memory usage: 119.2+ MB\n"
     ]
    }
   ],
   "source": [
    "# Entries for each column in the DF\n",
    "\n",
    "meta_df.info()"
   ]
  },
  {
   "cell_type": "markdown",
   "metadata": {
    "id": "xKtW2pLcGotf"
   },
   "source": [
    "## Fetch JSON Files"
   ]
  },
  {
   "cell_type": "code",
   "execution_count": 8,
   "metadata": {
    "colab": {
     "base_uri": "https://localhost:8080/"
    },
    "executionInfo": {
     "elapsed": 471417,
     "status": "ok",
     "timestamp": 1636558955978,
     "user": {
      "displayName": "Abdullah Al-Hayali",
      "photoUrl": "https://lh3.googleusercontent.com/a-/AOh14GgK_K6wHZSws-HNn245LDdwrHXRbD_gDyudUbqnIw=s64",
      "userId": "13392226524496428539"
     },
     "user_tz": 300
    },
    "id": "zaiM3_F3HBnR",
    "outputId": "3b02e43a-4159-4519-8367-298668697170"
   },
   "outputs": [
    {
     "data": {
      "text/plain": [
       "517904"
      ]
     },
     "execution_count": 8,
     "metadata": {},
     "output_type": "execute_result"
    }
   ],
   "source": [
    "all_json = glob.glob(f'{root_path}/**/*.json', recursive=True)\n",
    "len(all_json)"
   ]
  },
  {
   "cell_type": "code",
   "execution_count": 9,
   "metadata": {
    "colab": {
     "base_uri": "https://localhost:8080/"
    },
    "executionInfo": {
     "elapsed": 4,
     "status": "ok",
     "timestamp": 1636477347598,
     "user": {
      "displayName": "Abdullah Al-Hayali",
      "photoUrl": "https://lh3.googleusercontent.com/a-/AOh14GgK_K6wHZSws-HNn245LDdwrHXRbD_gDyudUbqnIw=s64",
      "userId": "13392226524496428539"
     },
     "user_tz": 300
    },
    "id": "TO_LOxlZdoGo",
    "outputId": "e986f6d7-b01b-446c-ef4b-f988ee13b959"
   },
   "outputs": [
    {
     "data": {
      "text/plain": [
       "['C:\\\\My files\\\\Courses\\\\CIS6050\\\\Data\\\\document_parses\\\\pdf_json\\\\0000028b5cc154f68b8a269f6578f21e31f62977.json',\n",
       " 'C:\\\\My files\\\\Courses\\\\CIS6050\\\\Data\\\\document_parses\\\\pdf_json\\\\0000b6da665726420ab8ac9246d526f2f44d5943.json',\n",
       " 'C:\\\\My files\\\\Courses\\\\CIS6050\\\\Data\\\\document_parses\\\\pdf_json\\\\0000b93c66f991236db92dc16fa6db119b27ca12.json',\n",
       " 'C:\\\\My files\\\\Courses\\\\CIS6050\\\\Data\\\\document_parses\\\\pdf_json\\\\0000fcce604204b1b9d876dc073eb529eb5ce305.json',\n",
       " 'C:\\\\My files\\\\Courses\\\\CIS6050\\\\Data\\\\document_parses\\\\pdf_json\\\\000122a9a774ec76fa35ec0c0f6734e7e8d0c541.json']"
      ]
     },
     "execution_count": 9,
     "metadata": {},
     "output_type": "execute_result"
    }
   ],
   "source": [
    "all_json[:5]"
   ]
  },
  {
   "cell_type": "code",
   "execution_count": 10,
   "metadata": {},
   "outputs": [
    {
     "data": {
      "text/plain": [
       "'C:\\\\My files\\\\Courses\\\\CIS6050\\\\Data\\\\document_parses\\\\pdf_json\\\\0000028b5cc154f68b8a269f6578f21e31f62977.json'"
      ]
     },
     "execution_count": 10,
     "metadata": {},
     "output_type": "execute_result"
    }
   ],
   "source": [
    "all_json[0]"
   ]
  },
  {
   "cell_type": "code",
   "execution_count": 11,
   "metadata": {
    "id": "_sRjNiuPo4ij",
    "scrolled": false
   },
   "outputs": [
    {
     "name": "stdout",
     "output_type": "stream",
     "text": [
      "AUTHOR: ['Biju', 'George', 'Sanjay', 'Bhattacharya']; PAPER ID: 0000b93c66f991236db92dc16fa6db119b27ca12; ABSTRACT: ; BODY TEXT: Infections are an important cause of morbidity, mo\n"
     ]
    }
   ],
   "source": [
    "# File reader class\n",
    "\n",
    "class FileReader:\n",
    "    def __init__(self, file_path):\n",
    "        with open(file_path, 'r', encoding='utf-8') as file:\n",
    "            content = json.load(file)\n",
    "            self.paper_id = content['paper_id']\n",
    "            self.author_info = []\n",
    "            self.abstract = []\n",
    "            self.body_text = []\n",
    "            # Author\n",
    "            for entry in content['metadata']['authors']:\n",
    "                self.author_info.append(entry['first'])\n",
    "                self.author_info.append(entry['last'])\n",
    "#             print(self.author_info)\n",
    "            # Abstract\n",
    "            for entry in content['abstract']:\n",
    "                self.abstract.append(entry['text'])\n",
    "            # Body text\n",
    "            for entry in content['body_text']:\n",
    "                self.body_text.append(entry['text'])\n",
    "#             self.author_info = '\\n'.join(self.author_info)\n",
    "            self.abstract = '\\n'.join(self.abstract)\n",
    "            self.body_text = '\\n'.join(self.body_text)\n",
    "    def __repr__(self):\n",
    "        return f'AUTHOR: {self.author_info}; PAPER ID: {self.paper_id}; ABSTRACT: {self.abstract[:50]}; BODY TEXT: {self.body_text[:50]}'\n",
    "\n",
    "first_row = FileReader(all_json[2])\n",
    "print(first_row)"
   ]
  },
  {
   "cell_type": "code",
   "execution_count": null,
   "metadata": {},
   "outputs": [],
   "source": [
    "# Filter non-complying JSONS\n",
    "\n",
    "from tqdm import tqdm\n",
    "\n",
    "all_json_clean = list()\n",
    "\n",
    "for idx, content in tqdm(enumerate(all_json)):    \n",
    "    try:\n",
    "        content = FileReader(content)\n",
    "    except Exception as e:\n",
    "        continue  # invalid paper format, skip\n",
    "    \n",
    "    if len(content.abstract) == 0:\n",
    "        continue\n",
    "    \n",
    "    all_json_clean.append(all_json[idx])\n",
    "    \n",
    "all_json = all_json_clean\n",
    "len(all_json)"
   ]
  },
  {
   "cell_type": "code",
   "execution_count": null,
   "metadata": {},
   "outputs": [],
   "source": [
    "from tqdm import tqdm\n",
    "dict_ = {'paper_id': [], 'doi':[], 'abstract': [], 'authors': [], \n",
    "         'title': [], 'journal': []}\n",
    "for idx, entry in tqdm(enumerate(all_json), total = len(all_json)):\n",
    "    \n",
    "    try:\n",
    "        content = FileReader(entry)\n",
    "    except Exception as e:\n",
    "        continue  # invalid paper format, skip\n",
    "    \n",
    "    # get metadata information\n",
    "    meta_data = meta_df.loc[meta_df['sha'] == content.paper_id]\n",
    "    # no metadata, skip this paper\n",
    "    if len(meta_data) == 0:\n",
    "        continue\n",
    "    if len(content.body_text) == 0:\n",
    "        continue\n",
    "    dict_['abstract'].append(content.abstract)\n",
    "    dict_['paper_id'].append(content.paper_id)\n",
    "                \n",
    "    try:\n",
    "        # if more than one author\n",
    "        authors = meta_data['authors'].values[0].split(';')\n",
    "\n",
    "        dict_['authors'].append(\". \".join(authors))\n",
    "    except Exception as e:\n",
    "        # if only one author - or Null\n",
    "        dict_['authors'].append(meta_data['authors'].values[0])\n",
    "    \n",
    "    # add title\n",
    "    dict_['title'].append(meta_data['title'].values[0])\n",
    "    \n",
    "    # add the journal information\n",
    "    dict_['journal'].append(meta_data['journal'].values[0])\n",
    "    \n",
    "    # add doi\n",
    "    dict_['doi'].append(meta_data['doi'].values[0])\n",
    "    \n",
    "df_covid = pd.DataFrame(dict_, columns=['paper_id', 'doi', 'abstract', 'authors',\n",
    "                                        'title', 'journal'])\n",
    "df_covid.head()"
   ]
  },
  {
   "cell_type": "code",
   "execution_count": 12,
   "metadata": {},
   "outputs": [],
   "source": [
    "df_covid = pd.read_csv(\"C:\\My files\\Courses\\CIS6050\\mod_df.csv\")"
   ]
  },
  {
   "cell_type": "code",
   "execution_count": 13,
   "metadata": {},
   "outputs": [
    {
     "name": "stdout",
     "output_type": "stream",
     "text": [
      "<class 'pandas.core.frame.DataFrame'>\n",
      "RangeIndex: 181580 entries, 0 to 181579\n",
      "Data columns (total 6 columns):\n",
      " #   Column    Non-Null Count   Dtype \n",
      "---  ------    --------------   ----- \n",
      " 0   paper_id  181580 non-null  object\n",
      " 1   doi       172525 non-null  object\n",
      " 2   abstract  181579 non-null  object\n",
      " 3   authors   180646 non-null  object\n",
      " 4   title     181580 non-null  object\n",
      " 5   journal   159444 non-null  object\n",
      "dtypes: object(6)\n",
      "memory usage: 8.3+ MB\n"
     ]
    }
   ],
   "source": [
    "df_covid.info()"
   ]
  },
  {
   "cell_type": "code",
   "execution_count": 14,
   "metadata": {},
   "outputs": [],
   "source": [
    "df_covid.dropna(inplace=True)"
   ]
  },
  {
   "cell_type": "code",
   "execution_count": 15,
   "metadata": {},
   "outputs": [
    {
     "name": "stdout",
     "output_type": "stream",
     "text": [
      "<class 'pandas.core.frame.DataFrame'>\n",
      "Int64Index: 158167 entries, 0 to 181579\n",
      "Data columns (total 6 columns):\n",
      " #   Column    Non-Null Count   Dtype \n",
      "---  ------    --------------   ----- \n",
      " 0   paper_id  158167 non-null  object\n",
      " 1   doi       158167 non-null  object\n",
      " 2   abstract  158167 non-null  object\n",
      " 3   authors   158167 non-null  object\n",
      " 4   title     158167 non-null  object\n",
      " 5   journal   158167 non-null  object\n",
      "dtypes: object(6)\n",
      "memory usage: 8.4+ MB\n"
     ]
    }
   ],
   "source": [
    "df_covid.info()"
   ]
  },
  {
   "cell_type": "markdown",
   "metadata": {},
   "source": [
    "### NOTE:\n",
    "\n",
    "The data isn't only English! here's the breakdown (https://www.kaggle.com/allen-institute-for-ai/CORD-19-research-challenge/discussion/139146):\n",
    "\n",
    "('en', 28575),\n",
    "('fr', 323),\n",
    "('es', 281),\n",
    "('de', 54),\n",
    "('it', 19),"
   ]
  },
  {
   "cell_type": "code",
   "execution_count": 3,
   "metadata": {},
   "outputs": [],
   "source": [
    "from langdetect import detect\n",
    "from langdetect import DetectorFactory\n",
    "from tqdm import tqdm"
   ]
  },
  {
   "cell_type": "code",
   "execution_count": 19,
   "metadata": {},
   "outputs": [
    {
     "name": "stderr",
     "output_type": "stream",
     "text": [
      "100%|███████████████████████████████████████████████████████████████████████████████████| 158167/158167 [10:51<00:00, 242.64it/s]\n"
     ]
    }
   ],
   "source": [
    "# set seed\n",
    "DetectorFactory.seed = 0\n",
    "\n",
    "# hold label - language\n",
    "languages = []\n",
    "\n",
    "# go through each text\n",
    "for ii in tqdm(range(0,len(df_covid))):\n",
    "    # split by space into list, take the first x intex, join with space\n",
    "    text = df_covid.iloc[ii]['abstract'].split(\" \")\n",
    "    \n",
    "    lang = \"en\"\n",
    "    try:\n",
    "        if len(text) > 50:\n",
    "            lang = detect(\" \".join(text[:50]))\n",
    "        elif len(text) > 0:\n",
    "            lang = detect(\" \".join(text[:len(text)]))\n",
    "    # ught... beginning of the document was not in a good format\n",
    "    except Exception as e:\n",
    "        all_words = set(text)\n",
    "        try:\n",
    "            lang = detect(\" \".join(all_words))\n",
    "        # what!! :( let's see if we can find any text in abstract...\n",
    "        except Exception as e:\n",
    "            \n",
    "            try:\n",
    "                # let's try to label it through the abstract then\n",
    "                lang = detect(df_covid.iloc[ii]['abstract'])\n",
    "            except Exception as e:\n",
    "                lang = \"unknown\"\n",
    "                pass\n",
    "    \n",
    "    # get the language    \n",
    "    languages.append(lang)"
   ]
  },
  {
   "cell_type": "code",
   "execution_count": 20,
   "metadata": {},
   "outputs": [
    {
     "name": "stdout",
     "output_type": "stream",
     "text": [
      "Total: 158167\n",
      "\n",
      "{'af': 19,\n",
      " 'ar': 20,\n",
      " 'ca': 85,\n",
      " 'cs': 12,\n",
      " 'cy': 295,\n",
      " 'da': 4,\n",
      " 'de': 1316,\n",
      " 'el': 1,\n",
      " 'en': 153558,\n",
      " 'es': 784,\n",
      " 'et': 26,\n",
      " 'fi': 12,\n",
      " 'fr': 374,\n",
      " 'hr': 30,\n",
      " 'hu': 22,\n",
      " 'id': 169,\n",
      " 'it': 563,\n",
      " 'ja': 1,\n",
      " 'lt': 10,\n",
      " 'lv': 1,\n",
      " 'nl': 121,\n",
      " 'no': 4,\n",
      " 'pl': 172,\n",
      " 'pt': 180,\n",
      " 'ro': 71,\n",
      " 'ru': 1,\n",
      " 'sk': 14,\n",
      " 'sl': 46,\n",
      " 'so': 12,\n",
      " 'sq': 5,\n",
      " 'sv': 8,\n",
      " 'sw': 29,\n",
      " 'tl': 38,\n",
      " 'tr': 19,\n",
      " 'unknown': 140,\n",
      " 'vi': 5}\n"
     ]
    }
   ],
   "source": [
    "from pprint import pprint\n",
    "\n",
    "languages_dict = {}\n",
    "for lang in set(languages):\n",
    "    languages_dict[lang] = languages.count(lang)\n",
    "    \n",
    "print(\"Total: {}\\n\".format(len(languages)))\n",
    "pprint(languages_dict)"
   ]
  },
  {
   "cell_type": "code",
   "execution_count": 21,
   "metadata": {},
   "outputs": [
    {
     "name": "stdout",
     "output_type": "stream",
     "text": [
      "<class 'pandas.core.frame.DataFrame'>\n",
      "Int64Index: 153558 entries, 0 to 181579\n",
      "Data columns (total 7 columns):\n",
      " #   Column    Non-Null Count   Dtype \n",
      "---  ------    --------------   ----- \n",
      " 0   paper_id  153558 non-null  object\n",
      " 1   doi       153558 non-null  object\n",
      " 2   abstract  153558 non-null  object\n",
      " 3   authors   153558 non-null  object\n",
      " 4   title     153558 non-null  object\n",
      " 5   journal   153558 non-null  object\n",
      " 6   language  153558 non-null  object\n",
      "dtypes: object(7)\n",
      "memory usage: 9.4+ MB\n"
     ]
    }
   ],
   "source": [
    "df_covid['language'] = languages\n",
    "df_covid = df_covid[df_covid['language'] == 'en'] \n",
    "df_covid.info()"
   ]
  },
  {
   "cell_type": "markdown",
   "metadata": {},
   "source": [
    "# In case of reloading, START HERE and load clean_df.csv"
   ]
  },
  {
   "cell_type": "code",
   "execution_count": 4,
   "metadata": {},
   "outputs": [],
   "source": [
    "import spacy\n",
    "from spacy.lang.en.stop_words import STOP_WORDS\n",
    "import en_core_sci_lg"
   ]
  },
  {
   "cell_type": "code",
   "execution_count": 4,
   "metadata": {},
   "outputs": [],
   "source": [
    "df_covid=pd.read_csv(\"C:\\My files\\Courses\\CIS6050\\clean_df.csv\")"
   ]
  },
  {
   "cell_type": "code",
   "execution_count": 5,
   "metadata": {},
   "outputs": [
    {
     "data": {
      "text/html": [
       "<div>\n",
       "<style scoped>\n",
       "    .dataframe tbody tr th:only-of-type {\n",
       "        vertical-align: middle;\n",
       "    }\n",
       "\n",
       "    .dataframe tbody tr th {\n",
       "        vertical-align: top;\n",
       "    }\n",
       "\n",
       "    .dataframe thead th {\n",
       "        text-align: right;\n",
       "    }\n",
       "</style>\n",
       "<table border=\"1\" class=\"dataframe\">\n",
       "  <thead>\n",
       "    <tr style=\"text-align: right;\">\n",
       "      <th></th>\n",
       "      <th>paper_id</th>\n",
       "      <th>doi</th>\n",
       "      <th>abstract</th>\n",
       "      <th>authors</th>\n",
       "      <th>title</th>\n",
       "      <th>journal</th>\n",
       "      <th>language</th>\n",
       "    </tr>\n",
       "  </thead>\n",
       "  <tbody>\n",
       "    <tr>\n",
       "      <th>0</th>\n",
       "      <td>0000b6da665726420ab8ac9246d526f2f44d5943</td>\n",
       "      <td>10.1002/lio2.665</td>\n",
       "      <td>Objective: An at home-test for differentiating...</td>\n",
       "      <td>Yang, Alex.  Lewis, Robert J..  Watson, Nora. ...</td>\n",
       "      <td>The cell phone vibration test: A telemedicine ...</td>\n",
       "      <td>Laryngoscope Investig Otolaryngol</td>\n",
       "      <td>en</td>\n",
       "    </tr>\n",
       "    <tr>\n",
       "      <th>1</th>\n",
       "      <td>000122a9a774ec76fa35ec0c0f6734e7e8d0c541</td>\n",
       "      <td>10.1016/j.rec.2020.08.002</td>\n",
       "      <td>Introduction and objectives: The COVID-19 outb...</td>\n",
       "      <td>Rodríguez-Leor, Oriol.  Cid-Álvarez, Belén.  P...</td>\n",
       "      <td>Impact of COVID-19 on ST-segment elevation myo...</td>\n",
       "      <td>Rev Esp Cardiol (Engl Ed)</td>\n",
       "      <td>en</td>\n",
       "    </tr>\n",
       "    <tr>\n",
       "      <th>2</th>\n",
       "      <td>00013694fb8095bb818b64346f791a5419d97c88</td>\n",
       "      <td>10.1007/s43545-021-00122-9</td>\n",
       "      <td>Prolonged Covid-19-related school closures in ...</td>\n",
       "      <td>Canovan, Cherry.  Fallon, Naomi</td>\n",
       "      <td>Widening the divide: the impact of school clos...</td>\n",
       "      <td>SN Soc Sci</td>\n",
       "      <td>en</td>\n",
       "    </tr>\n",
       "    <tr>\n",
       "      <th>3</th>\n",
       "      <td>0001418189999fea7f7cbe3e82703d71c85a6fe5</td>\n",
       "      <td>10.1016/j.vetmic.2006.11.026</td>\n",
       "      <td>Feline infectious peritonitis virus (FIPV) pos...</td>\n",
       "      <td>Cornelissen, E..  Dewerchin, H.L..  Van Hamme,...</td>\n",
       "      <td>Absence of surface expression of feline infect...</td>\n",
       "      <td>Vet Microbiol</td>\n",
       "      <td>en</td>\n",
       "    </tr>\n",
       "    <tr>\n",
       "      <th>4</th>\n",
       "      <td>000159d40045de3f55c9ddd5d99d760d679d4910</td>\n",
       "      <td>10.1007/978-3-030-64769-8_13</td>\n",
       "      <td>The CCTV surveillance center (below to \"Center...</td>\n",
       "      <td>Lim, Donghyun.  Park, Deawoo</td>\n",
       "      <td>AI Analysis of Illegal Parking Data at Seocho ...</td>\n",
       "      <td>Data Science and Digital Transformation in the...</td>\n",
       "      <td>en</td>\n",
       "    </tr>\n",
       "  </tbody>\n",
       "</table>\n",
       "</div>"
      ],
      "text/plain": [
       "                                   paper_id                           doi  \\\n",
       "0  0000b6da665726420ab8ac9246d526f2f44d5943              10.1002/lio2.665   \n",
       "1  000122a9a774ec76fa35ec0c0f6734e7e8d0c541     10.1016/j.rec.2020.08.002   \n",
       "2  00013694fb8095bb818b64346f791a5419d97c88    10.1007/s43545-021-00122-9   \n",
       "3  0001418189999fea7f7cbe3e82703d71c85a6fe5  10.1016/j.vetmic.2006.11.026   \n",
       "4  000159d40045de3f55c9ddd5d99d760d679d4910  10.1007/978-3-030-64769-8_13   \n",
       "\n",
       "                                            abstract  \\\n",
       "0  Objective: An at home-test for differentiating...   \n",
       "1  Introduction and objectives: The COVID-19 outb...   \n",
       "2  Prolonged Covid-19-related school closures in ...   \n",
       "3  Feline infectious peritonitis virus (FIPV) pos...   \n",
       "4  The CCTV surveillance center (below to \"Center...   \n",
       "\n",
       "                                             authors  \\\n",
       "0  Yang, Alex.  Lewis, Robert J..  Watson, Nora. ...   \n",
       "1  Rodríguez-Leor, Oriol.  Cid-Álvarez, Belén.  P...   \n",
       "2                    Canovan, Cherry.  Fallon, Naomi   \n",
       "3  Cornelissen, E..  Dewerchin, H.L..  Van Hamme,...   \n",
       "4                       Lim, Donghyun.  Park, Deawoo   \n",
       "\n",
       "                                               title  \\\n",
       "0  The cell phone vibration test: A telemedicine ...   \n",
       "1  Impact of COVID-19 on ST-segment elevation myo...   \n",
       "2  Widening the divide: the impact of school clos...   \n",
       "3  Absence of surface expression of feline infect...   \n",
       "4  AI Analysis of Illegal Parking Data at Seocho ...   \n",
       "\n",
       "                                             journal language  \n",
       "0                  Laryngoscope Investig Otolaryngol       en  \n",
       "1                          Rev Esp Cardiol (Engl Ed)       en  \n",
       "2                                         SN Soc Sci       en  \n",
       "3                                      Vet Microbiol       en  \n",
       "4  Data Science and Digital Transformation in the...       en  "
      ]
     },
     "execution_count": 5,
     "metadata": {},
     "output_type": "execute_result"
    }
   ],
   "source": [
    "df_covid.head()"
   ]
  },
  {
   "cell_type": "markdown",
   "metadata": {},
   "source": [
    "When doing topic modelling, the word embeddings are critical"
   ]
  },
  {
   "cell_type": "code",
   "execution_count": 6,
   "metadata": {},
   "outputs": [
    {
     "data": {
      "text/plain": [
       "['hereupon',\n",
       " 'beside',\n",
       " 'side',\n",
       " 'every',\n",
       " 'bottom',\n",
       " 'my',\n",
       " 'hereafter',\n",
       " \"'ll\",\n",
       " 'mine',\n",
       " 'before']"
      ]
     },
     "execution_count": 6,
     "metadata": {},
     "output_type": "execute_result"
    }
   ],
   "source": [
    "# Remove noisy data\n",
    "stopwords = list(STOP_WORDS)\n",
    "stopwords[:10]"
   ]
  },
  {
   "cell_type": "markdown",
   "metadata": {},
   "source": [
    "You can increase accuracy by adding custom stopwords but we'll skip them for now."
   ]
  },
  {
   "cell_type": "code",
   "execution_count": 7,
   "metadata": {},
   "outputs": [],
   "source": [
    "# Text parsing to change everything to lowercase, remove punctuation, find and remove stopwords\n",
    "# en_core_sci_lg will be used to process biomedical text\n",
    "\"https://allenai.github.io/scispacy/\"\n",
    "#https://github.com/allenai/scispacy SciBERT could be a future suggestion\n",
    "\n",
    "\n",
    "parser = en_core_sci_lg.load(disable=[\"tagger\", \"ner\"]) \n",
    "parser.max_length = 7000000\n",
    "\n",
    "def spacy_tokenizer(sentence):\n",
    "    mytokens = parser(sentence)\n",
    "    mytokens = [ word.lemma_.lower().strip() if word.lemma_ != \"-PRON-\" else word.lower_ for word in mytokens ]\n",
    "    mytokens = [ word for word in mytokens if word not in stopwords]\n",
    "    mytokens = \" \".join([i for i in mytokens])\n",
    "    return mytokens"
   ]
  },
  {
   "cell_type": "code",
   "execution_count": 8,
   "metadata": {},
   "outputs": [
    {
     "name": "stderr",
     "output_type": "stream",
     "text": [
      "C:\\ProgramData\\Anaconda3\\lib\\site-packages\\tqdm\\std.py:697: FutureWarning: The Panel class is removed from pandas. Accessing it from the top-level namespace will also be removed in the next version\n",
      "  from pandas import Panel\n",
      "100%|█████████████████████████████████████████████████████████████████████████████████████████████████████████████████████████████████████████████████████████████████████████████████████████████| 153558/153558 [33:48<00:00, 75.69it/s]\n"
     ]
    }
   ],
   "source": [
    "tqdm.pandas()\n",
    "df_covid[\"processed_text\"] = df_covid[\"abstract\"].progress_apply(spacy_tokenizer)"
   ]
  },
  {
   "cell_type": "code",
   "execution_count": 9,
   "metadata": {},
   "outputs": [
    {
     "data": {
      "text/html": [
       "<div>\n",
       "<style scoped>\n",
       "    .dataframe tbody tr th:only-of-type {\n",
       "        vertical-align: middle;\n",
       "    }\n",
       "\n",
       "    .dataframe tbody tr th {\n",
       "        vertical-align: top;\n",
       "    }\n",
       "\n",
       "    .dataframe thead th {\n",
       "        text-align: right;\n",
       "    }\n",
       "</style>\n",
       "<table border=\"1\" class=\"dataframe\">\n",
       "  <thead>\n",
       "    <tr style=\"text-align: right;\">\n",
       "      <th></th>\n",
       "      <th>paper_id</th>\n",
       "      <th>doi</th>\n",
       "      <th>abstract</th>\n",
       "      <th>authors</th>\n",
       "      <th>title</th>\n",
       "      <th>journal</th>\n",
       "      <th>language</th>\n",
       "      <th>processed_text</th>\n",
       "    </tr>\n",
       "  </thead>\n",
       "  <tbody>\n",
       "    <tr>\n",
       "      <th>0</th>\n",
       "      <td>0000b6da665726420ab8ac9246d526f2f44d5943</td>\n",
       "      <td>10.1002/lio2.665</td>\n",
       "      <td>Objective: An at home-test for differentiating...</td>\n",
       "      <td>Yang, Alex.  Lewis, Robert J..  Watson, Nora. ...</td>\n",
       "      <td>The cell phone vibration test: A telemedicine ...</td>\n",
       "      <td>Laryngoscope Investig Otolaryngol</td>\n",
       "      <td>en</td>\n",
       "      <td>objective : home-test differentiate conductive...</td>\n",
       "    </tr>\n",
       "    <tr>\n",
       "      <th>1</th>\n",
       "      <td>000122a9a774ec76fa35ec0c0f6734e7e8d0c541</td>\n",
       "      <td>10.1016/j.rec.2020.08.002</td>\n",
       "      <td>Introduction and objectives: The COVID-19 outb...</td>\n",
       "      <td>Rodríguez-Leor, Oriol.  Cid-Álvarez, Belén.  P...</td>\n",
       "      <td>Impact of COVID-19 on ST-segment elevation myo...</td>\n",
       "      <td>Rev Esp Cardiol (Engl Ed)</td>\n",
       "      <td>en</td>\n",
       "      <td>introduction objective : covid-19 outbreak unc...</td>\n",
       "    </tr>\n",
       "    <tr>\n",
       "      <th>2</th>\n",
       "      <td>00013694fb8095bb818b64346f791a5419d97c88</td>\n",
       "      <td>10.1007/s43545-021-00122-9</td>\n",
       "      <td>Prolonged Covid-19-related school closures in ...</td>\n",
       "      <td>Canovan, Cherry.  Fallon, Naomi</td>\n",
       "      <td>Widening the divide: the impact of school clos...</td>\n",
       "      <td>SN Soc Sci</td>\n",
       "      <td>en</td>\n",
       "      <td>prolonged covid-19-related school closure uk r...</td>\n",
       "    </tr>\n",
       "    <tr>\n",
       "      <th>3</th>\n",
       "      <td>0001418189999fea7f7cbe3e82703d71c85a6fe5</td>\n",
       "      <td>10.1016/j.vetmic.2006.11.026</td>\n",
       "      <td>Feline infectious peritonitis virus (FIPV) pos...</td>\n",
       "      <td>Cornelissen, E..  Dewerchin, H.L..  Van Hamme,...</td>\n",
       "      <td>Absence of surface expression of feline infect...</td>\n",
       "      <td>Vet Microbiol</td>\n",
       "      <td>en</td>\n",
       "      <td>feline infectious peritonitis virus ( fipv ) p...</td>\n",
       "    </tr>\n",
       "    <tr>\n",
       "      <th>4</th>\n",
       "      <td>000159d40045de3f55c9ddd5d99d760d679d4910</td>\n",
       "      <td>10.1007/978-3-030-64769-8_13</td>\n",
       "      <td>The CCTV surveillance center (below to \"Center...</td>\n",
       "      <td>Lim, Donghyun.  Park, Deawoo</td>\n",
       "      <td>AI Analysis of Illegal Parking Data at Seocho ...</td>\n",
       "      <td>Data Science and Digital Transformation in the...</td>\n",
       "      <td>en</td>\n",
       "      <td>cctv surveillance center ( \" center \" ) seocho...</td>\n",
       "    </tr>\n",
       "  </tbody>\n",
       "</table>\n",
       "</div>"
      ],
      "text/plain": [
       "                                   paper_id                           doi  \\\n",
       "0  0000b6da665726420ab8ac9246d526f2f44d5943              10.1002/lio2.665   \n",
       "1  000122a9a774ec76fa35ec0c0f6734e7e8d0c541     10.1016/j.rec.2020.08.002   \n",
       "2  00013694fb8095bb818b64346f791a5419d97c88    10.1007/s43545-021-00122-9   \n",
       "3  0001418189999fea7f7cbe3e82703d71c85a6fe5  10.1016/j.vetmic.2006.11.026   \n",
       "4  000159d40045de3f55c9ddd5d99d760d679d4910  10.1007/978-3-030-64769-8_13   \n",
       "\n",
       "                                            abstract  \\\n",
       "0  Objective: An at home-test for differentiating...   \n",
       "1  Introduction and objectives: The COVID-19 outb...   \n",
       "2  Prolonged Covid-19-related school closures in ...   \n",
       "3  Feline infectious peritonitis virus (FIPV) pos...   \n",
       "4  The CCTV surveillance center (below to \"Center...   \n",
       "\n",
       "                                             authors  \\\n",
       "0  Yang, Alex.  Lewis, Robert J..  Watson, Nora. ...   \n",
       "1  Rodríguez-Leor, Oriol.  Cid-Álvarez, Belén.  P...   \n",
       "2                    Canovan, Cherry.  Fallon, Naomi   \n",
       "3  Cornelissen, E..  Dewerchin, H.L..  Van Hamme,...   \n",
       "4                       Lim, Donghyun.  Park, Deawoo   \n",
       "\n",
       "                                               title  \\\n",
       "0  The cell phone vibration test: A telemedicine ...   \n",
       "1  Impact of COVID-19 on ST-segment elevation myo...   \n",
       "2  Widening the divide: the impact of school clos...   \n",
       "3  Absence of surface expression of feline infect...   \n",
       "4  AI Analysis of Illegal Parking Data at Seocho ...   \n",
       "\n",
       "                                             journal language  \\\n",
       "0                  Laryngoscope Investig Otolaryngol       en   \n",
       "1                          Rev Esp Cardiol (Engl Ed)       en   \n",
       "2                                         SN Soc Sci       en   \n",
       "3                                      Vet Microbiol       en   \n",
       "4  Data Science and Digital Transformation in the...       en   \n",
       "\n",
       "                                      processed_text  \n",
       "0  objective : home-test differentiate conductive...  \n",
       "1  introduction objective : covid-19 outbreak unc...  \n",
       "2  prolonged covid-19-related school closure uk r...  \n",
       "3  feline infectious peritonitis virus ( fipv ) p...  \n",
       "4  cctv surveillance center ( \" center \" ) seocho...  "
      ]
     },
     "execution_count": 9,
     "metadata": {},
     "output_type": "execute_result"
    }
   ],
   "source": [
    "df_covid.head()"
   ]
  },
  {
   "cell_type": "code",
   "execution_count": 10,
   "metadata": {},
   "outputs": [],
   "source": [
    "# tf-idf will be used to convert the string into a measure of importance\n",
    "\n",
    "from sklearn.feature_extraction.text import TfidfVectorizer\n",
    "def vectorize(text, maxx_features):\n",
    "    \n",
    "    vectorizer = TfidfVectorizer(max_features=maxx_features)\n",
    "    X = vectorizer.fit_transform(text)\n",
    "    return X"
   ]
  },
  {
   "cell_type": "code",
   "execution_count": 11,
   "metadata": {},
   "outputs": [],
   "source": [
    "# Vectorize the data\n",
    "\n",
    "text = df_covid['processed_text'].values\n",
    "#not sure how this works. Got it from the discussions\n",
    "max_words = 2**10 #max number of features/words of interest\n",
    "\n",
    "X = vectorize(text, max_words)"
   ]
  },
  {
   "cell_type": "markdown",
   "metadata": {},
   "source": [
    "# Dimensionality reduction"
   ]
  },
  {
   "cell_type": "code",
   "execution_count": 40,
   "metadata": {},
   "outputs": [],
   "source": [
    "#TODO: Try without PCA"
   ]
  },
  {
   "cell_type": "markdown",
   "metadata": {},
   "source": [
    "Let's see how much we can reduce while we keep 95% variance"
   ]
  },
  {
   "cell_type": "code",
   "execution_count": 13,
   "metadata": {},
   "outputs": [
    {
     "data": {
      "text/plain": [
       "(153558, 856)"
      ]
     },
     "execution_count": 13,
     "metadata": {},
     "output_type": "execute_result"
    }
   ],
   "source": [
    "from sklearn.decomposition import PCA\n",
    "\n",
    "pca = PCA(n_components=0.95, random_state=42)\n",
    "X_reduced= pca.fit_transform(X.toarray())\n",
    "X_reduced.shape"
   ]
  },
  {
   "cell_type": "code",
   "execution_count": 14,
   "metadata": {},
   "outputs": [],
   "source": [
    "# k means clustering\n",
    "from sklearn.cluster import MiniBatchKMeans\n",
    "from sklearn.cluster import KMeans"
   ]
  },
  {
   "cell_type": "code",
   "execution_count": 23,
   "metadata": {},
   "outputs": [],
   "source": [
    "# elbow method\n",
    "# https://www.geeksforgeeks.org/elbow-method-for-optimal-value-of-k-in-kmeans/\n",
    "\n",
    "from sklearn import metrics\n",
    "from scipy.spatial.distance import cdist\n",
    "\n",
    "# run kmeans with many different k\n",
    "distortions = []\n",
    "K = range(2, 21)\n",
    "for k in K:\n",
    "    k_means = KMeans(n_clusters=k, random_state=42).fit(X_reduced)\n",
    "    k_means.fit(X_reduced)\n",
    "    distortions.append(sum(np.min(cdist(X_reduced, k_means.cluster_centers_, 'euclidean'), axis=1)) / X.shape[0])"
   ]
  },
  {
   "cell_type": "code",
   "execution_count": 24,
   "metadata": {},
   "outputs": [
    {
     "data": {
      "image/png": "[encoded data removed]",
      "text/plain": [
       "<Figure size 432x288 with 1 Axes>"
      ]
     },
     "metadata": {
      "needs_background": "light"
     },
     "output_type": "display_data"
    }
   ],
   "source": [
    "X_line = [K[0], K[-1]]\n",
    "Y_line = [distortions[0], distortions[-1]]\n",
    "\n",
    "# Plot the elbow\n",
    "plt.plot(K, distortions, 'b-')\n",
    "plt.plot(X_line, Y_line, 'r')\n",
    "plt.xlabel('k')\n",
    "plt.ylabel('Distortion')\n",
    "plt.title('The Elbow Method showing the optimal k')\n",
    "plt.show()"
   ]
  },
  {
   "cell_type": "code",
   "execution_count": 42,
   "metadata": {},
   "outputs": [],
   "source": [
    "k = 5\n",
    "kmeans = KMeans(n_clusters=k, random_state=42)\n",
    "y_pred = kmeans.fit_predict(X_reduced)\n",
    "df_covid['y_pred_k5'] = y_pred"
   ]
  },
  {
   "cell_type": "code",
   "execution_count": 43,
   "metadata": {},
   "outputs": [],
   "source": [
    "k = 19\n",
    "kmeans = KMeans(n_clusters=k, random_state=42)\n",
    "y_pred = kmeans.fit_predict(X_reduced)\n",
    "df_covid['y_pred_k19'] = y_pred"
   ]
  },
  {
   "cell_type": "code",
   "execution_count": 44,
   "metadata": {},
   "outputs": [
    {
     "data": {
      "text/html": [
       "<div>\n",
       "<style scoped>\n",
       "    .dataframe tbody tr th:only-of-type {\n",
       "        vertical-align: middle;\n",
       "    }\n",
       "\n",
       "    .dataframe tbody tr th {\n",
       "        vertical-align: top;\n",
       "    }\n",
       "\n",
       "    .dataframe thead th {\n",
       "        text-align: right;\n",
       "    }\n",
       "</style>\n",
       "<table border=\"1\" class=\"dataframe\">\n",
       "  <thead>\n",
       "    <tr style=\"text-align: right;\">\n",
       "      <th></th>\n",
       "      <th>paper_id</th>\n",
       "      <th>doi</th>\n",
       "      <th>abstract</th>\n",
       "      <th>authors</th>\n",
       "      <th>title</th>\n",
       "      <th>journal</th>\n",
       "      <th>language</th>\n",
       "      <th>processed_text</th>\n",
       "      <th>y_pred</th>\n",
       "      <th>y_pred_k5</th>\n",
       "      <th>y_pred_k19</th>\n",
       "    </tr>\n",
       "  </thead>\n",
       "  <tbody>\n",
       "    <tr>\n",
       "      <th>0</th>\n",
       "      <td>0000b6da665726420ab8ac9246d526f2f44d5943</td>\n",
       "      <td>10.1002/lio2.665</td>\n",
       "      <td>Objective: An at home-test for differentiating...</td>\n",
       "      <td>Yang, Alex.  Lewis, Robert J..  Watson, Nora. ...</td>\n",
       "      <td>The cell phone vibration test: A telemedicine ...</td>\n",
       "      <td>Laryngoscope Investig Otolaryngol</td>\n",
       "      <td>en</td>\n",
       "      <td>objective : home-test differentiate conductive...</td>\n",
       "      <td>3</td>\n",
       "      <td>3</td>\n",
       "      <td>4</td>\n",
       "    </tr>\n",
       "    <tr>\n",
       "      <th>1</th>\n",
       "      <td>000122a9a774ec76fa35ec0c0f6734e7e8d0c541</td>\n",
       "      <td>10.1016/j.rec.2020.08.002</td>\n",
       "      <td>Introduction and objectives: The COVID-19 outb...</td>\n",
       "      <td>Rodríguez-Leor, Oriol.  Cid-Álvarez, Belén.  P...</td>\n",
       "      <td>Impact of COVID-19 on ST-segment elevation myo...</td>\n",
       "      <td>Rev Esp Cardiol (Engl Ed)</td>\n",
       "      <td>en</td>\n",
       "      <td>introduction objective : covid-19 outbreak unc...</td>\n",
       "      <td>3</td>\n",
       "      <td>3</td>\n",
       "      <td>4</td>\n",
       "    </tr>\n",
       "    <tr>\n",
       "      <th>2</th>\n",
       "      <td>00013694fb8095bb818b64346f791a5419d97c88</td>\n",
       "      <td>10.1007/s43545-021-00122-9</td>\n",
       "      <td>Prolonged Covid-19-related school closures in ...</td>\n",
       "      <td>Canovan, Cherry.  Fallon, Naomi</td>\n",
       "      <td>Widening the divide: the impact of school clos...</td>\n",
       "      <td>SN Soc Sci</td>\n",
       "      <td>en</td>\n",
       "      <td>prolonged covid-19-related school closure uk r...</td>\n",
       "      <td>1</td>\n",
       "      <td>1</td>\n",
       "      <td>16</td>\n",
       "    </tr>\n",
       "    <tr>\n",
       "      <th>3</th>\n",
       "      <td>0001418189999fea7f7cbe3e82703d71c85a6fe5</td>\n",
       "      <td>10.1016/j.vetmic.2006.11.026</td>\n",
       "      <td>Feline infectious peritonitis virus (FIPV) pos...</td>\n",
       "      <td>Cornelissen, E..  Dewerchin, H.L..  Van Hamme,...</td>\n",
       "      <td>Absence of surface expression of feline infect...</td>\n",
       "      <td>Vet Microbiol</td>\n",
       "      <td>en</td>\n",
       "      <td>feline infectious peritonitis virus ( fipv ) p...</td>\n",
       "      <td>0</td>\n",
       "      <td>0</td>\n",
       "      <td>15</td>\n",
       "    </tr>\n",
       "    <tr>\n",
       "      <th>4</th>\n",
       "      <td>000159d40045de3f55c9ddd5d99d760d679d4910</td>\n",
       "      <td>10.1007/978-3-030-64769-8_13</td>\n",
       "      <td>The CCTV surveillance center (below to \"Center...</td>\n",
       "      <td>Lim, Donghyun.  Park, Deawoo</td>\n",
       "      <td>AI Analysis of Illegal Parking Data at Seocho ...</td>\n",
       "      <td>Data Science and Digital Transformation in the...</td>\n",
       "      <td>en</td>\n",
       "      <td>cctv surveillance center ( \" center \" ) seocho...</td>\n",
       "      <td>1</td>\n",
       "      <td>1</td>\n",
       "      <td>5</td>\n",
       "    </tr>\n",
       "  </tbody>\n",
       "</table>\n",
       "</div>"
      ],
      "text/plain": [
       "                                   paper_id                           doi  \\\n",
       "0  0000b6da665726420ab8ac9246d526f2f44d5943              10.1002/lio2.665   \n",
       "1  000122a9a774ec76fa35ec0c0f6734e7e8d0c541     10.1016/j.rec.2020.08.002   \n",
       "2  00013694fb8095bb818b64346f791a5419d97c88    10.1007/s43545-021-00122-9   \n",
       "3  0001418189999fea7f7cbe3e82703d71c85a6fe5  10.1016/j.vetmic.2006.11.026   \n",
       "4  000159d40045de3f55c9ddd5d99d760d679d4910  10.1007/978-3-030-64769-8_13   \n",
       "\n",
       "                                            abstract  \\\n",
       "0  Objective: An at home-test for differentiating...   \n",
       "1  Introduction and objectives: The COVID-19 outb...   \n",
       "2  Prolonged Covid-19-related school closures in ...   \n",
       "3  Feline infectious peritonitis virus (FIPV) pos...   \n",
       "4  The CCTV surveillance center (below to \"Center...   \n",
       "\n",
       "                                             authors  \\\n",
       "0  Yang, Alex.  Lewis, Robert J..  Watson, Nora. ...   \n",
       "1  Rodríguez-Leor, Oriol.  Cid-Álvarez, Belén.  P...   \n",
       "2                    Canovan, Cherry.  Fallon, Naomi   \n",
       "3  Cornelissen, E..  Dewerchin, H.L..  Van Hamme,...   \n",
       "4                       Lim, Donghyun.  Park, Deawoo   \n",
       "\n",
       "                                               title  \\\n",
       "0  The cell phone vibration test: A telemedicine ...   \n",
       "1  Impact of COVID-19 on ST-segment elevation myo...   \n",
       "2  Widening the divide: the impact of school clos...   \n",
       "3  Absence of surface expression of feline infect...   \n",
       "4  AI Analysis of Illegal Parking Data at Seocho ...   \n",
       "\n",
       "                                             journal language  \\\n",
       "0                  Laryngoscope Investig Otolaryngol       en   \n",
       "1                          Rev Esp Cardiol (Engl Ed)       en   \n",
       "2                                         SN Soc Sci       en   \n",
       "3                                      Vet Microbiol       en   \n",
       "4  Data Science and Digital Transformation in the...       en   \n",
       "\n",
       "                                      processed_text  y_pred  y_pred_k5  \\\n",
       "0  objective : home-test differentiate conductive...       3          3   \n",
       "1  introduction objective : covid-19 outbreak unc...       3          3   \n",
       "2  prolonged covid-19-related school closure uk r...       1          1   \n",
       "3  feline infectious peritonitis virus ( fipv ) p...       0          0   \n",
       "4  cctv surveillance center ( \" center \" ) seocho...       1          1   \n",
       "\n",
       "   y_pred_k19  \n",
       "0           4  \n",
       "1           4  \n",
       "2          16  \n",
       "3          15  \n",
       "4           5  "
      ]
     },
     "execution_count": 44,
     "metadata": {},
     "output_type": "execute_result"
    }
   ],
   "source": [
    "df_covid.head()"
   ]
  },
  {
   "cell_type": "code",
   "execution_count": 46,
   "metadata": {},
   "outputs": [],
   "source": [
    "df_covid = df_covid.drop('y_pred',1)"
   ]
  },
  {
   "cell_type": "code",
   "execution_count": 47,
   "metadata": {},
   "outputs": [
    {
     "data": {
      "text/html": [
       "<div>\n",
       "<style scoped>\n",
       "    .dataframe tbody tr th:only-of-type {\n",
       "        vertical-align: middle;\n",
       "    }\n",
       "\n",
       "    .dataframe tbody tr th {\n",
       "        vertical-align: top;\n",
       "    }\n",
       "\n",
       "    .dataframe thead th {\n",
       "        text-align: right;\n",
       "    }\n",
       "</style>\n",
       "<table border=\"1\" class=\"dataframe\">\n",
       "  <thead>\n",
       "    <tr style=\"text-align: right;\">\n",
       "      <th></th>\n",
       "      <th>paper_id</th>\n",
       "      <th>doi</th>\n",
       "      <th>abstract</th>\n",
       "      <th>authors</th>\n",
       "      <th>title</th>\n",
       "      <th>journal</th>\n",
       "      <th>language</th>\n",
       "      <th>processed_text</th>\n",
       "      <th>y_pred_k5</th>\n",
       "      <th>y_pred_k19</th>\n",
       "    </tr>\n",
       "  </thead>\n",
       "  <tbody>\n",
       "    <tr>\n",
       "      <th>0</th>\n",
       "      <td>0000b6da665726420ab8ac9246d526f2f44d5943</td>\n",
       "      <td>10.1002/lio2.665</td>\n",
       "      <td>Objective: An at home-test for differentiating...</td>\n",
       "      <td>Yang, Alex.  Lewis, Robert J..  Watson, Nora. ...</td>\n",
       "      <td>The cell phone vibration test: A telemedicine ...</td>\n",
       "      <td>Laryngoscope Investig Otolaryngol</td>\n",
       "      <td>en</td>\n",
       "      <td>objective : home-test differentiate conductive...</td>\n",
       "      <td>3</td>\n",
       "      <td>4</td>\n",
       "    </tr>\n",
       "    <tr>\n",
       "      <th>1</th>\n",
       "      <td>000122a9a774ec76fa35ec0c0f6734e7e8d0c541</td>\n",
       "      <td>10.1016/j.rec.2020.08.002</td>\n",
       "      <td>Introduction and objectives: The COVID-19 outb...</td>\n",
       "      <td>Rodríguez-Leor, Oriol.  Cid-Álvarez, Belén.  P...</td>\n",
       "      <td>Impact of COVID-19 on ST-segment elevation myo...</td>\n",
       "      <td>Rev Esp Cardiol (Engl Ed)</td>\n",
       "      <td>en</td>\n",
       "      <td>introduction objective : covid-19 outbreak unc...</td>\n",
       "      <td>3</td>\n",
       "      <td>4</td>\n",
       "    </tr>\n",
       "    <tr>\n",
       "      <th>2</th>\n",
       "      <td>00013694fb8095bb818b64346f791a5419d97c88</td>\n",
       "      <td>10.1007/s43545-021-00122-9</td>\n",
       "      <td>Prolonged Covid-19-related school closures in ...</td>\n",
       "      <td>Canovan, Cherry.  Fallon, Naomi</td>\n",
       "      <td>Widening the divide: the impact of school clos...</td>\n",
       "      <td>SN Soc Sci</td>\n",
       "      <td>en</td>\n",
       "      <td>prolonged covid-19-related school closure uk r...</td>\n",
       "      <td>1</td>\n",
       "      <td>16</td>\n",
       "    </tr>\n",
       "    <tr>\n",
       "      <th>3</th>\n",
       "      <td>0001418189999fea7f7cbe3e82703d71c85a6fe5</td>\n",
       "      <td>10.1016/j.vetmic.2006.11.026</td>\n",
       "      <td>Feline infectious peritonitis virus (FIPV) pos...</td>\n",
       "      <td>Cornelissen, E..  Dewerchin, H.L..  Van Hamme,...</td>\n",
       "      <td>Absence of surface expression of feline infect...</td>\n",
       "      <td>Vet Microbiol</td>\n",
       "      <td>en</td>\n",
       "      <td>feline infectious peritonitis virus ( fipv ) p...</td>\n",
       "      <td>0</td>\n",
       "      <td>15</td>\n",
       "    </tr>\n",
       "    <tr>\n",
       "      <th>4</th>\n",
       "      <td>000159d40045de3f55c9ddd5d99d760d679d4910</td>\n",
       "      <td>10.1007/978-3-030-64769-8_13</td>\n",
       "      <td>The CCTV surveillance center (below to \"Center...</td>\n",
       "      <td>Lim, Donghyun.  Park, Deawoo</td>\n",
       "      <td>AI Analysis of Illegal Parking Data at Seocho ...</td>\n",
       "      <td>Data Science and Digital Transformation in the...</td>\n",
       "      <td>en</td>\n",
       "      <td>cctv surveillance center ( \" center \" ) seocho...</td>\n",
       "      <td>1</td>\n",
       "      <td>5</td>\n",
       "    </tr>\n",
       "  </tbody>\n",
       "</table>\n",
       "</div>"
      ],
      "text/plain": [
       "                                   paper_id                           doi  \\\n",
       "0  0000b6da665726420ab8ac9246d526f2f44d5943              10.1002/lio2.665   \n",
       "1  000122a9a774ec76fa35ec0c0f6734e7e8d0c541     10.1016/j.rec.2020.08.002   \n",
       "2  00013694fb8095bb818b64346f791a5419d97c88    10.1007/s43545-021-00122-9   \n",
       "3  0001418189999fea7f7cbe3e82703d71c85a6fe5  10.1016/j.vetmic.2006.11.026   \n",
       "4  000159d40045de3f55c9ddd5d99d760d679d4910  10.1007/978-3-030-64769-8_13   \n",
       "\n",
       "                                            abstract  \\\n",
       "0  Objective: An at home-test for differentiating...   \n",
       "1  Introduction and objectives: The COVID-19 outb...   \n",
       "2  Prolonged Covid-19-related school closures in ...   \n",
       "3  Feline infectious peritonitis virus (FIPV) pos...   \n",
       "4  The CCTV surveillance center (below to \"Center...   \n",
       "\n",
       "                                             authors  \\\n",
       "0  Yang, Alex.  Lewis, Robert J..  Watson, Nora. ...   \n",
       "1  Rodríguez-Leor, Oriol.  Cid-Álvarez, Belén.  P...   \n",
       "2                    Canovan, Cherry.  Fallon, Naomi   \n",
       "3  Cornelissen, E..  Dewerchin, H.L..  Van Hamme,...   \n",
       "4                       Lim, Donghyun.  Park, Deawoo   \n",
       "\n",
       "                                               title  \\\n",
       "0  The cell phone vibration test: A telemedicine ...   \n",
       "1  Impact of COVID-19 on ST-segment elevation myo...   \n",
       "2  Widening the divide: the impact of school clos...   \n",
       "3  Absence of surface expression of feline infect...   \n",
       "4  AI Analysis of Illegal Parking Data at Seocho ...   \n",
       "\n",
       "                                             journal language  \\\n",
       "0                  Laryngoscope Investig Otolaryngol       en   \n",
       "1                          Rev Esp Cardiol (Engl Ed)       en   \n",
       "2                                         SN Soc Sci       en   \n",
       "3                                      Vet Microbiol       en   \n",
       "4  Data Science and Digital Transformation in the...       en   \n",
       "\n",
       "                                      processed_text  y_pred_k5  y_pred_k19  \n",
       "0  objective : home-test differentiate conductive...          3           4  \n",
       "1  introduction objective : covid-19 outbreak unc...          3           4  \n",
       "2  prolonged covid-19-related school closure uk r...          1          16  \n",
       "3  feline infectious peritonitis virus ( fipv ) p...          0          15  \n",
       "4  cctv surveillance center ( \" center \" ) seocho...          1           5  "
      ]
     },
     "execution_count": 47,
     "metadata": {},
     "output_type": "execute_result"
    }
   ],
   "source": [
    "df_covid.head()"
   ]
  },
  {
   "cell_type": "code",
   "execution_count": 48,
   "metadata": {},
   "outputs": [],
   "source": [
    "df_covid.to_csv(\"df_clean.csv\", index=False)"
   ]
  },
  {
   "cell_type": "markdown",
   "metadata": {},
   "source": [
    "# LDA"
   ]
  },
  {
   "cell_type": "markdown",
   "metadata": {},
   "source": [
    "## RUN df_clean.csv here, you can ignore everything beforehand"
   ]
  },
  {
   "cell_type": "code",
   "execution_count": 49,
   "metadata": {},
   "outputs": [
    {
     "data": {
      "text/html": [
       "<div>\n",
       "<style scoped>\n",
       "    .dataframe tbody tr th:only-of-type {\n",
       "        vertical-align: middle;\n",
       "    }\n",
       "\n",
       "    .dataframe tbody tr th {\n",
       "        vertical-align: top;\n",
       "    }\n",
       "\n",
       "    .dataframe thead th {\n",
       "        text-align: right;\n",
       "    }\n",
       "</style>\n",
       "<table border=\"1\" class=\"dataframe\">\n",
       "  <thead>\n",
       "    <tr style=\"text-align: right;\">\n",
       "      <th></th>\n",
       "      <th>paper_id</th>\n",
       "      <th>doi</th>\n",
       "      <th>abstract</th>\n",
       "      <th>authors</th>\n",
       "      <th>title</th>\n",
       "      <th>journal</th>\n",
       "      <th>language</th>\n",
       "      <th>processed_text</th>\n",
       "      <th>y_pred_k5</th>\n",
       "      <th>y_pred_k19</th>\n",
       "    </tr>\n",
       "  </thead>\n",
       "  <tbody>\n",
       "    <tr>\n",
       "      <th>0</th>\n",
       "      <td>0000b6da665726420ab8ac9246d526f2f44d5943</td>\n",
       "      <td>10.1002/lio2.665</td>\n",
       "      <td>Objective: An at home-test for differentiating...</td>\n",
       "      <td>Yang, Alex.  Lewis, Robert J..  Watson, Nora. ...</td>\n",
       "      <td>The cell phone vibration test: A telemedicine ...</td>\n",
       "      <td>Laryngoscope Investig Otolaryngol</td>\n",
       "      <td>en</td>\n",
       "      <td>objective : home-test differentiate conductive...</td>\n",
       "      <td>3</td>\n",
       "      <td>4</td>\n",
       "    </tr>\n",
       "    <tr>\n",
       "      <th>1</th>\n",
       "      <td>000122a9a774ec76fa35ec0c0f6734e7e8d0c541</td>\n",
       "      <td>10.1016/j.rec.2020.08.002</td>\n",
       "      <td>Introduction and objectives: The COVID-19 outb...</td>\n",
       "      <td>Rodríguez-Leor, Oriol.  Cid-Álvarez, Belén.  P...</td>\n",
       "      <td>Impact of COVID-19 on ST-segment elevation myo...</td>\n",
       "      <td>Rev Esp Cardiol (Engl Ed)</td>\n",
       "      <td>en</td>\n",
       "      <td>introduction objective : covid-19 outbreak unc...</td>\n",
       "      <td>3</td>\n",
       "      <td>4</td>\n",
       "    </tr>\n",
       "    <tr>\n",
       "      <th>2</th>\n",
       "      <td>00013694fb8095bb818b64346f791a5419d97c88</td>\n",
       "      <td>10.1007/s43545-021-00122-9</td>\n",
       "      <td>Prolonged Covid-19-related school closures in ...</td>\n",
       "      <td>Canovan, Cherry.  Fallon, Naomi</td>\n",
       "      <td>Widening the divide: the impact of school clos...</td>\n",
       "      <td>SN Soc Sci</td>\n",
       "      <td>en</td>\n",
       "      <td>prolonged covid-19-related school closure uk r...</td>\n",
       "      <td>1</td>\n",
       "      <td>16</td>\n",
       "    </tr>\n",
       "    <tr>\n",
       "      <th>3</th>\n",
       "      <td>0001418189999fea7f7cbe3e82703d71c85a6fe5</td>\n",
       "      <td>10.1016/j.vetmic.2006.11.026</td>\n",
       "      <td>Feline infectious peritonitis virus (FIPV) pos...</td>\n",
       "      <td>Cornelissen, E..  Dewerchin, H.L..  Van Hamme,...</td>\n",
       "      <td>Absence of surface expression of feline infect...</td>\n",
       "      <td>Vet Microbiol</td>\n",
       "      <td>en</td>\n",
       "      <td>feline infectious peritonitis virus ( fipv ) p...</td>\n",
       "      <td>0</td>\n",
       "      <td>15</td>\n",
       "    </tr>\n",
       "    <tr>\n",
       "      <th>4</th>\n",
       "      <td>000159d40045de3f55c9ddd5d99d760d679d4910</td>\n",
       "      <td>10.1007/978-3-030-64769-8_13</td>\n",
       "      <td>The CCTV surveillance center (below to \"Center...</td>\n",
       "      <td>Lim, Donghyun.  Park, Deawoo</td>\n",
       "      <td>AI Analysis of Illegal Parking Data at Seocho ...</td>\n",
       "      <td>Data Science and Digital Transformation in the...</td>\n",
       "      <td>en</td>\n",
       "      <td>cctv surveillance center ( \" center \" ) seocho...</td>\n",
       "      <td>1</td>\n",
       "      <td>5</td>\n",
       "    </tr>\n",
       "  </tbody>\n",
       "</table>\n",
       "</div>"
      ],
      "text/plain": [
       "                                   paper_id                           doi  \\\n",
       "0  0000b6da665726420ab8ac9246d526f2f44d5943              10.1002/lio2.665   \n",
       "1  000122a9a774ec76fa35ec0c0f6734e7e8d0c541     10.1016/j.rec.2020.08.002   \n",
       "2  00013694fb8095bb818b64346f791a5419d97c88    10.1007/s43545-021-00122-9   \n",
       "3  0001418189999fea7f7cbe3e82703d71c85a6fe5  10.1016/j.vetmic.2006.11.026   \n",
       "4  000159d40045de3f55c9ddd5d99d760d679d4910  10.1007/978-3-030-64769-8_13   \n",
       "\n",
       "                                            abstract  \\\n",
       "0  Objective: An at home-test for differentiating...   \n",
       "1  Introduction and objectives: The COVID-19 outb...   \n",
       "2  Prolonged Covid-19-related school closures in ...   \n",
       "3  Feline infectious peritonitis virus (FIPV) pos...   \n",
       "4  The CCTV surveillance center (below to \"Center...   \n",
       "\n",
       "                                             authors  \\\n",
       "0  Yang, Alex.  Lewis, Robert J..  Watson, Nora. ...   \n",
       "1  Rodríguez-Leor, Oriol.  Cid-Álvarez, Belén.  P...   \n",
       "2                    Canovan, Cherry.  Fallon, Naomi   \n",
       "3  Cornelissen, E..  Dewerchin, H.L..  Van Hamme,...   \n",
       "4                       Lim, Donghyun.  Park, Deawoo   \n",
       "\n",
       "                                               title  \\\n",
       "0  The cell phone vibration test: A telemedicine ...   \n",
       "1  Impact of COVID-19 on ST-segment elevation myo...   \n",
       "2  Widening the divide: the impact of school clos...   \n",
       "3  Absence of surface expression of feline infect...   \n",
       "4  AI Analysis of Illegal Parking Data at Seocho ...   \n",
       "\n",
       "                                             journal language  \\\n",
       "0                  Laryngoscope Investig Otolaryngol       en   \n",
       "1                          Rev Esp Cardiol (Engl Ed)       en   \n",
       "2                                         SN Soc Sci       en   \n",
       "3                                      Vet Microbiol       en   \n",
       "4  Data Science and Digital Transformation in the...       en   \n",
       "\n",
       "                                      processed_text  y_pred_k5  y_pred_k19  \n",
       "0  objective : home-test differentiate conductive...          3           4  \n",
       "1  introduction objective : covid-19 outbreak unc...          3           4  \n",
       "2  prolonged covid-19-related school closure uk r...          1          16  \n",
       "3  feline infectious peritonitis virus ( fipv ) p...          0          15  \n",
       "4  cctv surveillance center ( \" center \" ) seocho...          1           5  "
      ]
     },
     "execution_count": 49,
     "metadata": {},
     "output_type": "execute_result"
    }
   ],
   "source": [
    "df_covid.head()"
   ]
  },
  {
   "cell_type": "code",
   "execution_count": 67,
   "metadata": {},
   "outputs": [
    {
     "data": {
      "text/plain": [
       "0         objective : home-test differentiate conductive...\n",
       "1         introduction objective : covid-19 outbreak unc...\n",
       "2         prolonged covid-19-related school closure uk r...\n",
       "3         feline infectious peritonitis virus ( fipv ) p...\n",
       "4         cctv surveillance center ( \" center \" ) seocho...\n",
       "                                ...                        \n",
       "153553    covid-19 pandemic , despite widespread social ...\n",
       "153554    global radial basis functions ( rbfs ) lead il...\n",
       "153555    publication type : original research article w...\n",
       "153556    protect human life , science public health nee...\n",
       "153557    studies activity rhythm pivotal management inv...\n",
       "Name: processed_text, Length: 153558, dtype: object"
      ]
     },
     "execution_count": 67,
     "metadata": {},
     "output_type": "execute_result"
    }
   ],
   "source": [
    "df_covid['processed_text']"
   ]
  },
  {
   "cell_type": "code",
   "execution_count": 52,
   "metadata": {},
   "outputs": [],
   "source": [
    "from sklearn.decomposition import LatentDirichletAllocation\n",
    "from sklearn.feature_extraction.text import CountVectorizer"
   ]
  },
  {
   "cell_type": "markdown",
   "metadata": {},
   "source": [
    "create vectorizers for the k clusters"
   ]
  },
  {
   "cell_type": "code",
   "execution_count": 53,
   "metadata": {},
   "outputs": [],
   "source": [
    "vectorizers = []\n",
    "    \n",
    "for ii in range(0, 20):\n",
    "    # Creating a vectorizer\n",
    "    vectorizers.append(CountVectorizer(min_df=5, max_df=0.9, stop_words='english', lowercase=True, token_pattern='[a-zA-Z\\-][a-zA-Z\\-]{2,}'))"
   ]
  },
  {
   "cell_type": "code",
   "execution_count": 56,
   "metadata": {},
   "outputs": [
    {
     "data": {
      "text/plain": [
       "CountVectorizer(max_df=0.9, min_df=5, stop_words='english',\n",
       "                token_pattern='[a-zA-Z\\\\-][a-zA-Z\\\\-]{2,}')"
      ]
     },
     "execution_count": 56,
     "metadata": {},
     "output_type": "execute_result"
    }
   ],
   "source": [
    "vectorizers[0]"
   ]
  },
  {
   "cell_type": "markdown",
   "metadata": {},
   "source": [
    "vectorize the data from each cluster"
   ]
  },
  {
   "cell_type": "code",
   "execution_count": 57,
   "metadata": {},
   "outputs": [
    {
     "name": "stdout",
     "output_type": "stream",
     "text": [
      "Not enough instances in cluster: 19\n"
     ]
    }
   ],
   "source": [
    "# Vectorize the data for each vector\n",
    "\n",
    "vectorized_data = []\n",
    "\n",
    "for current_cluster, cvec in enumerate(vectorizers):\n",
    "    try:\n",
    "        vectorized_data.append(cvec.fit_transform(df_covid.loc[df_covid['y_pred_k19'] == current_cluster, 'processed_text']))\n",
    "    except Exception as e:\n",
    "        print(\"Not enough instances in cluster: \" + str(current_cluster))\n",
    "        vectorized_data.append(None)"
   ]
  },
  {
   "cell_type": "code",
   "execution_count": 58,
   "metadata": {},
   "outputs": [
    {
     "data": {
      "text/plain": [
       "20"
      ]
     },
     "execution_count": 58,
     "metadata": {},
     "output_type": "execute_result"
    }
   ],
   "source": [
    "len(vectorized_data)"
   ]
  },
  {
   "cell_type": "code",
   "execution_count": 59,
   "metadata": {},
   "outputs": [
    {
     "data": {
      "text/plain": [
       "LatentDirichletAllocation(learning_method='online', n_components=20,\n",
       "                          random_state=42, verbose=False)"
      ]
     },
     "execution_count": 59,
     "metadata": {},
     "output_type": "execute_result"
    }
   ],
   "source": [
    "# number of topics per cluster, this was RANDOMLY selected\n",
    "NUM_TOPICS_PER_CLUSTER = 20\n",
    "\n",
    "\n",
    "lda_models = []\n",
    "\n",
    "for ii in range(0, 20):\n",
    "    # Latent Dirichlet Allocation Model\n",
    "    lda = LatentDirichletAllocation(n_components=NUM_TOPICS_PER_CLUSTER, max_iter=10, learning_method='online',verbose=False, random_state=42)\n",
    "    lda_models.append(lda)\n",
    "    \n",
    "lda_models[0]"
   ]
  },
  {
   "cell_type": "code",
   "execution_count": 60,
   "metadata": {},
   "outputs": [
    {
     "name": "stdout",
     "output_type": "stream",
     "text": [
      "Current Cluster: 0\n",
      "Current Cluster: 1\n",
      "Current Cluster: 2\n",
      "Current Cluster: 3\n",
      "Current Cluster: 4\n",
      "Current Cluster: 5\n",
      "Current Cluster: 6\n",
      "Current Cluster: 7\n",
      "Current Cluster: 8\n",
      "Current Cluster: 9\n",
      "Current Cluster: 10\n",
      "Current Cluster: 11\n",
      "Current Cluster: 12\n",
      "Current Cluster: 13\n",
      "Current Cluster: 14\n",
      "Current Cluster: 15\n",
      "Current Cluster: 16\n",
      "Current Cluster: 17\n",
      "Current Cluster: 18\n",
      "Current Cluster: 19\n"
     ]
    }
   ],
   "source": [
    "clusters_lda_data = []\n",
    "\n",
    "for current_cluster, lda in enumerate(lda_models):\n",
    "    print(\"Current Cluster: \" + str(current_cluster))\n",
    "    \n",
    "    if vectorized_data[current_cluster] != None:\n",
    "        clusters_lda_data.append((lda.fit_transform(vectorized_data[current_cluster])))"
   ]
  },
  {
   "cell_type": "code",
   "execution_count": 62,
   "metadata": {},
   "outputs": [
    {
     "name": "stdout",
     "output_type": "stream",
     "text": [
      "Current Cluster: LatentDirichletAllocation(learning_method='online', n_components=20,\n",
      "                          random_state=42, verbose=False)\n",
      "Current Cluster: LatentDirichletAllocation(learning_method='online', n_components=20,\n",
      "                          random_state=42, verbose=False)\n",
      "Current Cluster: LatentDirichletAllocation(learning_method='online', n_components=20,\n",
      "                          random_state=42, verbose=False)\n",
      "Current Cluster: LatentDirichletAllocation(learning_method='online', n_components=20,\n",
      "                          random_state=42, verbose=False)\n",
      "Current Cluster: LatentDirichletAllocation(learning_method='online', n_components=20,\n",
      "                          random_state=42, verbose=False)\n",
      "Current Cluster: LatentDirichletAllocation(learning_method='online', n_components=20,\n",
      "                          random_state=42, verbose=False)\n",
      "Current Cluster: LatentDirichletAllocation(learning_method='online', n_components=20,\n",
      "                          random_state=42, verbose=False)\n",
      "Current Cluster: LatentDirichletAllocation(learning_method='online', n_components=20,\n",
      "                          random_state=42, verbose=False)\n",
      "Current Cluster: LatentDirichletAllocation(learning_method='online', n_components=20,\n",
      "                          random_state=42, verbose=False)\n",
      "Current Cluster: LatentDirichletAllocation(learning_method='online', n_components=20,\n",
      "                          random_state=42, verbose=False)\n",
      "Current Cluster: LatentDirichletAllocation(learning_method='online', n_components=20,\n",
      "                          random_state=42, verbose=False)\n",
      "Current Cluster: LatentDirichletAllocation(learning_method='online', n_components=20,\n",
      "                          random_state=42, verbose=False)\n",
      "Current Cluster: LatentDirichletAllocation(learning_method='online', n_components=20,\n",
      "                          random_state=42, verbose=False)\n",
      "Current Cluster: LatentDirichletAllocation(learning_method='online', n_components=20,\n",
      "                          random_state=42, verbose=False)\n",
      "Current Cluster: LatentDirichletAllocation(learning_method='online', n_components=20,\n",
      "                          random_state=42, verbose=False)\n",
      "Current Cluster: LatentDirichletAllocation(learning_method='online', n_components=20,\n",
      "                          random_state=42, verbose=False)\n",
      "Current Cluster: LatentDirichletAllocation(learning_method='online', n_components=20,\n",
      "                          random_state=42, verbose=False)\n",
      "Current Cluster: LatentDirichletAllocation(learning_method='online', n_components=20,\n",
      "                          random_state=42, verbose=False)\n",
      "Current Cluster: LatentDirichletAllocation(learning_method='online', n_components=20,\n",
      "                          random_state=42, verbose=False)\n",
      "Current Cluster: LatentDirichletAllocation(learning_method='online', n_components=20,\n",
      "                          random_state=42, verbose=False)\n"
     ]
    }
   ],
   "source": [
    "for current_vectorizer, lda in enumerate(lda_models):\n",
    "    print(\"Current Cluster: \" + str(lda))"
   ]
  },
  {
   "cell_type": "code",
   "execution_count": 63,
   "metadata": {},
   "outputs": [],
   "source": [
    "# Functions for printing keywords for each topic \n",
    "#From discussion forums\n",
    "\n",
    "def selected_topics(model, vectorizer, top_n=3):\n",
    "    current_words = []\n",
    "    keywords = []\n",
    "    \n",
    "    for idx, topic in enumerate(model.components_):\n",
    "        words = [(vectorizer.get_feature_names()[i], topic[i]) for i in topic.argsort()[:-top_n - 1:-1]]\n",
    "        for word in words:\n",
    "            if word[0] not in current_words:\n",
    "                keywords.append(word)\n",
    "                current_words.append(word[0])\n",
    "                \n",
    "    keywords.sort(key = lambda x: x[1])  \n",
    "    keywords.reverse()\n",
    "    return_values = []\n",
    "    for ii in keywords:\n",
    "        return_values.append(ii[0])\n",
    "    return return_values"
   ]
  },
  {
   "cell_type": "code",
   "execution_count": 64,
   "metadata": {},
   "outputs": [
    {
     "name": "stdout",
     "output_type": "stream",
     "text": [
      "Current Cluster: 0\n",
      "Current Cluster: 1\n",
      "Current Cluster: 2\n",
      "Current Cluster: 3\n",
      "Current Cluster: 4\n",
      "Current Cluster: 5\n",
      "Current Cluster: 6\n",
      "Current Cluster: 7\n",
      "Current Cluster: 8\n",
      "Current Cluster: 9\n",
      "Current Cluster: 10\n",
      "Current Cluster: 11\n",
      "Current Cluster: 12\n",
      "Current Cluster: 13\n",
      "Current Cluster: 14\n",
      "Current Cluster: 15\n",
      "Current Cluster: 16\n",
      "Current Cluster: 17\n",
      "Current Cluster: 18\n",
      "Current Cluster: 19\n"
     ]
    }
   ],
   "source": [
    "all_keywords = []\n",
    "for current_vectorizer, lda in enumerate(lda_models):\n",
    "    print(\"Current Cluster: \" + str(current_vectorizer))\n",
    "\n",
    "    if vectorized_data[current_vectorizer] != None:\n",
    "        all_keywords.append(selected_topics(lda, vectorizers[current_vectorizer]))"
   ]
  },
  {
   "cell_type": "code",
   "execution_count": 65,
   "metadata": {
    "scrolled": true
   },
   "outputs": [
    {
     "name": "stdout",
     "output_type": "stream",
     "text": [
      "[['learn', 'online', 'education', 'clinical', 'pandemic', 'teach', 'covid-', 'study', 'teacher', 'research', 'medical', 'use', 'group', 'train', 'school', 'questionnaire', 'university', 'mental', 'stress', 'health', 'program', 'international', 'course', 'language', 'score', 'infection', 'career', 'risk', 'time', 'intention', 'exam', 'control', 'perceive', 'model', 'english', 'leadership', 'exercise', 'sexual', 'tutor', 'biology', 'pathology', 'entrepreneurial', 'science', 'org', 'ethical', 'business', 'entrepreneurship', 'error', 'personality', 'trait', 'neuroscience', 'character', 'physicians'], ['ace', 'drug', 'rna', 'membrane', 'spike', 'antibody', 'nsp', 'sars-cov-', 'fusion', 'structure', 'bind', 'epitope', 'study', 'host', 'cell', 'vaccine', 'target', 'gene', 'orf', 'sequence', 'peptide', 'expression', 'viral', 'disease', 'fig', 'model', 'virus', 'acid', 'function', 'family', 'particle', 'virion', 'conformation', 'patient', 'effect', 'state', 'ubiquitin', 'kinase', 'prrsv', 'mass', 'detection', 'zikv', 'chromatography', 'mitochondrial', 'dimer', 'ifn', 'use', 'purify', 'dengue', 'domain', 'image', 'adhesion', 'integrin'], ['test', 'patient', 'antibody', 'assay', 'virus', 'swab', 'sars-cov-', 'positive', 'detection', 'rt-pcr', 'diagnostic', 'sample', 'use', 'pool', 'individual', 'dna', 'pcr', 'elisa', 'lamp', 'cat', 'dog', 'study', 'pedv', 'rrt-pcr', 'symptom', 'case', 'porcine', 'adult', 'pathogen', 'child', 'ibv', 'genotype', 'canine', 'microarray', 'activity', 'cas', 'environmental', 'cpv-', 'air', 'fig', 'filmarray', 'dbs', 'dry', 'dose', 'rotavirus', 'lft', 'bla', 'ptov'], ['anxiety', 'depression', 'pandemic', 'symptom', 'stress', 'sleep', 'mental', 'health', 'worker', 'work', 'covid-', 'quality', 'study', 'nurse', 'woman', 'intervention', 'cope', 'patient', 'group', 'adult', 'old', 'adolescent', 'review', 'scale', 'strategy', 'pregnant', 'use', 'eat', 'sexual', 'resident', 'physician', 'social', 'caregiver', 'behavior', 'disorder', 'medium', 'search', 'exposure', 'youth', 'parent', 'child', 'food', 'increase', 'aor', 'intention', 'income', 'insecurity', 'turnover', 'soc', 'travel', 'german', 'military', 'non-clinical', 'integrity', 'cd-risc-'], ['covid-', 'mortality', 'group', 'outcome', 'day', 'infection', 'care', 'level', 'surgery', 'cancer', 'ventilation', 'study', 'lung', 'severe', 'case', 'respiratory', 'treatment', 'use', 'ards', 'chest', 'surgical', 'present', 'symptom', 'injury', 'pneumonia', 'diabetes', 'stroke', 'score', 'antibiotic', 'journal', 'review', 'transplant', 'control', 'transplantation', 'neurological', 'copd', 'vitamin', 'culture', 'cell', 'cost', 'eye', 'type', 'head', 'asthma', 'neck', 'blood', 'gene', 'tumor', 'hernia', 'diarrhea', 'repair'], ['study', 'infection', 'drug', 'datum', 'text', 'social', 'age', 'food', 'treatment', 'review', 'research', 'mask', 'activity', 'abstract', 'publisher', 'use', 'policy', 'cancer', 'risk', 'pubmed', 'sample', 'analysis', 'method', 'woman', 'trial', 'compound', 'lung', 'energy', 'air', 'water', 'acid', 'image', 'day', 'device', 'area', 'region', 'journal', 'patient', 'map', 'species', 'performance', 'disease', 'information', 'temperature', 'author', 'particle', 'immune', 'cell', 'outbreak', 'nature', 'surgery', 'aerosol', 'surgical'], ['les', 'des', 'une', 'las', 'pacientes', 'por', 'virus', 'food', 'covid', 'elsevier', 'right', 'infection', 'covid-', 'com', 'transformation', 'dos', 'alimentaires', 'viral', 'los', 'die', 'del', 'der', 'virtual', 'enfermedad', 'und', 'manifestation', 'org', 'consultation', 'learn', 'patient', 'school', 'student', 'pain', 'de-escalation', 'aspiration', 'antibiotic', 'novo', 'by-nc-nd', 'http', 'plasma', 'behavior', 'nature', 'word', 'therapy', 'bio', 'diminu', 'mortality', 'que', 'una', 'mortalidad', 'group'], ['care', 'patient', 'covid-', 'pandemic', 'nurse', 'health', 'research', 'hospital', 'public', 'disease', 'study', 'mental', 'social', 'program', 'intervention', 'practice', 'use', 'cancer', 'service', 'train', 'participant', 'woman', 'telehealth', 'telemedicine', 'family', 'community', 'policy', 'behavior', 'disaster', 'human', 'china', 'information', 'resident', 'equipment', 'ppe', 'critical', 'hiv', 'animal', 'urban', 'screen', 'maternal', 'abortion', 'hand', 'climate', 'resource', 'zika', 'ltc', 'dialysis'], ['disease', 'coronavirus', 'patient', 'respiratory', 'risk', 'symptom', 'treatment', 'drug', 'pandemic', 'acute', 'care', 'cytokine', 'pneumonia', 'severe', 'cell', 'case', 'image', 'immune', 'review', 'neurological', 'chest', 'woman', 'ace', 'search', 'covid', 'study', 'sars-cov-', 'model', 'journal', 'vitamin', 'pre-proof', 'use', 'pregnant', 'transmission', 'surgery', 'lesion', 'exposure', 'infection', 'contact', 'lung', 'manifestation', 'abstract', 'hcq', 'brain', 'surgical', 'skin', 'gastrointestinal', 'bacterial', 'abdominal'], ['antibody', 'development', 'patient', 'response', 'disease', 'immune', 'study', 'cell', 'dose', 'covid-', 'epitope', 'mrna', 'vaccination', 'infection', 'sars-cov-', 'strain', 'protein', 'coronavirus', 'population', 'virus', 'cancer', 'respiratory', 'design', 'hpv', 'bcg', 'ibv', 'syndrome', 'text', 'pneumonia', 'pneumococcal', 'publisher', 'serotype', 'malaria', 'elderly', 'measle', 'pubmed', 'child', 'maternal', 'parasite', 'plant', 'calve', 'rotavirus', 'bovine', 'ndv', 'peg', 'personnel', 'bvdv', 'military', 'africa', 'mmr', 'salmonella', 'opportunity'], ['rna', 'respiratory', 'disease', 'sequence', 'virus', 'antiviral', 'gene', 'isolate', 'bat', 'sample', 'genome', 'species', 'response', 'cell', 'antibody', 'activity', 'viral', 'immune', 'human', 'mouse', 'strain', 'pedv', 'use', 'mutation', 'pig', 'bacterial', 'cat', 'particle', 'avian', 'chicken', 'serum', 'bacterium', 'bovine', 'infection', 'codon', 'feline', 'surface', 'day', 'mutant', 'zikv', 'innate', 'pathogen', 'animal', 'usage', 'rate', 'mers-cov'], ['patient', 'risk', 'aor', 'case', 'covid-', 'group', 'test', 'study', 'rate', 'symptom', 'infection', 'health', 'disease', 'level', 'mortality', 'score', 'sars-cov-', 'woman', 'pandemic', 'sensitivity', 'influenza', 'respiratory', 'cancer', 'model', 'positive', 'treatment', 'virus', 'event', 'use', 'd-dimer', 'smoke', 'man', 'pneumonia', 'birth', 'vitamin', 'infant', 'surgery', 'bacterial', 'pulmonary', 'antibiotic', 'copd', 'smoker', 'dementia', 'obstructive', 'caregiver', 'profile'], ['case', 'distance', 'health', 'survey', 'lockdown', 'numb', 'risk', 'patient', 'healthcare', 'research', 'behavior', 'death', 'impact', 'rate', 'pandemic', 'mortality', 'economic', 'mask', 'crisis', 'restriction', 'service', 'test', 'journal', 'contact', 'study', 'model', 'social', 'resident', 'people', 'review', 'period', 'mobility', 'pre-proof', 'information', 'medium', 'education', 'covid', 'country', 'use', 'physical', 'program', 'italy', 'centre', 'user', 'free', 'vaccination', 'waste', 'management', 'utilization'], ['model', 'method', 'image', 'covid-', 'case', 'deep', 'use', 'patient', 'algorithm', 'epidemic', 'disease', 'time', 'problem', 'information', 'learn', 'datum', 'research', 'propose', 'machine', 'sequence', 'risk', 'drug', 'segmentation', 'study', 'human', 'decision', 'energy', 'animal', 'cell', 'object', 'surface', 'transition', 'region', 'search', 'module', 'species', 'consumption', 'waste', 'power', 'pathogen', 'stress', 'rumor', 'network', 'centrality', 'eye'], ['coronavirus', 'respiratory', 'patient', 'drug', 'sequence', 'mers-cov', 'antibody', 'ace', 'genome', 'infection', 'transmission', 'sars', 'inhibitor', 'protein', 'case', 'expression', 'model', 'risk', 'population', 'study', 'clinical', 'surface', 'middle', 'east', 'sars-cov-', 'cell', 'rate', 'concentration', 'viral', 'virus', 'brain', 'neurological', 'mask', 'plant', 'platelet', 'surgical', 'hcv', 'medicinal'], ['immune', 'response', 'infection', 'il-', 'virus', 'lung', 'viral', 'gene', 'cancer', 'covid-', 'cytokine', 'disease', 'sars-cov-', 'macrophage', 'ace', 'effect', 'expression', 'antibody', 'therapy', 'pathway', 'review', 'mouse', 'injury', 'ifn', 'analysis', 'use', 'culture', 'type', 'stem', 'brain', 'signal', 'patient', 'assay', 'cns', 'fig', 'level', 'peptide', 'stress', 'line', 'increase', 't-cell', 'mscs', 'bone', 'bind', 'antigen', 'microglia', 'class', 'complement', 'epitope', 'hepatitis', 'mhc'], ['respiratory', 'virus', 'infection', 'use', 'study', 'age', 'adult', 'parent', 'pandemic', 'patient', 'group', 'clinical', 'family', 'school', 'covid-', 'care', 'asthma', 'hbov', 'support', 'health', 'review', 'intervention', 'level', 'vaccine', 'food', 'vaccination', 'influenza', 'rate', 'wheeze', 'blood', 'antibody', 'sample', 'immune', 'woman', 'treatment', 'human', 'exposure', 'obesity', 'language', 'weight', 'violence', 'function', 'covid', 'free', 'delay', 'centre', 'word', 'spatial', 'gender', 'class', 'pregnant', 'surfactant', 'sibling', 'channel'], ['patients', 'environ', 'review', 'res', 'analysis', 'study', 'effects', 'lee', 'covid-', 'zhang', 'use', 'wang', 'factors', 'systematic', 'new', 'liu', 'role', 'kim', 'sci', 'int', 'sars-cov-', 'van', 'vaccines', 'effect', 'article', 'model', 'healthcare', 'therapy', 'potential', 'novel', 'med', 'cross-sectional', 'assessment', 'vaccine', 'health', 'stress', 'vaccination', 'park', 'fern', 'learning', 'screening', 'therapeutic', 'cells', 'approach', 'garc', 'nchez', 'inflammation', 'influence', 'method', 'cardiovascular', 'thomas', 'nguyen', 'compounds'], ['sci', 'https', 'int', 'health', 'doi', 'vaccines', 'article', 'review', 'citation', 'nutrients', 'lee', 'sensors', 'virus', 'cell', 'molecules', 'healthcare', 'wang', 'new', 'pathogens', 'zhang', 'microorganisms', 'van', 'protein', 'research', 'mart', 'yang', 'systems', 'outcomes', 'gonz', 'respiratory', 'challenges', 'lez', 'adult', 'south', 'retrospective', 'pain', 'activation', 'improves', 'young', 'release']] \n",
      " 19\n"
     ]
    }
   ],
   "source": [
    "print(all_keywords,\"\\n\", len(all_keywords))"
   ]
  },
  {
   "cell_type": "markdown",
   "metadata": {},
   "source": [
    "### LDA for every single paper\n",
    "\n",
    "Adpoted from https://towardsdatascience.com/end-to-end-topic-modeling-in-python-latent-dirichlet-allocation-lda-35ce4ed6b3e0"
   ]
  },
  {
   "cell_type": "code",
   "execution_count": 6,
   "metadata": {},
   "outputs": [],
   "source": [
    "df_covid=pd.read_csv(\"C:\\My files\\Courses\\CIS6050\\df_clean.csv\")"
   ]
  },
  {
   "cell_type": "code",
   "execution_count": 60,
   "metadata": {},
   "outputs": [],
   "source": [
    "paper_ids = df_covid['paper_id']"
   ]
  },
  {
   "cell_type": "code",
   "execution_count": 62,
   "metadata": {},
   "outputs": [
    {
     "data": {
      "text/plain": [
       "'0000b6da665726420ab8ac9246d526f2f44d5943'"
      ]
     },
     "execution_count": 62,
     "metadata": {},
     "output_type": "execute_result"
    }
   ],
   "source": [
    "paper_ids[0]"
   ]
  },
  {
   "cell_type": "code",
   "execution_count": 7,
   "metadata": {},
   "outputs": [],
   "source": [
    "df_text_s = df_covid['processed_text']"
   ]
  },
  {
   "cell_type": "code",
   "execution_count": 8,
   "metadata": {},
   "outputs": [
    {
     "data": {
      "text/plain": [
       "0         objective : home-test differentiate conductive...\n",
       "1         introduction objective : covid-19 outbreak unc...\n",
       "2         prolonged covid-19-related school closure uk r...\n",
       "3         feline infectious peritonitis virus ( fipv ) p...\n",
       "4         cctv surveillance center ( \" center \" ) seocho...\n",
       "                                ...                        \n",
       "153553    covid-19 pandemic , despite widespread social ...\n",
       "153554    global radial basis functions ( rbfs ) lead il...\n",
       "153555    publication type : original research article w...\n",
       "153556    protect human life , science public health nee...\n",
       "153557    studies activity rhythm pivotal management inv...\n",
       "Name: processed_text, Length: 153558, dtype: object"
      ]
     },
     "execution_count": 8,
     "metadata": {},
     "output_type": "execute_result"
    }
   ],
   "source": [
    "df_text_s"
   ]
  },
  {
   "cell_type": "code",
   "execution_count": 9,
   "metadata": {},
   "outputs": [],
   "source": [
    "import gensim"
   ]
  },
  {
   "cell_type": "code",
   "execution_count": 10,
   "metadata": {},
   "outputs": [],
   "source": [
    "def sent_to_words(sentences):\n",
    "    for sentence in sentences:\n",
    "        yield(gensim.utils.simple_preprocess(str(sentence), deacc=True))"
   ]
  },
  {
   "cell_type": "code",
   "execution_count": 11,
   "metadata": {},
   "outputs": [],
   "source": [
    "data = df_text_s.values.tolist()\n",
    "data_words = list(sent_to_words(data))"
   ]
  },
  {
   "cell_type": "code",
   "execution_count": 14,
   "metadata": {
    "collapsed": true
   },
   "outputs": [
    {
     "name": "stdout",
     "output_type": "stream",
     "text": [
      "[(4, 1), (36, 1), (43, 3), (48, 2), (60, 1), (67, 3), (77, 2), (102, 1), (117, 1), (148, 1), (158, 1), (175, 1), (176, 2), (177, 1), (178, 2), (179, 1), (180, 1), (181, 1), (182, 1), (183, 3), (184, 1), (185, 1), (186, 1), (187, 1), (188, 2), (189, 1), (190, 1), (191, 1), (192, 2), (193, 1), (194, 1), (195, 1), (196, 1), (197, 1), (198, 1), (199, 1), (200, 1), (201, 1), (202, 1), (203, 1), (204, 1), (205, 1), (206, 3), (207, 1), (208, 1), (209, 1), (210, 1), (211, 1), (212, 3), (213, 1), (214, 1), (215, 1), (216, 1), (217, 1), (218, 1), (219, 1), (220, 3), (221, 1), (222, 1), (223, 1), (224, 1), (225, 1), (226, 1), (227, 1), (228, 1), (229, 1), (230, 1), (231, 1), (232, 1), (233, 2), (234, 3), (235, 8), (236, 1), (237, 2), (238, 3), (239, 1), (240, 1), (241, 1), (242, 1), (243, 1), (244, 1)]\n"
     ]
    }
   ],
   "source": [
    "import gensim.corpora as corpora\n",
    "\n",
    "# Create Dictionary\n",
    "id2word = corpora.Dictionary(data_words)\n",
    "# Create Corpus\n",
    "texts = data_words\n",
    "# Term Document Frequency\n",
    "corpus = [id2word.doc2bow(text) for text in texts]"
   ]
  },
  {
   "cell_type": "markdown",
   "metadata": {},
   "source": [
    "Gensim creates unique id for each word in the document. Its mapping of word_id and word_frequency. Example: (4,1) above indicates, word_id 4 occurs once in the document and so on."
   ]
  },
  {
   "cell_type": "code",
   "execution_count": 38,
   "metadata": {},
   "outputs": [
    {
     "name": "stdout",
     "output_type": "stream",
     "text": [
      "[(4, 1), (36, 1), (43, 3), (48, 2), (60, 1), (67, 3), (77, 2), (102, 1), (117, 1), (148, 1), (158, 1), (175, 1), (176, 2), (177, 1), (178, 2), (179, 1), (180, 1), (181, 1), (182, 1), (183, 3), (184, 1), (185, 1), (186, 1), (187, 1), (188, 2), (189, 1), (190, 1), (191, 1), (192, 2), (193, 1), (194, 1), (195, 1), (196, 1), (197, 1), (198, 1), (199, 1), (200, 1), (201, 1), (202, 1), (203, 1), (204, 1), (205, 1), (206, 3), (207, 1), (208, 1), (209, 1), (210, 1), (211, 1), (212, 3), (213, 1), (214, 1), (215, 1), (216, 1), (217, 1), (218, 1), (219, 1), (220, 3), (221, 1), (222, 1), (223, 1), (224, 1), (225, 1), (226, 1), (227, 1), (228, 1), (229, 1), (230, 1), (231, 1), (232, 1), (233, 2), (234, 3), (235, 8), (236, 1), (237, 2), (238, 3), (239, 1), (240, 1), (241, 1), (242, 1), (243, 1), (244, 1)]\n"
     ]
    }
   ],
   "source": [
    "# View\n",
    "print(corpus[2])"
   ]
  },
  {
   "cell_type": "code",
   "execution_count": 89,
   "metadata": {
    "scrolled": true
   },
   "outputs": [
    {
     "name": "stdout",
     "output_type": "stream",
     "text": [
      "[(0,\n",
      "  '0.009*\"study\" + 0.007*\"covid\" + 0.007*\"datum\" + 0.006*\"use\" + '\n",
      "  '0.006*\"health\" + 0.005*\"model\" + 0.004*\"research\" + 0.004*\"time\" + '\n",
      "  '0.004*\"case\" + 0.004*\"analysis\"'),\n",
      " (1,\n",
      "  '0.018*\"covid\" + 0.018*\"patient\" + 0.009*\"study\" + 0.008*\"sars\" + '\n",
      "  '0.008*\"cov\" + 0.007*\"high\" + 0.007*\"group\" + 0.007*\"use\" + '\n",
      "  '0.006*\"infection\" + 0.005*\"severe\"'),\n",
      " (2,\n",
      "  '0.021*\"sars\" + 0.018*\"cov\" + 0.013*\"covid\" + 0.012*\"test\" + 0.009*\"patient\" '\n",
      "  '+ 0.006*\"use\" + 0.006*\"infection\" + 0.006*\"virus\" + 0.006*\"study\" + '\n",
      "  '0.005*\"coronavirus\"'),\n",
      " (3,\n",
      "  '0.017*\"covid\" + 0.016*\"patient\" + 0.012*\"health\" + 0.009*\"pandemic\" + '\n",
      "  '0.008*\"study\" + 0.007*\"care\" + 0.007*\"disease\" + 0.005*\"use\" + 0.005*\"high\" '\n",
      "  '+ 0.005*\"risk\"'),\n",
      " (4,\n",
      "  '0.015*\"patient\" + 0.010*\"use\" + 0.010*\"study\" + 0.008*\"model\" + 0.007*\"ci\" '\n",
      "  '+ 0.007*\"mortality\" + 0.006*\"covid\" + 0.005*\"rate\" + 0.004*\"hospital\" + '\n",
      "  '0.004*\"datum\"'),\n",
      " (5,\n",
      "  '0.011*\"covid\" + 0.011*\"use\" + 0.008*\"study\" + 0.007*\"health\" + '\n",
      "  '0.006*\"patient\" + 0.005*\"pandemic\" + 0.004*\"care\" + 0.004*\"change\" + '\n",
      "  '0.004*\"datum\" + 0.004*\"system\"'),\n",
      " (6,\n",
      "  '0.016*\"virus\" + 0.009*\"disease\" + 0.006*\"high\" + 0.006*\"use\" + '\n",
      "  '0.006*\"infection\" + 0.006*\"study\" + 0.006*\"covid\" + 0.005*\"viral\" + '\n",
      "  '0.005*\"cell\" + 0.004*\"result\"'),\n",
      " (7,\n",
      "  '0.009*\"use\" + 0.007*\"study\" + 0.005*\"cell\" + 0.005*\"system\" + 0.005*\"test\" '\n",
      "  '+ 0.005*\"health\" + 0.004*\"development\" + 0.004*\"result\" + 0.004*\"review\" + '\n",
      "  '0.004*\"research\"'),\n",
      " (8,\n",
      "  '0.012*\"study\" + 0.009*\"virus\" + 0.007*\"infection\" + 0.005*\"cov\" + '\n",
      "  '0.005*\"human\" + 0.005*\"covid\" + 0.005*\"sars\" + 0.004*\"increase\" + '\n",
      "  '0.004*\"high\" + 0.004*\"model\"'),\n",
      " (9,\n",
      "  '0.007*\"protein\" + 0.007*\"use\" + 0.006*\"covid\" + 0.006*\"cell\" + '\n",
      "  '0.005*\"vaccine\" + 0.005*\"high\" + 0.005*\"study\" + 0.005*\"virus\" + '\n",
      "  '0.004*\"group\" + 0.004*\"infection\"'),\n",
      " (10,\n",
      "  '0.013*\"model\" + 0.008*\"infection\" + 0.007*\"disease\" + 0.006*\"covid\" + '\n",
      "  '0.006*\"network\" + 0.005*\"virus\" + 0.005*\"cell\" + 0.005*\"cov\" + '\n",
      "  '0.005*\"pandemic\" + 0.005*\"viral\"'),\n",
      " (11,\n",
      "  '0.008*\"study\" + 0.007*\"infection\" + 0.006*\"virus\" + 0.005*\"use\" + '\n",
      "  '0.005*\"disease\" + 0.004*\"sample\" + 0.004*\"coronavirus\" + 0.004*\"bat\" + '\n",
      "  '0.003*\"cell\" + 0.003*\"analysis\"'),\n",
      " (12,\n",
      "  '0.013*\"covid\" + 0.012*\"patient\" + 0.009*\"infection\" + 0.007*\"use\" + '\n",
      "  '0.006*\"cov\" + 0.005*\"sars\" + 0.005*\"cell\" + 0.005*\"study\" + 0.005*\"case\" + '\n",
      "  '0.005*\"vaccine\"'),\n",
      " (13,\n",
      "  '0.013*\"covid\" + 0.009*\"use\" + 0.008*\"study\" + 0.008*\"patient\" + '\n",
      "  '0.005*\"method\" + 0.004*\"pandemic\" + 0.004*\"model\" + 0.004*\"disease\" + '\n",
      "  '0.004*\"time\" + 0.004*\"test\"'),\n",
      " (14,\n",
      "  '0.010*\"use\" + 0.007*\"study\" + 0.006*\"cov\" + 0.006*\"model\" + '\n",
      "  '0.005*\"increase\" + 0.005*\"sars\" + 0.005*\"covid\" + 0.004*\"disease\" + '\n",
      "  '0.004*\"infection\" + 0.004*\"result\"'),\n",
      " (15,\n",
      "  '0.024*\"patient\" + 0.014*\"covid\" + 0.010*\"case\" + 0.008*\"disease\" + '\n",
      "  '0.006*\"infection\" + 0.006*\"use\" + 0.006*\"study\" + 0.005*\"clinical\" + '\n",
      "  '0.005*\"symptom\" + 0.005*\"report\"'),\n",
      " (16,\n",
      "  '0.011*\"social\" + 0.008*\"use\" + 0.006*\"study\" + 0.005*\"virus\" + '\n",
      "  '0.005*\"disease\" + 0.004*\"datum\" + 0.004*\"covid\" + 0.004*\"model\" + '\n",
      "  '0.004*\"learn\" + 0.004*\"provide\"'),\n",
      " (17,\n",
      "  '0.009*\"student\" + 0.008*\"study\" + 0.008*\"use\" + 0.007*\"de\" + 0.007*\"covid\" '\n",
      "  '+ 0.006*\"patient\" + 0.006*\"health\" + 0.005*\"online\" + 0.004*\"pandemic\" + '\n",
      "  '0.004*\"la\"'),\n",
      " (18,\n",
      "  '0.011*\"use\" + 0.009*\"cell\" + 0.009*\"cov\" + 0.008*\"sars\" + 0.008*\"patient\" + '\n",
      "  '0.006*\"covid\" + 0.005*\"protein\" + 0.005*\"drug\" + 0.005*\"study\" + '\n",
      "  '0.005*\"high\"'),\n",
      " (19,\n",
      "  '0.014*\"cell\" + 0.013*\"protein\" + 0.013*\"cov\" + 0.011*\"sars\" + 0.009*\"virus\" '\n",
      "  '+ 0.007*\"infection\" + 0.007*\"covid\" + 0.006*\"study\" + 0.006*\"use\" + '\n",
      "  '0.006*\"disease\"')]\n"
     ]
    }
   ],
   "source": [
    "from pprint import pprint\n",
    "\n",
    "# Build LDA model\n",
    "lda_model = gensim.models.LdaMulticore(corpus=corpus,\n",
    "                                       id2word=id2word,\n",
    "                                       num_topics=NUM_TOPICS_PER_CLUSTER)\n",
    "# Print the Keyword in the 20 topics\n",
    "pprint(lda_model.print_topics())\n",
    "doc_lda = lda_model[corpus]"
   ]
  },
  {
   "cell_type": "code",
   "execution_count": 98,
   "metadata": {},
   "outputs": [],
   "source": [
    "def extractDigits(lst):\n",
    "    return [[el] for el in lst]\n",
    "\n",
    "#Change a list of words to list of lists\n",
    "ll_words = extractDigits(data_words[0])\n",
    "\n",
    "# Create Dictionary\n",
    "id2word_t = corpora.Dictionary(ll_words)\n",
    "\n",
    "# Create Corpus\n",
    "texts_t = ll_words\n",
    "\n",
    "# Term Document Frequency\n",
    "corpus_t = [id2word.doc2bow(text) for text in texts_t]    \n",
    "\n",
    "# Build LDA model\n",
    "lda_model = gensim.models.LdaMulticore(corpus=corpus_t,\n",
    "                                       id2word=id2word_t,\n",
    "                                       num_topics=NUM_TOPICS_PER_CLUSTER)"
   ]
  },
  {
   "cell_type": "code",
   "execution_count": 102,
   "metadata": {},
   "outputs": [
    {
     "name": "stdout",
     "output_type": "stream",
     "text": [
      "[(0,\n",
      "  '0.096*\"administer\" + 0.050*\"test\" + 0.050*\"provide\" + 0.050*\"similar\" + '\n",
      "  '0.050*\"sound\" + 0.050*\"determine\" + 0.050*\"sectional\" + 0.050*\"patient\" + '\n",
      "  '0.050*\"evidence\" + 0.050*\"novel\"'),\n",
      " (1,\n",
      "  '0.125*\"wtft\" + 0.065*\"telemedicine\" + 0.065*\"provide\" + 0.065*\"finding\" + '\n",
      "  '0.065*\"perceive\" + 0.065*\"report\" + 0.065*\"design\" + 0.006*\"reliably\" + '\n",
      "  '0.006*\"hz\" + 0.006*\"recent\"'),\n",
      " (2,\n",
      "  '0.130*\"consistent\" + 0.046*\"hz\" + 0.046*\"telemedicine\" + 0.046*\"loud\" + '\n",
      "  '0.046*\"wtft\" + 0.046*\"audiogram\" + 0.046*\"self\" + 0.046*\"cell\" + '\n",
      "  '0.046*\"hear\" + 0.046*\"differentiate\"'),\n",
      " (3,\n",
      "  '0.149*\"consecutive\" + 0.053*\"reliably\" + 0.053*\"calculate\" + 0.053*\"assess\" '\n",
      "  '+ 0.053*\"weber\" + 0.053*\"fork\" + 0.053*\"expect\" + 0.053*\"conductive\" + '\n",
      "  '0.053*\"vibrate\" + 0.053*\"study\"'),\n",
      " (4,\n",
      "  '0.097*\"reliably\" + 0.097*\"loud\" + 0.066*\"audiogram\" + 0.066*\"telemedicine\" '\n",
      "  '+ 0.035*\"cpvt\" + 0.035*\"similar\" + 0.035*\"recent\" + 0.035*\"cohort\" + '\n",
      "  '0.035*\"involve\" + 0.035*\"remain\"'),\n",
      " (5,\n",
      "  '0.180*\"hz\" + 0.048*\"calculate\" + 0.048*\"recent\" + 0.048*\"group\" + '\n",
      "  '0.048*\"wtft\" + 0.048*\"loss\" + 0.048*\"cohort\" + 0.048*\"cross\" + '\n",
      "  '0.048*\"compare\" + 0.048*\"conclusions\"'),\n",
      " (6,\n",
      "  '0.212*\"reliably\" + 0.073*\"month\" + 0.073*\"recent\" + 0.038*\"substantial\" + '\n",
      "  '0.038*\"base\" + 0.038*\"results\" + 0.038*\"recruit\" + 0.038*\"provider\" + '\n",
      "  '0.038*\"vibration\" + 0.038*\"loss\"'),\n",
      " (7,\n",
      "  '0.120*\"test\" + 0.081*\"cpvt\" + 0.043*\"remain\" + 0.043*\"audiometric\" + '\n",
      "  '0.043*\"validate\" + 0.043*\"elusive\" + 0.043*\"result\" + 0.043*\"consist\" + '\n",
      "  '0.043*\"administered\" + 0.043*\"examine\"'),\n",
      " (8,\n",
      "  '0.074*\"reliably\" + 0.074*\"telemedicine\" + 0.074*\"audiogram\" + '\n",
      "  '0.074*\"finding\" + 0.074*\"agreement\" + 0.074*\"formal\" + 0.007*\"hz\" + '\n",
      "  '0.007*\"wtft\" + 0.007*\"test\" + 0.007*\"provide\"'),\n",
      " (9,\n",
      "  '0.108*\"ear\" + 0.073*\"telemedicine\" + 0.073*\"hz\" + 0.073*\"provide\" + '\n",
      "  '0.038*\"similar\" + 0.038*\"center\" + 0.038*\"recruit\" + 0.038*\"appropriate\" + '\n",
      "  '0.038*\"concordance\" + 0.038*\"additional\"')]\n"
     ]
    }
   ],
   "source": [
    "pprint(lda_model.print_topics())\n",
    "doc_lda = lda_model[corpus_t]"
   ]
  },
  {
   "cell_type": "code",
   "execution_count": 97,
   "metadata": {},
   "outputs": [
    {
     "data": {
      "text/plain": [
       "['prolonged',\n",
       " 'covid',\n",
       " 'related',\n",
       " 'school',\n",
       " 'closure',\n",
       " 'uk',\n",
       " 'raise',\n",
       " 'concern',\n",
       " 'science',\n",
       " 'teach',\n",
       " 'learn',\n",
       " 'primary',\n",
       " 'level',\n",
       " 'negative',\n",
       " 'impact',\n",
       " 'paper',\n",
       " 'report',\n",
       " 'finding',\n",
       " 'phase',\n",
       " 'study',\n",
       " 'author',\n",
       " 'conduct',\n",
       " 'teacher',\n",
       " 'parent',\n",
       " 'explore',\n",
       " 'issue',\n",
       " 'find',\n",
       " 'significant',\n",
       " 'proportion',\n",
       " 'teacher',\n",
       " 'provide',\n",
       " 'little',\n",
       " 'science',\n",
       " 'lockdown',\n",
       " 'normal',\n",
       " 'school',\n",
       " 'week',\n",
       " 'teachers',\n",
       " 'particularly',\n",
       " 'work',\n",
       " 'deprive',\n",
       " 'area',\n",
       " 'report',\n",
       " 'translate',\n",
       " 'science',\n",
       " 'curriculum',\n",
       " 'home',\n",
       " 'learn',\n",
       " 'difficult',\n",
       " 'concern',\n",
       " 'resource',\n",
       " 'internet',\n",
       " 'access',\n",
       " 'parental',\n",
       " 'ability',\n",
       " 'help',\n",
       " 'area',\n",
       " 'curriculum',\n",
       " 'pose',\n",
       " 'particular',\n",
       " 'difficulty',\n",
       " 'lead',\n",
       " 'narrow',\n",
       " 'topic',\n",
       " 'teach',\n",
       " 'teacher',\n",
       " 'parent',\n",
       " 'feel',\n",
       " 'school',\n",
       " 'prioritise',\n",
       " 'english',\n",
       " 'math',\n",
       " 'science',\n",
       " 'parent',\n",
       " 'report',\n",
       " 'child',\n",
       " 'engage',\n",
       " 'sophisticate',\n",
       " 'extracurricular',\n",
       " 'activity',\n",
       " 'bolster',\n",
       " 'resource',\n",
       " 'available',\n",
       " 'home',\n",
       " 'knowledgeable',\n",
       " 'adult',\n",
       " 'help',\n",
       " 'child',\n",
       " 'science',\n",
       " 'parents',\n",
       " 'study',\n",
       " 'science',\n",
       " 'post',\n",
       " 'compulsory',\n",
       " 'level',\n",
       " 'comfortable',\n",
       " 'help',\n",
       " 'child',\n",
       " 'science',\n",
       " 'home',\n",
       " 'learn',\n",
       " 'factor',\n",
       " 'combine',\n",
       " 'create',\n",
       " 'condition',\n",
       " 'exacerbate',\n",
       " 'exist',\n",
       " 'inequality',\n",
       " 'access',\n",
       " 'science',\n",
       " 'education',\n",
       " 'career']"
      ]
     },
     "execution_count": 97,
     "metadata": {},
     "output_type": "execute_result"
    }
   ],
   "source": [
    "data_words[2]"
   ]
  },
  {
   "cell_type": "code",
   "execution_count": 101,
   "metadata": {},
   "outputs": [
    {
     "data": {
      "text/plain": [
       "[[(54, 1)],\n",
       " [(43, 1)],\n",
       " [(80, 1)],\n",
       " [(29, 1)],\n",
       " [(21, 1)],\n",
       " [(72, 1)],\n",
       " [(42, 1)],\n",
       " [(49, 1)],\n",
       " [(66, 1)],\n",
       " [(31, 1)],\n",
       " [(40, 1)],\n",
       " [(83, 1)],\n",
       " [(53, 1)],\n",
       " [(12, 1)],\n",
       " [(58, 1)],\n",
       " [(85, 1)],\n",
       " [(80, 1)],\n",
       " [(25, 1)],\n",
       " [(86, 1)],\n",
       " [(81, 1)],\n",
       " [(38, 1)],\n",
       " [(80, 1)],\n",
       " [(87, 1)],\n",
       " [(7, 1)],\n",
       " [(25, 1)],\n",
       " [(71, 1)],\n",
       " [(2, 1)],\n",
       " [(55, 1)],\n",
       " [(65, 1)],\n",
       " [(77, 1)],\n",
       " [(27, 1)],\n",
       " [(26, 1)],\n",
       " [(70, 1)],\n",
       " [(51, 1)],\n",
       " [(25, 1)],\n",
       " [(46, 1)],\n",
       " [(59, 1)],\n",
       " [(84, 1)],\n",
       " [(13, 1)],\n",
       " [(14, 1)],\n",
       " [(37, 1)],\n",
       " [(28, 1)],\n",
       " [(30, 1)],\n",
       " [(56, 1)],\n",
       " [(74, 1)],\n",
       " [(50, 1)],\n",
       " [(22, 1)],\n",
       " [(4, 1)],\n",
       " [(55, 1)],\n",
       " [(8, 1)],\n",
       " [(52, 1)],\n",
       " [(67, 1)],\n",
       " [(63, 1)],\n",
       " [(42, 1)],\n",
       " [(15, 1)],\n",
       " [(64, 1)],\n",
       " [(41, 1)],\n",
       " [(23, 1)],\n",
       " [(55, 1)],\n",
       " [(34, 1)],\n",
       " [(61, 1)],\n",
       " [(25, 1)],\n",
       " [(87, 1)],\n",
       " [(82, 1)],\n",
       " [(81, 1)],\n",
       " [(38, 1)],\n",
       " [(44, 1)],\n",
       " [(41, 1)],\n",
       " [(23, 1)],\n",
       " [(1, 1)],\n",
       " [(55, 1)],\n",
       " [(62, 1)],\n",
       " [(45, 1)],\n",
       " [(25, 1)],\n",
       " [(47, 1)],\n",
       " [(75, 1)],\n",
       " [(11, 1)],\n",
       " [(7, 1)],\n",
       " [(76, 1)],\n",
       " [(20, 1)],\n",
       " [(25, 1)],\n",
       " [(87, 1)],\n",
       " [(9, 1)],\n",
       " [(36, 1)],\n",
       " [(41, 1)],\n",
       " [(55, 1)],\n",
       " [(71, 1)],\n",
       " [(2, 1)],\n",
       " [(61, 1)],\n",
       " [(2, 1)],\n",
       " [(25, 1)],\n",
       " [(87, 1)],\n",
       " [(41, 1)],\n",
       " [(69, 1)],\n",
       " [(20, 1)],\n",
       " [(25, 1)],\n",
       " [(87, 1)],\n",
       " [(32, 1)],\n",
       " [(17, 1)],\n",
       " [(78, 1)],\n",
       " [(47, 1)],\n",
       " [(16, 1)],\n",
       " [(44, 1)],\n",
       " [(44, 1)],\n",
       " [(44, 1)],\n",
       " [(73, 1)],\n",
       " [(20, 1)],\n",
       " [(0, 1)],\n",
       " [(35, 1)],\n",
       " [(68, 1)],\n",
       " [(10, 1)],\n",
       " [(8, 1)],\n",
       " [(47, 1)],\n",
       " [(16, 1)],\n",
       " [(25, 1)],\n",
       " [(87, 1)],\n",
       " [(20, 1)],\n",
       " [(55, 1)],\n",
       " [(3, 1)],\n",
       " [(61, 1)],\n",
       " [(3, 1)],\n",
       " [(25, 1)],\n",
       " [(57, 1)],\n",
       " [(5, 1)],\n",
       " [(47, 1)],\n",
       " [(16, 1)],\n",
       " [(19, 1)],\n",
       " [(25, 1)],\n",
       " [(60, 1)],\n",
       " [(24, 1)],\n",
       " [(68, 1)],\n",
       " [(18, 1)],\n",
       " [(39, 1)],\n",
       " [(87, 1)],\n",
       " [(65, 1)],\n",
       " [(71, 1)],\n",
       " [(2, 1)],\n",
       " [(55, 1)],\n",
       " [(6, 1)],\n",
       " [(45, 1)],\n",
       " [(48, 1)],\n",
       " [(33, 1)],\n",
       " [(42, 1)],\n",
       " [(49, 1)],\n",
       " [(79, 1)],\n",
       " [(81, 1)],\n",
       " [(38, 1)],\n",
       " [(80, 1)]]"
      ]
     },
     "execution_count": 101,
     "metadata": {},
     "output_type": "execute_result"
    }
   ],
   "source": [
    "corpus_t"
   ]
  },
  {
   "cell_type": "code",
   "execution_count": 69,
   "metadata": {},
   "outputs": [],
   "source": [
    "def extractDigits(lst):\n",
    "    return [[el] for el in lst]"
   ]
  },
  {
   "cell_type": "code",
   "execution_count": 94,
   "metadata": {
    "scrolled": true
   },
   "outputs": [
    {
     "name": "stderr",
     "output_type": "stream",
     "text": [
      "\r",
      "  0%|                                                                                                                                                                                                               | 0/5 [00:00<?, ?it/s]"
     ]
    },
    {
     "name": "stdout",
     "output_type": "stream",
     "text": [
      "0\n",
      "[['objective'], ['home'], ['test'], ['differentiate'], ['conductive'], ['sensorineural'], ['hear'], ['loss'], ['remain'], ['elusive'], ['goal'], ['validate'], ['novel'], ['cell'], ['phone'], ['vibration'], ['test'], ['cpvt'], ['weber'], ['tune'], ['fork'], ['test'], ['wtft'], ['assess'], ['cpvt'], ['self'], ['administer'], ['patient'], ['reliably'], ['study'], ['design'], ['cross'], ['sectional'], ['methods'], ['cpvt'], ['involve'], ['placement'], ['vibrate'], ['cellphone'], ['center'], ['forehead'], ['determine'], ['ear'], ['perceive'], ['sound'], ['loud'], ['consecutive'], ['adult'], ['patient'], ['audiogram'], ['month'], ['report'], ['recent'], ['hear'], ['change'], ['recruit'], ['group'], ['consist'], ['patient'], ['examine'], ['provider'], ['cpvt'], ['wtft'], ['use'], ['tune'], ['fork'], ['hz'], ['group'], ['consist'], ['additional'], ['patient'], ['receive'], ['instruction'], ['cpvt'], ['kappa'], ['statistic'], ['calculate'], ['assess'], ['strength'], ['concordance'], ['cpvt'], ['wtft'], ['audiometric'], ['finding'], ['group'], ['patient'], ['self'], ['administer'], ['provider'], ['administer'], ['cpvt'], ['wtft'], ['group'], ['results'], ['concordance'], ['cpvt'], ['wtft'], ['entire'], ['cohort'], ['substantial'], ['kappa'], ['coefficient'], ['hz'], ['hz'], ['hz'], ['similar'], ['concordance'], ['actual'], ['expect'], ['result'], ['base'], ['audiogram'], ['kappa'], ['coefficient'], ['cpvt'], ['wtft'], ['concordance'], ['patient'], ['administered'], ['provider'], ['administered'], ['cpvt'], ['perfect'], ['agreement'], ['kappa'], ['coefficient'], ['conclusions'], ['cpvt'], ['provide'], ['consistent'], ['result'], ['compare'], ['formal'], ['wtft'], ['reliably'], ['self'], ['administer'], ['patient'], ['appropriate'], ['instruction'], ['level'], ['evidence'], ['hear'], ['loss'], ['telemedicine'], ['tune'], ['fork'], ['test']]\n",
      "[[(54, 1)], [(43, 1)], [(80, 1)], [(29, 1)], [(21, 1)], [(72, 1)], [(42, 1)], [(49, 1)], [(66, 1)], [(31, 1)], [(40, 1)], [(83, 1)], [(53, 1)], [(12, 1)], [(58, 1)], [(85, 1)], [(80, 1)], [(25, 1)], [(86, 1)], [(81, 1)], [(38, 1)], [(80, 1)], [(87, 1)], [(7, 1)], [(25, 1)], [(71, 1)], [(2, 1)], [(55, 1)], [(65, 1)], [(77, 1)], [(27, 1)], [(26, 1)], [(70, 1)], [(51, 1)], [(25, 1)], [(46, 1)], [(59, 1)], [(84, 1)], [(13, 1)], [(14, 1)], [(37, 1)], [(28, 1)], [(30, 1)], [(56, 1)], [(74, 1)], [(50, 1)], [(22, 1)], [(4, 1)], [(55, 1)], [(8, 1)], [(52, 1)], [(67, 1)], [(63, 1)], [(42, 1)], [(15, 1)], [(64, 1)], [(41, 1)], [(23, 1)], [(55, 1)], [(34, 1)], [(61, 1)], [(25, 1)], [(87, 1)], [(82, 1)], [(81, 1)], [(38, 1)], [(44, 1)], [(41, 1)], [(23, 1)], [(1, 1)], [(55, 1)], [(62, 1)], [(45, 1)], [(25, 1)], [(47, 1)], [(75, 1)], [(11, 1)], [(7, 1)], [(76, 1)], [(20, 1)], [(25, 1)], [(87, 1)], [(9, 1)], [(36, 1)], [(41, 1)], [(55, 1)], [(71, 1)], [(2, 1)], [(61, 1)], [(2, 1)], [(25, 1)], [(87, 1)], [(41, 1)], [(69, 1)], [(20, 1)], [(25, 1)], [(87, 1)], [(32, 1)], [(17, 1)], [(78, 1)], [(47, 1)], [(16, 1)], [(44, 1)], [(44, 1)], [(44, 1)], [(73, 1)], [(20, 1)], [(0, 1)], [(35, 1)], [(68, 1)], [(10, 1)], [(8, 1)], [(47, 1)], [(16, 1)], [(25, 1)], [(87, 1)], [(20, 1)], [(55, 1)], [(3, 1)], [(61, 1)], [(3, 1)], [(25, 1)], [(57, 1)], [(5, 1)], [(47, 1)], [(16, 1)], [(19, 1)], [(25, 1)], [(60, 1)], [(24, 1)], [(68, 1)], [(18, 1)], [(39, 1)], [(87, 1)], [(65, 1)], [(71, 1)], [(2, 1)], [(55, 1)], [(6, 1)], [(45, 1)], [(48, 1)], [(33, 1)], [(42, 1)], [(49, 1)], [(79, 1)], [(81, 1)], [(38, 1)], [(80, 1)]]\n"
     ]
    },
    {
     "name": "stderr",
     "output_type": "stream",
     "text": [
      "\r",
      " 20%|███████████████████████████████████████▊                                                                                                                                                               | 1/5 [00:07<00:30,  7.58s/it]"
     ]
    },
    {
     "name": "stdout",
     "output_type": "stream",
     "text": [
      "1\n",
      "[['introduction'], ['objective'], ['covid'], ['outbreak'], ['unclear'], ['impact'], ['treatment'], ['outcome'], ['patient'], ['st'], ['segment'], ['elevation'], ['myocardial'], ['infarction'], ['stemi'], ['aim'], ['study'], ['assess'], ['change'], ['stemi'], ['management'], ['covid'], ['outbreak'], ['methods'], ['multicenter'], ['nationwide'], ['retrospective'], ['observational'], ['registry'], ['consecutive'], ['patient'], ['manage'], ['specific'], ['stemi'], ['care'], ['center'], ['spain'], ['compare'], ['patient'], ['procedural'], ['characteristic'], ['in'], ['hospital'], ['outcome'], ['different'], ['cohort'], ['day'], ['follow'], ['up'], ['accord'], ['patient'], ['treat'], ['covid'], ['results'], ['suspected'], ['stemi'], ['patient'], ['treat'], ['stemi'], ['network'], ['decrease'], ['patient'], ['confirm'], ['stemi'], ['fall'], ['difference'], ['reperfusion'], ['strategy'], ['treat'], ['primary'], ['percutaneous'], ['coronary'], ['intervention'], ['cohort'], ['patients'], ['treat'], ['primary'], ['percutaneous'], ['coronary'], ['intervention'], ['covid'], ['outbreak'], ['long'], ['ischemic'], ['time'], ['vs'], ['minute'], ['difference'], ['time'], ['medical'], ['contact'], ['reperfusion'], ['in'], ['hospital'], ['mortality'], ['high'], ['covid'], ['vs'], ['unadjusted'], ['ci'], ['association'], ['remain'], ['adjustment'], ['confounder'], ['risk'], ['adjusted'], ['ci'], ['cohort'], ['incidence'], ['confirm'], ['sars'], ['cov'], ['infection'], ['hospitalization'], ['conclusions'], ['numb'], ['stemi'], ['patient'], ['treat'], ['current'], ['covid'], ['outbreak'], ['fall'], ['vs'], ['previous'], ['year'], ['increase'], ['median'], ['time'], ['symptom'], ['onset'], ['reperfusion'], ['significant'], ['fold'], ['increase'], ['rate'], ['in'], ['hospital'], ['mortality'], ['change'], ['reperfusion'], ['strategy'], ['detect'], ['primary'], ['percutaneous'], ['coronary'], ['intervention'], ['perform'], ['vast'], ['majority'], ['patient'], ['co'], ['existence'], ['stemi'], ['sars'], ['cov'], ['infection'], ['relatively'], ['infrequent']]\n",
      "[[(125, 1)], [(54, 1)], [(102, 1)], [(142, 1)], [(170, 1)], [(117, 1)], [(168, 1)], [(143, 1)], [(55, 1)], [(161, 1)], [(157, 1)], [(109, 1)], [(136, 1)], [(121, 1)], [(162, 1)], [(91, 1)], [(77, 1)], [(7, 1)], [(15, 1)], [(162, 1)], [(130, 1)], [(102, 1)], [(142, 1)], [(51, 1)], [(135, 1)], [(137, 1)], [(154, 1)], [(140, 1)], [(151, 1)], [(22, 1)], [(55, 1)], [(129, 1)], [(160, 1)], [(162, 1)], [(93, 1)], [(14, 1)], [(159, 1)], [(18, 1)], [(55, 1)], [(149, 1)], [(94, 1)], [(118, 1)], [(115, 1)], [(143, 1)], [(108, 1)], [(17, 1)], [(104, 1)], [(113, 1)], [(171, 1)], [(88, 1)], [(55, 1)], [(167, 1)], [(102, 1)], [(69, 1)], [(164, 1)], [(162, 1)], [(55, 1)], [(167, 1)], [(162, 1)], [(138, 1)], [(105, 1)], [(55, 1)], [(97, 1)], [(162, 1)], [(111, 1)], [(107, 1)], [(153, 1)], [(163, 1)], [(167, 1)], [(148, 1)], [(145, 1)], [(100, 1)], [(124, 1)], [(17, 1)], [(144, 1)], [(167, 1)], [(148, 1)], [(145, 1)], [(100, 1)], [(124, 1)], [(102, 1)], [(142, 1)], [(127, 1)], [(126, 1)], [(166, 1)], [(173, 1)], [(133, 1)], [(107, 1)], [(166, 1)], [(132, 1)], [(99, 1)], [(153, 1)], [(118, 1)], [(115, 1)], [(134, 1)], [(114, 1)], [(102, 1)], [(173, 1)], [(169, 1)], [(95, 1)], [(92, 1)], [(66, 1)], [(90, 1)], [(98, 1)], [(155, 1)], [(89, 1)], [(95, 1)], [(17, 1)], [(119, 1)], [(97, 1)], [(156, 1)], [(101, 1)], [(122, 1)], [(116, 1)], [(19, 1)], [(139, 1)], [(162, 1)], [(55, 1)], [(167, 1)], [(103, 1)], [(102, 1)], [(142, 1)], [(111, 1)], [(173, 1)], [(147, 1)], [(174, 1)], [(120, 1)], [(131, 1)], [(166, 1)], [(165, 1)], [(141, 1)], [(153, 1)], [(158, 1)], [(112, 1)], [(120, 1)], [(150, 1)], [(118, 1)], [(115, 1)], [(134, 1)], [(15, 1)], [(153, 1)], [(163, 1)], [(106, 1)], [(148, 1)], [(145, 1)], [(100, 1)], [(124, 1)], [(146, 1)], [(172, 1)], [(128, 1)], [(55, 1)], [(96, 1)], [(110, 1)], [(162, 1)], [(156, 1)], [(101, 1)], [(122, 1)], [(152, 1)], [(123, 1)]]\n"
     ]
    },
    {
     "name": "stderr",
     "output_type": "stream",
     "text": [
      " 20%|███████████████████████████████████████▊                                                                                                                                                               | 1/5 [00:32<02:11, 32.98s/it]\n"
     ]
    },
    {
     "ename": "KeyboardInterrupt",
     "evalue": "",
     "output_type": "error",
     "traceback": [
      "\u001b[1;31m---------------------------------------------------------------------------\u001b[0m",
      "\u001b[1;31mKeyboardInterrupt\u001b[0m                         Traceback (most recent call last)",
      "\u001b[1;32m<ipython-input-94-e5425af17792>\u001b[0m in \u001b[0;36m<module>\u001b[1;34m\u001b[0m\n\u001b[0;32m     25\u001b[0m \u001b[1;33m\u001b[0m\u001b[0m\n\u001b[0;32m     26\u001b[0m     \u001b[1;31m# Build LDA model\u001b[0m\u001b[1;33m\u001b[0m\u001b[1;33m\u001b[0m\u001b[1;33m\u001b[0m\u001b[0m\n\u001b[1;32m---> 27\u001b[1;33m     lda_model = gensim.models.LdaMulticore(corpus=corpus_t,\n\u001b[0m\u001b[0;32m     28\u001b[0m                                            \u001b[0mid2word\u001b[0m\u001b[1;33m=\u001b[0m\u001b[0mid2word_t\u001b[0m\u001b[1;33m,\u001b[0m\u001b[1;33m\u001b[0m\u001b[1;33m\u001b[0m\u001b[0m\n\u001b[0;32m     29\u001b[0m                                            num_topics=NUM_TOPICS_PER_CLUSTER)\n",
      "\u001b[1;32mC:\\ProgramData\\Anaconda3\\lib\\site-packages\\gensim\\models\\ldamulticore.py\u001b[0m in \u001b[0;36m__init__\u001b[1;34m(self, corpus, num_topics, id2word, workers, chunksize, passes, batch, alpha, eta, decay, offset, eval_every, iterations, gamma_threshold, random_state, minimum_probability, minimum_phi_value, per_word_topics, dtype)\u001b[0m\n\u001b[0;32m    184\u001b[0m             \u001b[1;32mraise\u001b[0m \u001b[0mNotImplementedError\u001b[0m\u001b[1;33m(\u001b[0m\u001b[1;34m\"auto-tuning alpha not implemented in LdaMulticore; use plain LdaModel.\"\u001b[0m\u001b[1;33m)\u001b[0m\u001b[1;33m\u001b[0m\u001b[1;33m\u001b[0m\u001b[0m\n\u001b[0;32m    185\u001b[0m \u001b[1;33m\u001b[0m\u001b[0m\n\u001b[1;32m--> 186\u001b[1;33m         super(LdaMulticore, self).__init__(\n\u001b[0m\u001b[0;32m    187\u001b[0m             \u001b[0mcorpus\u001b[0m\u001b[1;33m=\u001b[0m\u001b[0mcorpus\u001b[0m\u001b[1;33m,\u001b[0m \u001b[0mnum_topics\u001b[0m\u001b[1;33m=\u001b[0m\u001b[0mnum_topics\u001b[0m\u001b[1;33m,\u001b[0m\u001b[1;33m\u001b[0m\u001b[1;33m\u001b[0m\u001b[0m\n\u001b[0;32m    188\u001b[0m             \u001b[0mid2word\u001b[0m\u001b[1;33m=\u001b[0m\u001b[0mid2word\u001b[0m\u001b[1;33m,\u001b[0m \u001b[0mchunksize\u001b[0m\u001b[1;33m=\u001b[0m\u001b[0mchunksize\u001b[0m\u001b[1;33m,\u001b[0m \u001b[0mpasses\u001b[0m\u001b[1;33m=\u001b[0m\u001b[0mpasses\u001b[0m\u001b[1;33m,\u001b[0m \u001b[0malpha\u001b[0m\u001b[1;33m=\u001b[0m\u001b[0malpha\u001b[0m\u001b[1;33m,\u001b[0m \u001b[0meta\u001b[0m\u001b[1;33m=\u001b[0m\u001b[0meta\u001b[0m\u001b[1;33m,\u001b[0m\u001b[1;33m\u001b[0m\u001b[1;33m\u001b[0m\u001b[0m\n",
      "\u001b[1;32mC:\\ProgramData\\Anaconda3\\lib\\site-packages\\gensim\\models\\ldamodel.py\u001b[0m in \u001b[0;36m__init__\u001b[1;34m(self, corpus, num_topics, id2word, distributed, chunksize, passes, update_every, alpha, eta, decay, offset, eval_every, iterations, gamma_threshold, minimum_probability, random_state, ns_conf, minimum_phi_value, per_word_topics, callbacks, dtype)\u001b[0m\n\u001b[0;32m    518\u001b[0m             \u001b[0muse_numpy\u001b[0m \u001b[1;33m=\u001b[0m \u001b[0mself\u001b[0m\u001b[1;33m.\u001b[0m\u001b[0mdispatcher\u001b[0m \u001b[1;32mis\u001b[0m \u001b[1;32mnot\u001b[0m \u001b[1;32mNone\u001b[0m\u001b[1;33m\u001b[0m\u001b[1;33m\u001b[0m\u001b[0m\n\u001b[0;32m    519\u001b[0m             \u001b[0mstart\u001b[0m \u001b[1;33m=\u001b[0m \u001b[0mtime\u001b[0m\u001b[1;33m.\u001b[0m\u001b[0mtime\u001b[0m\u001b[1;33m(\u001b[0m\u001b[1;33m)\u001b[0m\u001b[1;33m\u001b[0m\u001b[1;33m\u001b[0m\u001b[0m\n\u001b[1;32m--> 520\u001b[1;33m             \u001b[0mself\u001b[0m\u001b[1;33m.\u001b[0m\u001b[0mupdate\u001b[0m\u001b[1;33m(\u001b[0m\u001b[0mcorpus\u001b[0m\u001b[1;33m,\u001b[0m \u001b[0mchunks_as_numpy\u001b[0m\u001b[1;33m=\u001b[0m\u001b[0muse_numpy\u001b[0m\u001b[1;33m)\u001b[0m\u001b[1;33m\u001b[0m\u001b[1;33m\u001b[0m\u001b[0m\n\u001b[0m\u001b[0;32m    521\u001b[0m             self.add_lifecycle_event(\n\u001b[0;32m    522\u001b[0m                 \u001b[1;34m\"created\"\u001b[0m\u001b[1;33m,\u001b[0m\u001b[1;33m\u001b[0m\u001b[1;33m\u001b[0m\u001b[0m\n",
      "\u001b[1;32mC:\\ProgramData\\Anaconda3\\lib\\site-packages\\gensim\\models\\ldamulticore.py\u001b[0m in \u001b[0;36mupdate\u001b[1;34m(self, corpus, chunks_as_numpy)\u001b[0m\n\u001b[0;32m    314\u001b[0m             \u001b[1;31m# wait for all outstanding jobs to finish\u001b[0m\u001b[1;33m\u001b[0m\u001b[1;33m\u001b[0m\u001b[1;33m\u001b[0m\u001b[0m\n\u001b[0;32m    315\u001b[0m             \u001b[1;32mwhile\u001b[0m \u001b[0mqueue_size\u001b[0m\u001b[1;33m[\u001b[0m\u001b[1;36m0\u001b[0m\u001b[1;33m]\u001b[0m \u001b[1;33m>\u001b[0m \u001b[1;36m0\u001b[0m\u001b[1;33m:\u001b[0m\u001b[1;33m\u001b[0m\u001b[1;33m\u001b[0m\u001b[0m\n\u001b[1;32m--> 316\u001b[1;33m                 \u001b[0mprocess_result_queue\u001b[0m\u001b[1;33m(\u001b[0m\u001b[0mforce\u001b[0m\u001b[1;33m=\u001b[0m\u001b[1;32mTrue\u001b[0m\u001b[1;33m)\u001b[0m\u001b[1;33m\u001b[0m\u001b[1;33m\u001b[0m\u001b[0m\n\u001b[0m\u001b[0;32m    317\u001b[0m \u001b[1;33m\u001b[0m\u001b[0m\n\u001b[0;32m    318\u001b[0m             \u001b[1;32mif\u001b[0m \u001b[0mreallen\u001b[0m \u001b[1;33m!=\u001b[0m \u001b[0mlencorpus\u001b[0m\u001b[1;33m:\u001b[0m\u001b[1;33m\u001b[0m\u001b[1;33m\u001b[0m\u001b[0m\n",
      "\u001b[1;32mC:\\ProgramData\\Anaconda3\\lib\\site-packages\\gensim\\models\\ldamulticore.py\u001b[0m in \u001b[0;36mprocess_result_queue\u001b[1;34m(force)\u001b[0m\n\u001b[0;32m    272\u001b[0m             \"\"\"\n\u001b[0;32m    273\u001b[0m             \u001b[0mmerged_new\u001b[0m \u001b[1;33m=\u001b[0m \u001b[1;32mFalse\u001b[0m\u001b[1;33m\u001b[0m\u001b[1;33m\u001b[0m\u001b[0m\n\u001b[1;32m--> 274\u001b[1;33m             \u001b[1;32mwhile\u001b[0m \u001b[1;32mnot\u001b[0m \u001b[0mresult_queue\u001b[0m\u001b[1;33m.\u001b[0m\u001b[0mempty\u001b[0m\u001b[1;33m(\u001b[0m\u001b[1;33m)\u001b[0m\u001b[1;33m:\u001b[0m\u001b[1;33m\u001b[0m\u001b[1;33m\u001b[0m\u001b[0m\n\u001b[0m\u001b[0;32m    275\u001b[0m                 \u001b[0mother\u001b[0m\u001b[1;33m.\u001b[0m\u001b[0mmerge\u001b[0m\u001b[1;33m(\u001b[0m\u001b[0mresult_queue\u001b[0m\u001b[1;33m.\u001b[0m\u001b[0mget\u001b[0m\u001b[1;33m(\u001b[0m\u001b[1;33m)\u001b[0m\u001b[1;33m)\u001b[0m\u001b[1;33m\u001b[0m\u001b[1;33m\u001b[0m\u001b[0m\n\u001b[0;32m    276\u001b[0m                 \u001b[0mqueue_size\u001b[0m\u001b[1;33m[\u001b[0m\u001b[1;36m0\u001b[0m\u001b[1;33m]\u001b[0m \u001b[1;33m-=\u001b[0m \u001b[1;36m1\u001b[0m\u001b[1;33m\u001b[0m\u001b[1;33m\u001b[0m\u001b[0m\n",
      "\u001b[1;32mC:\\ProgramData\\Anaconda3\\lib\\multiprocessing\\queues.py\u001b[0m in \u001b[0;36mempty\u001b[1;34m(self)\u001b[0m\n\u001b[0;32m    121\u001b[0m \u001b[1;33m\u001b[0m\u001b[0m\n\u001b[0;32m    122\u001b[0m     \u001b[1;32mdef\u001b[0m \u001b[0mempty\u001b[0m\u001b[1;33m(\u001b[0m\u001b[0mself\u001b[0m\u001b[1;33m)\u001b[0m\u001b[1;33m:\u001b[0m\u001b[1;33m\u001b[0m\u001b[1;33m\u001b[0m\u001b[0m\n\u001b[1;32m--> 123\u001b[1;33m         \u001b[1;32mreturn\u001b[0m \u001b[1;32mnot\u001b[0m \u001b[0mself\u001b[0m\u001b[1;33m.\u001b[0m\u001b[0m_poll\u001b[0m\u001b[1;33m(\u001b[0m\u001b[1;33m)\u001b[0m\u001b[1;33m\u001b[0m\u001b[1;33m\u001b[0m\u001b[0m\n\u001b[0m\u001b[0;32m    124\u001b[0m \u001b[1;33m\u001b[0m\u001b[0m\n\u001b[0;32m    125\u001b[0m     \u001b[1;32mdef\u001b[0m \u001b[0mfull\u001b[0m\u001b[1;33m(\u001b[0m\u001b[0mself\u001b[0m\u001b[1;33m)\u001b[0m\u001b[1;33m:\u001b[0m\u001b[1;33m\u001b[0m\u001b[1;33m\u001b[0m\u001b[0m\n",
      "\u001b[1;32mC:\\ProgramData\\Anaconda3\\lib\\multiprocessing\\connection.py\u001b[0m in \u001b[0;36mpoll\u001b[1;34m(self, timeout)\u001b[0m\n\u001b[0;32m    255\u001b[0m         \u001b[0mself\u001b[0m\u001b[1;33m.\u001b[0m\u001b[0m_check_closed\u001b[0m\u001b[1;33m(\u001b[0m\u001b[1;33m)\u001b[0m\u001b[1;33m\u001b[0m\u001b[1;33m\u001b[0m\u001b[0m\n\u001b[0;32m    256\u001b[0m         \u001b[0mself\u001b[0m\u001b[1;33m.\u001b[0m\u001b[0m_check_readable\u001b[0m\u001b[1;33m(\u001b[0m\u001b[1;33m)\u001b[0m\u001b[1;33m\u001b[0m\u001b[1;33m\u001b[0m\u001b[0m\n\u001b[1;32m--> 257\u001b[1;33m         \u001b[1;32mreturn\u001b[0m \u001b[0mself\u001b[0m\u001b[1;33m.\u001b[0m\u001b[0m_poll\u001b[0m\u001b[1;33m(\u001b[0m\u001b[0mtimeout\u001b[0m\u001b[1;33m)\u001b[0m\u001b[1;33m\u001b[0m\u001b[1;33m\u001b[0m\u001b[0m\n\u001b[0m\u001b[0;32m    258\u001b[0m \u001b[1;33m\u001b[0m\u001b[0m\n\u001b[0;32m    259\u001b[0m     \u001b[1;32mdef\u001b[0m \u001b[0m__enter__\u001b[0m\u001b[1;33m(\u001b[0m\u001b[0mself\u001b[0m\u001b[1;33m)\u001b[0m\u001b[1;33m:\u001b[0m\u001b[1;33m\u001b[0m\u001b[1;33m\u001b[0m\u001b[0m\n",
      "\u001b[1;32mC:\\ProgramData\\Anaconda3\\lib\\multiprocessing\\connection.py\u001b[0m in \u001b[0;36m_poll\u001b[1;34m(self, timeout)\u001b[0m\n\u001b[0;32m    328\u001b[0m                         _winapi.PeekNamedPipe(self._handle)[0] != 0):\n\u001b[0;32m    329\u001b[0m                 \u001b[1;32mreturn\u001b[0m \u001b[1;32mTrue\u001b[0m\u001b[1;33m\u001b[0m\u001b[1;33m\u001b[0m\u001b[0m\n\u001b[1;32m--> 330\u001b[1;33m             \u001b[1;32mreturn\u001b[0m \u001b[0mbool\u001b[0m\u001b[1;33m(\u001b[0m\u001b[0mwait\u001b[0m\u001b[1;33m(\u001b[0m\u001b[1;33m[\u001b[0m\u001b[0mself\u001b[0m\u001b[1;33m]\u001b[0m\u001b[1;33m,\u001b[0m \u001b[0mtimeout\u001b[0m\u001b[1;33m)\u001b[0m\u001b[1;33m)\u001b[0m\u001b[1;33m\u001b[0m\u001b[1;33m\u001b[0m\u001b[0m\n\u001b[0m\u001b[0;32m    331\u001b[0m \u001b[1;33m\u001b[0m\u001b[0m\n\u001b[0;32m    332\u001b[0m         \u001b[1;32mdef\u001b[0m \u001b[0m_get_more_data\u001b[0m\u001b[1;33m(\u001b[0m\u001b[0mself\u001b[0m\u001b[1;33m,\u001b[0m \u001b[0mov\u001b[0m\u001b[1;33m,\u001b[0m \u001b[0mmaxsize\u001b[0m\u001b[1;33m)\u001b[0m\u001b[1;33m:\u001b[0m\u001b[1;33m\u001b[0m\u001b[1;33m\u001b[0m\u001b[0m\n",
      "\u001b[1;32mC:\\ProgramData\\Anaconda3\\lib\\multiprocessing\\connection.py\u001b[0m in \u001b[0;36mwait\u001b[1;34m(object_list, timeout)\u001b[0m\n\u001b[0;32m    853\u001b[0m                     \u001b[1;31m# start an overlapped read of length zero\u001b[0m\u001b[1;33m\u001b[0m\u001b[1;33m\u001b[0m\u001b[1;33m\u001b[0m\u001b[0m\n\u001b[0;32m    854\u001b[0m                     \u001b[1;32mtry\u001b[0m\u001b[1;33m:\u001b[0m\u001b[1;33m\u001b[0m\u001b[1;33m\u001b[0m\u001b[0m\n\u001b[1;32m--> 855\u001b[1;33m                         \u001b[0mov\u001b[0m\u001b[1;33m,\u001b[0m \u001b[0merr\u001b[0m \u001b[1;33m=\u001b[0m \u001b[0m_winapi\u001b[0m\u001b[1;33m.\u001b[0m\u001b[0mReadFile\u001b[0m\u001b[1;33m(\u001b[0m\u001b[0mfileno\u001b[0m\u001b[1;33m(\u001b[0m\u001b[1;33m)\u001b[0m\u001b[1;33m,\u001b[0m \u001b[1;36m0\u001b[0m\u001b[1;33m,\u001b[0m \u001b[1;32mTrue\u001b[0m\u001b[1;33m)\u001b[0m\u001b[1;33m\u001b[0m\u001b[1;33m\u001b[0m\u001b[0m\n\u001b[0m\u001b[0;32m    856\u001b[0m                     \u001b[1;32mexcept\u001b[0m \u001b[0mOSError\u001b[0m \u001b[1;32mas\u001b[0m \u001b[0me\u001b[0m\u001b[1;33m:\u001b[0m\u001b[1;33m\u001b[0m\u001b[1;33m\u001b[0m\u001b[0m\n\u001b[0;32m    857\u001b[0m                         \u001b[0mov\u001b[0m\u001b[1;33m,\u001b[0m \u001b[0merr\u001b[0m \u001b[1;33m=\u001b[0m \u001b[1;32mNone\u001b[0m\u001b[1;33m,\u001b[0m \u001b[0me\u001b[0m\u001b[1;33m.\u001b[0m\u001b[0mwinerror\u001b[0m\u001b[1;33m\u001b[0m\u001b[1;33m\u001b[0m\u001b[0m\n",
      "\u001b[1;31mKeyboardInterrupt\u001b[0m: "
     ]
    }
   ],
   "source": [
    "from pprint import pprint\n",
    "\n",
    "NUM_TOPICS_PER_CLUSTER = 10\n",
    "abs_lda = []\n",
    "\n",
    "for i in tqdm(range(0,5)):\n",
    "    \n",
    "    print(i)\n",
    "    \n",
    "    #Change a list of words to list of lists\n",
    "    ll_words = extractDigits(data_words[i])\n",
    "#     print(ll_words)\n",
    "\n",
    "    # Create Dictionary\n",
    "    id2word_t = corpora.Dictionary(ll_words)\n",
    "#     print(id2word_t)\n",
    "    \n",
    "    # Create Corpus\n",
    "    texts_t = ll_words\n",
    "    print(texts_t)\n",
    "    \n",
    "    # Term Document Frequency\n",
    "    corpus_t = [id2word.doc2bow(text) for text in texts_t]\n",
    "    print(corpus_t)\n",
    "\n",
    "    # Build LDA model\n",
    "    lda_model = gensim.models.LdaMulticore(corpus=corpus_t,\n",
    "                                           id2word=id2word_t,\n",
    "                                           num_topics=NUM_TOPICS_PER_CLUSTER)\n",
    "        \n",
    "    abs_lda.append(lda_model[corpus_t])"
   ]
  },
  {
   "cell_type": "code",
   "execution_count": 71,
   "metadata": {},
   "outputs": [
    {
     "data": {
      "text/plain": [
       "{'0000b6da665726420ab8ac9246d526f2f44d5943': <gensim.interfaces.TransformedCorpus at 0x162c0aa1160>}"
      ]
     },
     "execution_count": 71,
     "metadata": {},
     "output_type": "execute_result"
    }
   ],
   "source": [
    "pprint(lda_model.print_topics())\n",
    "doc_lda = lda_model[abs_lda(1)]\n",
    "\n",
    "abs_lda"
   ]
  },
  {
   "cell_type": "code",
   "execution_count": 80,
   "metadata": {},
   "outputs": [
    {
     "data": {
      "text/plain": [
       "[]"
      ]
     },
     "execution_count": 80,
     "metadata": {},
     "output_type": "execute_result"
    }
   ],
   "source": [
    "abs_lda"
   ]
  },
  {
   "cell_type": "code",
   "execution_count": null,
   "metadata": {},
   "outputs": [],
   "source": []
  },
  {
   "cell_type": "code",
   "execution_count": null,
   "metadata": {},
   "outputs": [],
   "source": []
  },
  {
   "cell_type": "code",
   "execution_count": null,
   "metadata": {},
   "outputs": [],
   "source": []
  },
  {
   "cell_type": "markdown",
   "metadata": {},
   "source": [
    "#### The next cells export the filtered all_json list into a DF"
   ]
  },
  {
   "cell_type": "code",
   "execution_count": null,
   "metadata": {
    "scrolled": true
   },
   "outputs": [],
   "source": [
    "new_jj = all_json[:]\n",
    "len(new_jj)"
   ]
  },
  {
   "cell_type": "code",
   "execution_count": null,
   "metadata": {},
   "outputs": [],
   "source": [
    "import os"
   ]
  },
  {
   "cell_type": "code",
   "execution_count": null,
   "metadata": {},
   "outputs": [],
   "source": [
    "# Return the longest prefix of all list elements.\n",
    "def commonprefix(m):\n",
    "    \"Given a list of pathnames, returns the longest common leading component\"\n",
    "    if not m: return ''\n",
    "    s1 = min(m)\n",
    "    s2 = max(m)\n",
    "    for i, c in enumerate(s1):\n",
    "        if c != s2[i]:\n",
    "            return s1[:i]\n",
    "    return s1"
   ]
  },
  {
   "cell_type": "code",
   "execution_count": null,
   "metadata": {},
   "outputs": [],
   "source": [
    "commonprefix(new_jj)"
   ]
  },
  {
   "cell_type": "code",
   "execution_count": null,
   "metadata": {},
   "outputs": [],
   "source": [
    "len(new_jj)"
   ]
  },
  {
   "cell_type": "code",
   "execution_count": null,
   "metadata": {},
   "outputs": [],
   "source": [
    "df_test22 = pd.DataFrame(new_jj)\n",
    "df_test22.to_csv('Paths_JSON_clean.csv', index=False)"
   ]
  },
  {
   "cell_type": "code",
   "execution_count": null,
   "metadata": {},
   "outputs": [],
   "source": [
    "# Scrap code\n",
    "\n",
    "print(\"empty count\", meta_df['abstract'].isnull().sum())"
   ]
  },
  {
   "cell_type": "code",
   "execution_count": null,
   "metadata": {},
   "outputs": [],
   "source": [
    "print(meta_df['abstract'].notnull().sum())"
   ]
  },
  {
   "cell_type": "markdown",
   "metadata": {},
   "source": [
    "# Pushing The Code"
   ]
  },
  {
   "cell_type": "code",
   "execution_count": null,
   "metadata": {},
   "outputs": [],
   "source": [
    "!git branch \"a_new\""
   ]
  },
  {
   "cell_type": "code",
   "execution_count": null,
   "metadata": {},
   "outputs": [],
   "source": [
    "!git checkout \"a_new\""
   ]
  },
  {
   "cell_type": "code",
   "execution_count": null,
   "metadata": {},
   "outputs": [],
   "source": [
    "!git status"
   ]
  },
  {
   "cell_type": "code",
   "execution_count": null,
   "metadata": {},
   "outputs": [],
   "source": [
    "!git add ."
   ]
  },
  {
   "cell_type": "code",
   "execution_count": null,
   "metadata": {},
   "outputs": [],
   "source": [
    "!git push origin a_new"
   ]
  },
  {
   "cell_type": "code",
   "execution_count": null,
   "metadata": {},
   "outputs": [],
   "source": [
    "!git checkout main"
   ]
  },
  {
   "cell_type": "code",
   "execution_count": null,
   "metadata": {},
   "outputs": [],
   "source": [
    "!git commit -m\"More clean df\""
   ]
  },
  {
   "cell_type": "code",
   "execution_count": null,
   "metadata": {},
   "outputs": [],
   "source": [
    "!git status"
   ]
  },
  {
   "cell_type": "code",
   "execution_count": null,
   "metadata": {},
   "outputs": [],
   "source": []
  },
  {
   "cell_type": "code",
   "execution_count": null,
   "metadata": {},
   "outputs": [],
   "source": []
  },
  {
   "cell_type": "code",
   "execution_count": null,
   "metadata": {},
   "outputs": [],
   "source": []
  }
 ],
 "metadata": {
  "colab": {
   "collapsed_sections": [],
   "name": "main.ipynb",
   "provenance": []
  },
  "interpreter": {
   "hash": "01dcfc14ced2cd3f3ca8b1eab5863829d3299fc9b429a7e61faa3aaa90451b9a"
  },
  "kernelspec": {
   "display_name": "Python 3",
   "language": "python",
   "name": "python3"
  },
  "language_info": {
   "codemirror_mode": {
    "name": "ipython",
    "version": 3
   },
   "file_extension": ".py",
   "mimetype": "text/x-python",
   "name": "python",
   "nbconvert_exporter": "python",
   "pygments_lexer": "ipython3",
   "version": "3.8.5"
  }
 },
 "nbformat": 4,
 "nbformat_minor": 1
}
