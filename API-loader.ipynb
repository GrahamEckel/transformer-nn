{
 "cells": [
  {
   "cell_type": "code",
   "execution_count": 3,
   "metadata": {},
   "outputs": [],
   "source": [
    "# libs\n",
    "import pandas as pd\n",
    "import glob\n",
    "import json\n",
    "import csv\n",
    "import os\n",
    "import shutil\n",
    "import itertools\n",
    "import sys"
   ]
  },
  {
   "cell_type": "code",
   "execution_count": 4,
   "metadata": {},
   "outputs": [],
   "source": [
    "#### Global Vars & Flags\n",
    "data_main = True\n",
    "if data_main:\n",
    "    root_path = \"E:\\Data\\Kaggle-Covid\\document_parses\" # Graham's \n",
    "else:\n",
    "    root_path = \"C:\\My files\\Courses\\CIS6050\\Data\\document_parses\" # Abdullah's\n",
    "\n",
    "paths_csv = True\n",
    "\n",
    "# temp vars \n",
    "source_dir1 = \"E:\\Data\\Kaggle-Covid\\document_parses\\pdf_json\"\n",
    "source_dir2 = \"E:\\Data\\Kaggle-Covid\\document_parses\\pmc_json\"\n",
    "dest_dir = \"E:\\Data\\Kaggle-Covid\\document_parses\\\\abstracts_json\""
   ]
  },
  {
   "cell_type": "code",
   "execution_count": null,
   "metadata": {},
   "outputs": [],
   "source": [
    "#### UTILS\n",
    "\n",
    "# Create json file\n",
    "def write_to_json(file_in_any, file_out_json):\n",
    "    with open(file_out_json + \".json\", \"w\") as outfile:\n",
    "        json.dump(file_in_any, outfile)\n",
    "        \n",
    "# Copy files from one directory to another\n",
    "def copy_file_to_dir(source, destinination):\n",
    "    for filename in glob.glob(os.path.join(source_dir2, '*.*')):\n",
    "        shutil.copy(filename, dest_dir) \n",
    "\n",
    "# "
   ]
  },
  {
   "cell_type": "code",
   "execution_count": null,
   "metadata": {},
   "outputs": [],
   "source": [
    "#### NOT RUN UNLESS NECESSARY ####\n",
    "\n",
    "# creating the unique list of authors (takes like 1M minutes to run to run!!)   \n",
    "json_dir = glob.glob(f'{root_path}/**/*.json', recursive=True)\n",
    "authors_list = []\n",
    "for file in json_dir:\n",
    "    with open(file, 'r', encoding='utf-8') as f:\n",
    "        data = json.load(f)\n",
    "        for item in data[\"metadata\"][\"authors\"]:\n",
    "            if item not in authors_list:\n",
    "                authors_list.append(item)\n",
    "                \n",
    "# print(len(authors_list))\n"
   ]
  },
  {
   "cell_type": "code",
   "execution_count": null,
   "metadata": {},
   "outputs": [],
   "source": [
    "# WIP: authors are matched and text + id is added to json based on the match. Takes forever. Still WIP\n",
    "\n",
    "id = 0\n",
    "with open(\"Paths_JSON_clean.csv\", \"r\") as csv_file:\n",
    "    csv_reader = csv.reader(csv_file, delimiter=\",\")\n",
    "    \n",
    "    # itertools.islice let's us take only a couple items from csv_object item\n",
    "    for row in itertools.islice(csv_reader, 20):\n",
    "        \n",
    "        # there will be missing look ups\n",
    "        try:\n",
    "            \n",
    "            # flattens the iterator list item to string\n",
    "            filename = (''.join(row))\n",
    "            abstract_dir = str(root_path) + \"/abstracts_json/\" + filename  \n",
    "            print(abstract_dir)\n",
    "            \n",
    "            # open up the abstracts json using the filename \n",
    "            with open(abstract_dir, 'r', encoding='utf-8') as abstract:\n",
    "                abstract_data = json.load(abstract)\n",
    "                \n",
    "                # checks if an abstract exists\n",
    "                for text in abstract_data[\"abstract\"]:\n",
    "                    if text and abstract_data[\"metadata\"][\"authors\"]:\n",
    "                        for author in abstract_data[\"metadata\"][\"authors\"]:\n",
    "                            #print(len(author))\n",
    "                            with open(\"authors_test.json\", 'r', encoding='utf-8') as authors:\n",
    "                                authors_data = json.load(authors)\n",
    "                                if author in authors_data:\n",
    "                                    id += 1\n",
    "                                    loc = authors_data.index(author)  \n",
    "                                    print(text)\n",
    "                                    print(id)   \n",
    "                                    print(loc)\n",
    "                                    \n",
    "                                    #print(text)\n",
    "                                #print(author)\n",
    "                                #print(type(authors_data))\n",
    "                        print(type(text))\n",
    "                    else:\n",
    "                        continue       \n",
    "        except:\n",
    "            \n",
    "            # print the error message from sys\n",
    "            print(sys.exc_info()[0])\n",
    "            \n",
    "            continue    \n"
   ]
  },
  {
   "cell_type": "code",
   "execution_count": null,
   "metadata": {},
   "outputs": [],
   "source": []
  }
 ],
 "metadata": {
  "interpreter": {
   "hash": "01dcfc14ced2cd3f3ca8b1eab5863829d3299fc9b429a7e61faa3aaa90451b9a"
  },
  "kernelspec": {
   "display_name": "Python 3.8.8 64-bit ('NLP-startup': conda)",
   "language": "python",
   "name": "python3"
  },
  "language_info": {
   "codemirror_mode": {
    "name": "ipython",
    "version": 3
   },
   "file_extension": ".py",
   "mimetype": "text/x-python",
   "name": "python",
   "nbconvert_exporter": "python",
   "pygments_lexer": "ipython3",
   "version": "3.8.8"
  },
  "orig_nbformat": 4
 },
 "nbformat": 4,
 "nbformat_minor": 2
}
