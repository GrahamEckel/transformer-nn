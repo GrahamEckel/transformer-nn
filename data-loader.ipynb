{
 "cells": [
  {
   "cell_type": "code",
   "execution_count": null,
   "metadata": {},
   "outputs": [],
   "source": [
    "# libs\n",
    "import pandas as pd\n",
    "import glob\n",
    "import json"
   ]
  },
  {
   "cell_type": "code",
   "execution_count": null,
   "metadata": {},
   "outputs": [],
   "source": [
    "# Global Vars & Flags\n",
    "data_main = True\n",
    "if data_main:\n",
    "    root_path = \"E:\\Data\\Kaggle-Covid\\document_parses\" # Graham's \n",
    "else:\n",
    "    root_path = \"C:\\My files\\Courses\\CIS6050\\Data\\document_parses\" # Abdullah's"
   ]
  },
  {
   "cell_type": "code",
   "execution_count": null,
   "metadata": {},
   "outputs": [],
   "source": [
    "# Loading metadata csv to pandas\n",
    "metadata_path = f'{root_path}/../metadata.csv'\n",
    "meta_df = pd.read_csv(metadata_path, dtype={\n",
    "    'pubmed_id': str,\n",
    "    'Microsoft Academic Paper ID': str, \n",
    "    'doi': str\n",
    "})\n",
    "# meta_df.head()"
   ]
  },
  {
   "cell_type": "code",
   "execution_count": null,
   "metadata": {},
   "outputs": [],
   "source": [
    "# creating the unique list of authors (takes like 30 min to run!!)\n",
    "json_dir = glob.glob(f'{root_path}/**/*.json', recursive=True)\n",
    "authors_list = []\n",
    "for file in json_dir:\n",
    "    with open(file, 'r', encoding='utf-8') as f:\n",
    "        data = json.load(f)\n",
    "        for item in data[\"metadata\"][\"authors\"]:\n",
    "            if item not in authors_list:\n",
    "                authors_list.append(item)\n",
    "# print(len(authors_list))"
   ]
  },
  {
   "cell_type": "code",
   "execution_count": null,
   "metadata": {},
   "outputs": [],
   "source": [
    "# writing to json\n",
    "with open(\"authors.json\", \"w\") as outfile:\n",
    "    json.dump(authors_list, outfile)"
   ]
  }
 ],
 "metadata": {
  "interpreter": {
   "hash": "01dcfc14ced2cd3f3ca8b1eab5863829d3299fc9b429a7e61faa3aaa90451b9a"
  },
  "kernelspec": {
   "display_name": "Python 3.8.8 64-bit ('NLP-startup': conda)",
   "language": "python",
   "name": "python3"
  },
  "language_info": {
   "codemirror_mode": {
    "name": "ipython",
    "version": 3
   },
   "file_extension": ".py",
   "mimetype": "text/x-python",
   "name": "python",
   "nbconvert_exporter": "python",
   "pygments_lexer": "ipython3",
   "version": "3.8.8"
  },
  "orig_nbformat": 4
 },
 "nbformat": 4,
 "nbformat_minor": 2
}
