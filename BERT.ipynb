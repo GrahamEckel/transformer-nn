{
 "cells": [
  {
   "cell_type": "code",
   "execution_count": null,
   "metadata": {},
   "outputs": [],
   "source": [
    "# install dependencies\n",
    "# !pip install pytorch-lightning\n",
    "# !pip install spacy\n",
    "# !python -m spacy download en_core_web_md\n",
    "# !apt install libopenblas-base libomp-dev\n",
    "# %pip install faiss\n",
    "# !pip install transformers\n",
    "# !pip install sentence-transformers"
   ]
  },
  {
   "cell_type": "code",
   "execution_count": null,
   "metadata": {},
   "outputs": [],
   "source": [
    "# Import all the relevant libraries\n",
    "import csv\n",
    "import en_core_web_md\n",
    "# import faiss  #used for similarity search but only available on linux/MacOS\n",
    "import numpy as np\n",
    "import pytorch_lightning as pl\n",
    "import random\n",
    "import sklearn.preprocessing\n",
    "import spacy\n",
    "import time\n",
    "import torch\n",
    "\n",
    "from collections import defaultdict\n",
    "from datetime import datetime\n",
    "from sentence_transformers import SentenceTransformer\n",
    "from sklearn.preprocessing import normalize\n",
    "from torch.nn import functional as F\n",
    "from torch.nn.utils.rnn import pad_sequence\n",
    "from torch.utils.data import DataLoader, Dataset, random_split\n",
    "from transformers import BertTokenizer, BertModel, BertTokenizerFast, DistilBertTokenizer, DistilBertModel\n",
    "from typing import List"
   ]
  },
  {
   "cell_type": "code",
   "execution_count": null,
   "metadata": {},
   "outputs": [],
   "source": [
    "# load the entire spacy word-vector index in memory\n",
    "loaded_spacy_model = en_core_web_md.load()"
   ]
  },
  {
   "cell_type": "code",
   "execution_count": null,
   "metadata": {},
   "outputs": [],
   "source": [
    "# Fix the random seed so that we get consistent results\n",
    "torch.manual_seed(2021-11-21)\n",
    "np.random.seed(2021-11-21)"
   ]
  },
  {
   "cell_type": "code",
   "execution_count": null,
   "metadata": {},
   "outputs": [],
   "source": [
    "# load the data\n",
    "# DATA_FILE = "
   ]
  },
  {
   "cell_type": "code",
   "execution_count": null,
   "metadata": {},
   "outputs": [],
   "source": [
    "# peak the data file\n",
    "# with open(DATA_FILE, 'r', newline='\\n') as file:\n",
    "#   reader = csv.reader(file, delimiter = '\\t')\n",
    "#   i = 0\n",
    "#   while(i < 15):\n",
    "#     print(next(reader))\n",
    "#     i += 1"
   ]
  }
 ],
 "metadata": {
  "interpreter": {
   "hash": "01dcfc14ced2cd3f3ca8b1eab5863829d3299fc9b429a7e61faa3aaa90451b9a"
  },
  "kernelspec": {
   "display_name": "Python 3.8.8 64-bit ('NLP-startup': conda)",
   "language": "python",
   "name": "python3"
  },
  "language_info": {
   "codemirror_mode": {
    "name": "ipython",
    "version": 3
   },
   "file_extension": ".py",
   "mimetype": "text/x-python",
   "name": "python",
   "nbconvert_exporter": "python",
   "pygments_lexer": "ipython3",
   "version": "3.8.8"
  },
  "orig_nbformat": 4
 },
 "nbformat": 4,
 "nbformat_minor": 2
}
