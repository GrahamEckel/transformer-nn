{
 "cells": [
  {
   "cell_type": "code",
   "execution_count": 1,
   "metadata": {},
   "outputs": [],
   "source": [
    "import json\n",
    "import sys"
   ]
  },
  {
   "cell_type": "code",
   "execution_count": 2,
   "metadata": {},
   "outputs": [],
   "source": [
    "# Create json file\n",
    "def write_to_json(file_in_any, file_out_json):\n",
    "    with open(file_out_json + \".json\", \"w\") as outfile:\n",
    "        json.dump(file_in_any, outfile)"
   ]
  },
  {
   "cell_type": "code",
   "execution_count": null,
   "metadata": {},
   "outputs": [],
   "source": [
    "author_and_abstracts = {}\n",
    "with open(\"E:\\Data\\Kaggle-Covid\\\\authors\\\\authors_abstracts1.json\", 'r', encoding='utf-8') as author, open(\"E:/Data/Kaggle-Covid/papers/papers1.json\", 'r', encoding='utf-8') as papers:\n",
    "    authors = json.load(author)\n",
    "    papers = json.load(papers)\n",
    "    for authID in authors:\n",
    "        if 'authorId' in authID:\n",
    "            key = str(authID['authorId'])\n",
    "            author_and_abstracts.setdefault(key, [])\n",
    "            #print(\"finding ID:\", authID['authorId'])\n",
    "            for j in papers:\n",
    "                if j:\n",
    "                    try:        \n",
    "                        for k in j[\"authors\"]:\n",
    "                            if k[\"authorId\"] == key:\n",
    "                                author_and_abstracts[key].append(j[\"abstract\"])\n",
    "                            else:\n",
    "                                continue\n",
    "                    except:   \n",
    "                        #print the error message from sys\n",
    "                        print(\"error:\", sys.exc_info()[0])\n",
    "                else:\n",
    "                    continue\n",
    "        else:\n",
    "            continue"
   ]
  },
  {
   "cell_type": "code",
   "execution_count": 5,
   "metadata": {},
   "outputs": [],
   "source": [
    "# save this to a function\n",
    "\n",
    "files = [\"E:\\Git Repos\\\\transformer-nn\\\\author_and_abstracts.json\", \"E:\\Git Repos\\\\transformer-nn\\\\author_and_abstracts2.json\"]\n",
    "result = []\n",
    "\n",
    "for i in files:\n",
    "    with open(i, 'r',encoding='utf-8') as infile:\n",
    "        result.append(json.load(infile))\n",
    "        \n",
    "with open('AuthAbs_full.json', 'w') as outfile:\n",
    "    json.dump(result, outfile)\n"
   ]
  },
  {
   "cell_type": "code",
   "execution_count": null,
   "metadata": {},
   "outputs": [],
   "source": []
  }
 ],
 "metadata": {
  "interpreter": {
   "hash": "01dcfc14ced2cd3f3ca8b1eab5863829d3299fc9b429a7e61faa3aaa90451b9a"
  },
  "kernelspec": {
   "display_name": "Python 3.8.8 64-bit ('NLP-startup': conda)",
   "language": "python",
   "name": "python3"
  },
  "language_info": {
   "codemirror_mode": {
    "name": "ipython",
    "version": 3
   },
   "file_extension": ".py",
   "mimetype": "text/x-python",
   "name": "python",
   "nbconvert_exporter": "python",
   "pygments_lexer": "ipython3",
   "version": "3.8.8"
  },
  "orig_nbformat": 4
 },
 "nbformat": 4,
 "nbformat_minor": 2
}
